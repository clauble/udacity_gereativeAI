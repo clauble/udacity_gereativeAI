{
 "cells": [
  {
   "cell_type": "markdown",
   "metadata": {},
   "source": [
    "# Face Recognition with Eigenfaces and DLIB"
   ]
  },
  {
   "cell_type": "markdown",
   "metadata": {},
   "source": [
    "In this exercise, we will explore two different methods for face recognition to compare classical and deep learning approaches. The first method will be a classical approach based on Eigenfaces, and the second will be a deep learning approach using DLIB."
   ]
  },
  {
   "cell_type": "markdown",
   "metadata": {},
   "source": [
    "# Preparation"
   ]
  },
  {
   "metadata": {
    "ExecuteTime": {
     "end_time": "2025-03-21T13:07:58.568403Z",
     "start_time": "2025-03-21T13:07:58.560906Z"
    }
   },
   "cell_type": "code",
   "source": [
    "# Proxy settings when running on my telekom computer:\n",
    "import os\n",
    "if 'A306709' in os.environ['USERNAME']:\n",
    "    print(\"Running on Christophs computer: update proxy settings.\")\n",
    "    os.environ[\"http_proxy\"] = \"http://sia-lb.telekom.de:8080\"\n",
    "    os.environ[\"https_proxy\"] = \"http://sia-lb.telekom.de:8080\"\n",
    "else:\n",
    "    print(\"Running on any computer but not Christophs: don't update any proxy settings.\")"
   ],
   "outputs": [
    {
     "name": "stdout",
     "output_type": "stream",
     "text": [
      "Running on Christophs computer: update proxy settings.\n"
     ]
    }
   ],
   "execution_count": 1
  },
  {
   "cell_type": "code",
   "metadata": {
    "ExecuteTime": {
     "end_time": "2025-03-21T12:36:43.390708Z",
     "start_time": "2025-03-21T12:36:32.594162Z"
    }
   },
   "source": [
    "import matplotlib.pyplot as plt\n",
    "import numpy as np\n",
    "from sklearn.datasets import fetch_lfw_people\n",
    "from sklearn.model_selection import train_test_split\n",
    "from sklearn.metrics import accuracy_score"
   ],
   "outputs": [],
   "execution_count": 2
  },
  {
   "cell_type": "markdown",
   "metadata": {},
   "source": [
    "### Loading the dataset\n",
    "\n",
    "We use the Labeled Faces in the Wild (LFW) people dataset from sklearn, which is a database of aligned grayscale face photographs. It contains 13,233 images of 5,749 people. Each image is centered on a single face. \n",
    "\n",
    "We will filter the dataset using `min_faces_per_person=10`, which will leave us with 1183 images of 22 people.\n",
    "\n",
    "### Task 1: Load the dataset and visualize images"
   ]
  },
  {
   "cell_type": "code",
   "metadata": {
    "ExecuteTime": {
     "end_time": "2025-03-21T12:46:31.401893Z",
     "start_time": "2025-03-21T12:44:38.155365Z"
    }
   },
   "source": [
    "faces = fetch_lfw_people(min_faces_per_person=10, color=True)\n",
    "\n",
    "X = faces.images\n",
    "y = faces.target\n",
    "\n",
    "IMG_H = X.shape[1]\n",
    "IMG_W = X.shape[2]\n",
    "N_IDENTITIES = faces.target_names.shape[0]\n",
    "\n",
    "# TODO: Split the data into a training and testing set, with 20% of the data for testing. Use a random_state of 42.\n",
    "# Hint: use train_test_split from sklearn.model_selection (https://scikit-learn.org/stable/modules/generated/sklearn.model_selection.train_test_split.html)\n",
    "\n",
    "X_train, X_test, y_train, y_test = train_test_split(X, y, test_size=0.2, random_state=42)\n",
    "\n",
    "print(f'{X_train.shape=}')\n",
    "print(f'{X_test.shape=}')\n",
    "print(f'{y_train.shape=}')\n",
    "print(f'{y_test.shape=}')\n",
    "print('Number of identities:', N_IDENTITIES)"
   ],
   "outputs": [
    {
     "name": "stdout",
     "output_type": "stream",
     "text": [
      "X_train.shape=(3459, 62, 47, 3)\n",
      "X_test.shape=(865, 62, 47, 3)\n",
      "y_train.shape=(3459,)\n",
      "y_test.shape=(865,)\n",
      "Number of identities: 158\n"
     ]
    }
   ],
   "execution_count": 3
  },
  {
   "cell_type": "code",
   "metadata": {
    "ExecuteTime": {
     "end_time": "2025-03-21T12:46:49.219016Z",
     "start_time": "2025-03-21T12:46:49.122573Z"
    }
   },
   "source": [
    "# TODO: visualize some images\n",
    "# Hint: use plt.imshow (https://matplotlib.org/stable/api/_as_gen/matplotlib.pyplot.imshow.html)\n",
    "plt.imshow(X[1])\n",
    "#plt.imshow(X[3])\n"
   ],
   "outputs": [
    {
     "data": {
      "text/plain": [
       "<matplotlib.image.AxesImage at 0x23a7197b9b0>"
      ]
     },
     "execution_count": 5,
     "metadata": {},
     "output_type": "execute_result"
    },
    {
     "data": {
      "text/plain": [
       "<Figure size 640x480 with 1 Axes>"
      ],
      "image/png": "[encoded data removed]"
     },
     "metadata": {},
     "output_type": "display_data"
    }
   ],
   "execution_count": 5
  },
  {
   "cell_type": "markdown",
   "metadata": {},
   "source": [
    "## Eigenfaces\n",
    "\n",
    "Paper: https://direct.mit.edu/jocn/article/3/1/71/3025/Eigenfaces-for-Recognition\n",
    "\n",
    "Eigenfaces is a classical approach to face recognition. It is based on principal component analysis (PCA), which is a linear dimensionality reduction technique. The idea behind PCA is to find a lower-dimensional representation of a dataset that contains as much information as possible but with fewer features. In our case, each image is a data point with 62*47*3=8742 features. We will use PCA to reduce the dimensionality of the dataset to 150 features.\n",
    "\n",
    "For the purposes of this exercise, you can think of PCA as simply a classical featurizer. It takes a single image as an input, and outputs a vector of 150 features which we can then use to determine if two images are of the same person.\n",
    "\n",
    "For the classifier, we will use a Linear Support Vector Classifier (LinearSVC). This is a linear classifier that uses the support vector machine (SVM) algorithm. Essentially, it finds optimal hyperplanes that separate the data points into classes."
   ]
  },
  {
   "cell_type": "code",
   "metadata": {
    "ExecuteTime": {
     "end_time": "2025-03-21T12:47:38.213931Z",
     "start_time": "2025-03-21T12:47:37.838738Z"
    }
   },
   "source": [
    "from sklearn.svm import LinearSVC\n",
    "from sklearn.decomposition import PCA\n",
    "from sklearn.pipeline import make_pipeline"
   ],
   "outputs": [],
   "execution_count": 6
  },
  {
   "cell_type": "markdown",
   "metadata": {},
   "source": [
    "### Your Tasks:\n",
    "\n",
    "1. Create a PCA featurizer with 150 components (https://scikit-learn.org/stable/modules/generated/sklearn.decomposition.PCA.html)\n",
    "2. Create a LinearSVC classifier (https://scikit-learn.org/stable/modules/generated/sklearn.svm.LinearSVC.html#sklearn.svm.LinearSVC)\n",
    "3. Create a model using `make_pipeline` (https://scikit-learn.org/stable/modules/generated/sklearn.pipeline.make_pipeline.html)\n",
    "4. Fit the model to the training data using `model.fit`\n",
    "5. Evaluate the model on the test data using `model.score`\n",
    "\n",
    "Hints:\n",
    "1. Training and testing data must be in the shape (n_samples, n_features), you may need to reshape the data."
   ]
  },
  {
   "cell_type": "code",
   "metadata": {
    "ExecuteTime": {
     "end_time": "2025-03-21T12:50:57.581411Z",
     "start_time": "2025-03-21T12:50:41.810448Z"
    }
   },
   "source": [
    "# Use PCA to reduce the dimensionality of the data and consider only the most important features\n",
    "# TODO\n",
    "pca = PCA(n_components=150)\n",
    "\n",
    "# Use a linear support vector classifier to classify the faces\n",
    "# TODO\n",
    "svc = LinearSVC()\n",
    "\n",
    "# Combine the two into a single pipeline for simplicity\n",
    "# TODO\n",
    "model = make_pipeline(pca, svc)\n",
    "\n",
    "# Note: need to reshape data for PCA in the shape (n_samples, n_features)\n",
    "# TODO\n",
    "X_train_features = X_train.reshape(-1, IMG_H * IMG_W * 3)\n",
    "X_test_features = X_test.reshape(-1, IMG_H * IMG_W * 3)\n",
    "\n",
    "# Fit the model to the training data\n",
    "# TODO\n",
    "model.fit(X_train_features, y_train)\n",
    "\n",
    "# Evaluate the model\n",
    "# TODO\n",
    "eval_acc = model.score(X_test_features, y_test)\n",
    "print('Evaluation accuracy:', eval_acc)\n"
   ],
   "outputs": [
    {
     "name": "stdout",
     "output_type": "stream",
     "text": [
      "Evaluation accuracy: 0.47167630057803467\n"
     ]
    }
   ],
   "execution_count": 7
  },
  {
   "cell_type": "markdown",
   "metadata": {},
   "source": [
    "We should be getting around 70% accuracy with this model. This is pretty good and way better than random! However, we still make mistakes about 30% of the time and can do a lot better with a deep learning approach."
   ]
  },
  {
   "cell_type": "markdown",
   "metadata": {},
   "source": [
    "# Now let's try a deep learning approach with DLIB\n",
    "\n",
    "DLIB is a C++ library with Python bindings that contains implementations of many popular computer vision algorithms. It is a very powerful library, and we will only be using a small part of it for this exercise.\n",
    "\n",
    "DLIB has a pre-trained face recognition model. It is a deep convolutional neural network (CNN) that takes in an image of a face and outputs a 128-dimensional vector, or latent. The idea is that if two images are of the same person, the distance between the two vectors will be small. If the images are of different people, the distance will be large.\n",
    "\n",
    "We're going to use the `face_recognition` library to work with DLIB and perform face recognition."
   ]
  },
  {
   "cell_type": "code",
   "metadata": {
    "ExecuteTime": {
     "end_time": "2025-03-21T13:19:38.941827Z",
     "start_time": "2025-03-21T13:19:38.474292Z"
    }
   },
   "source": [
    "import face_recognition"
   ],
   "outputs": [
    {
     "ename": "ModuleNotFoundError",
     "evalue": "No module named 'face_recognition'",
     "output_type": "error",
     "traceback": [
      "\u001B[31m---------------------------------------------------------------------------\u001B[39m",
      "\u001B[31mModuleNotFoundError\u001B[39m                       Traceback (most recent call last)",
      "\u001B[36mCell\u001B[39m\u001B[36m \u001B[39m\u001B[32mIn[2]\u001B[39m\u001B[32m, line 1\u001B[39m\n\u001B[32m----> \u001B[39m\u001B[32m1\u001B[39m \u001B[38;5;28;01mimport\u001B[39;00m\u001B[38;5;250m \u001B[39m\u001B[34;01mface_recognition\u001B[39;00m\n",
      "\u001B[31mModuleNotFoundError\u001B[39m: No module named 'face_recognition'"
     ]
    }
   ],
   "execution_count": 2
  },
  {
   "cell_type": "markdown",
   "metadata": {},
   "source": [
    "The `face_recognition` library has a function `face_encodings` that takes in an image and returns the 128-dimensional vector. We can use this to featurize our images. To call it, we need to provide the images and the bounding boxes of the faces in the images. Since we know that there is only one face in each image and they're aligned, we can just use the entire image as the bounding box as follows:\n",
    "\n",
    "```python\n",
    "face_locations = (0, IMG_W, IMG_H, 0)\n",
    "face_encodings = face_recognition.face_encodings(image, face_locations)\n",
    "```\n",
    "\n",
    "Our pipeline for face recognition will be be the same as before, except instead of PCA we'll use `face_recognition` to featurize the images. The classifier will still be the same, a LinearSVC, trained on the image embeddings."
   ]
  },
  {
   "cell_type": "code",
   "execution_count": null,
   "metadata": {},
   "outputs": [],
   "source": [
    "face_locations = [(0, IMG_W, IMG_H, 0)]\n",
    "\n",
    "# TODO: convert images into the right format (0-255, 8-bit unsigned integers)\n",
    "imgs_train = (X_train * 255).astype(np.uint8)\n",
    "imgs_test = (X_test * 255).astype(np.uint8)\n",
    "\n",
    "train_embs = np.zeros((len(imgs_train), 128))\n",
    "for i, img in enumerate(imgs_train):\n",
    "    # TODO: compute the embeddings for the training images\n",
    "    embs = face_recognition.face_encodings(img, face_locations)\n",
    "    train_embs[i] = embs[0]\n",
    "\n",
    "# TODO: create and train a linear support vector classifier (LinearSVC) on the embeddings (train_embs) and the labels (y_train)\n",
    "a = LinearSVC()\n",
    "a.fit(train_embs, y_train)\n",
    "\n",
    "# TODO: compute the accuracy on the test set. Make sure to featurize the test images first, the same as the training images\n",
    "test_embs = np.zeros((len(imgs_test), 128))\n",
    "for i, img in enumerate(imgs_test):\n",
    "    # TODO: compute the embeddings for the testing images\n",
    "    embs = face_recognition.face_encodings(img, face_locations)\n",
    "    test_embs[i] = embs[0]\n",
    "\n",
    "print('Accuracy with DLIB:', a.score(test_embs, y_test))\n"
   ]
  },
  {
   "cell_type": "markdown",
   "metadata": {},
   "source": [
    "This is a lot better!"
   ]
  },
  {
   "cell_type": "markdown",
   "metadata": {},
   "source": []
  }
 ],
 "metadata": {
  "kernelspec": {
   "display_name": "Python 3 (ipykernel)",
   "language": "python",
   "name": "python3"
  },
  "language_info": {
   "codemirror_mode": {
    "name": "ipython",
    "version": 3
   },
   "file_extension": ".py",
   "mimetype": "text/x-python",
   "name": "python",
   "nbconvert_exporter": "python",
   "pygments_lexer": "ipython3",
   "version": "3.11.8"
  }
 },
 "nbformat": 4,
 "nbformat_minor": 2
}
