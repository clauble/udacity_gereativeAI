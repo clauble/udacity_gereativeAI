{
 "cells": [
  {
   "cell_type": "markdown",
   "id": "32a86128",
   "metadata": {},
   "source": [
    "# Step 2: Finding Relevant Data"
   ]
  },
  {
   "cell_type": "markdown",
   "id": "6e411bad",
   "metadata": {},
   "source": [
    "Add your API key to the cell below then run it."
   ]
  },
  {
   "cell_type": "code",
   "id": "bda6008b",
   "metadata": {
    "ExecuteTime": {
     "end_time": "2025-03-14T18:15:09.645113Z",
     "start_time": "2025-03-14T18:15:09.639558Z"
    }
   },
   "source": [
    "import os\n",
    "if 'A306709' in os.environ['USERNAME']:\n",
    "    print(\"Running on Christophs computer: update proxy settings.\")\n",
    "    os.environ[\"http_proxy\"] = \"http://sia-lb.telekom.de:8080\"\n",
    "    os.environ[\"https_proxy\"] = \"http://sia-lb.telekom.de:8080\"\n",
    "else:\n",
    "    print(\"Running on any computer but not Christophs: don't update any proxy settings.\")\n",
    "\n",
    "import openai\n",
    "openai.api_base = \"https://openai.vocareum.com/v1\"\n",
    "openai.api_key = os.getenv(\"OPENAI_API_KEY\")\n"
   ],
   "outputs": [
    {
     "name": "stdout",
     "output_type": "stream",
     "text": [
      "Running on Christophs computer: update proxy settings.\n"
     ]
    }
   ],
   "execution_count": 9
  },
  {
   "cell_type": "markdown",
   "id": "c94891e7",
   "metadata": {},
   "source": [
    "The code below loads in the embeddings you previously created. Run it as-is."
   ]
  },
  {
   "cell_type": "code",
   "id": "8079085d",
   "metadata": {
    "ExecuteTime": {
     "end_time": "2025-03-14T18:15:10.576172Z",
     "start_time": "2025-03-14T18:15:09.674646Z"
    }
   },
   "source": [
    "import numpy as np\n",
    "import pandas as pd\n",
    "\n",
    "df = pd.read_csv(\"embeddings.csv\", index_col=0)\n",
    "df[\"embeddings\"] = df[\"embeddings\"].apply(eval).apply(np.array)\n",
    "df"
   ],
   "outputs": [
    {
     "data": {
      "text/plain": [
       "                                                  text  \\\n",
       "0     – 2022 (MMXXII) was a common year starting on...   \n",
       "1     – The year began with another wave in the COV...   \n",
       "2     – 2022 was also dominated by wars and armed c...   \n",
       "3     – The ongoing Russian invasion of Ukraine esc...   \n",
       "4     January 1 – The Regional Comprehensive Econom...   \n",
       "..                                                 ...   \n",
       "193  December 24 – 2022 Fijian general election: Th...   \n",
       "194  December 29 – Brazilian football legend Pelé d...   \n",
       "195  December 31 – Former Pope Benedict XVI dies at...   \n",
       "196  December 7 – The world population was estimate...   \n",
       "197  December 7 –  Media related to 2022 at Wikimed...   \n",
       "\n",
       "                                            embeddings  \n",
       "0    [-2.4516581106581725e-05, -0.01798415742814541...  \n",
       "1    [-0.004297760780900717, -0.01981227844953537, ...  \n",
       "2    [-0.009628579951822758, -0.015318196266889572,...  \n",
       "3    [-0.014748847112059593, -0.007639929186552763,...  \n",
       "4    [-0.0005859995144419372, -0.024158434942364693...  \n",
       "..                                                 ...  \n",
       "193  [-0.011724342592060566, -0.009384616278111935,...  \n",
       "194  [-0.007581493351608515, 0.0041535887867212296,...  \n",
       "195  [0.023601267486810684, 0.007735467050224543, -...  \n",
       "196  [-0.004104986786842346, -0.014414746314287186,...  \n",
       "197  [-0.010552957653999329, -0.01815314218401909, ...  \n",
       "\n",
       "[198 rows x 2 columns]"
      ],
      "text/html": [
       "<div>\n",
       "<style scoped>\n",
       "    .dataframe tbody tr th:only-of-type {\n",
       "        vertical-align: middle;\n",
       "    }\n",
       "\n",
       "    .dataframe tbody tr th {\n",
       "        vertical-align: top;\n",
       "    }\n",
       "\n",
       "    .dataframe thead th {\n",
       "        text-align: right;\n",
       "    }\n",
       "</style>\n",
       "<table border=\"1\" class=\"dataframe\">\n",
       "  <thead>\n",
       "    <tr style=\"text-align: right;\">\n",
       "      <th></th>\n",
       "      <th>text</th>\n",
       "      <th>embeddings</th>\n",
       "    </tr>\n",
       "  </thead>\n",
       "  <tbody>\n",
       "    <tr>\n",
       "      <th>0</th>\n",
       "      <td>– 2022 (MMXXII) was a common year starting on...</td>\n",
       "      <td>[-2.4516581106581725e-05, -0.01798415742814541...</td>\n",
       "    </tr>\n",
       "    <tr>\n",
       "      <th>1</th>\n",
       "      <td>– The year began with another wave in the COV...</td>\n",
       "      <td>[-0.004297760780900717, -0.01981227844953537, ...</td>\n",
       "    </tr>\n",
       "    <tr>\n",
       "      <th>2</th>\n",
       "      <td>– 2022 was also dominated by wars and armed c...</td>\n",
       "      <td>[-0.009628579951822758, -0.015318196266889572,...</td>\n",
       "    </tr>\n",
       "    <tr>\n",
       "      <th>3</th>\n",
       "      <td>– The ongoing Russian invasion of Ukraine esc...</td>\n",
       "      <td>[-0.014748847112059593, -0.007639929186552763,...</td>\n",
       "    </tr>\n",
       "    <tr>\n",
       "      <th>4</th>\n",
       "      <td>January 1 – The Regional Comprehensive Econom...</td>\n",
       "      <td>[-0.0005859995144419372, -0.024158434942364693...</td>\n",
       "    </tr>\n",
       "    <tr>\n",
       "      <th>...</th>\n",
       "      <td>...</td>\n",
       "      <td>...</td>\n",
       "    </tr>\n",
       "    <tr>\n",
       "      <th>193</th>\n",
       "      <td>December 24 – 2022 Fijian general election: Th...</td>\n",
       "      <td>[-0.011724342592060566, -0.009384616278111935,...</td>\n",
       "    </tr>\n",
       "    <tr>\n",
       "      <th>194</th>\n",
       "      <td>December 29 – Brazilian football legend Pelé d...</td>\n",
       "      <td>[-0.007581493351608515, 0.0041535887867212296,...</td>\n",
       "    </tr>\n",
       "    <tr>\n",
       "      <th>195</th>\n",
       "      <td>December 31 – Former Pope Benedict XVI dies at...</td>\n",
       "      <td>[0.023601267486810684, 0.007735467050224543, -...</td>\n",
       "    </tr>\n",
       "    <tr>\n",
       "      <th>196</th>\n",
       "      <td>December 7 – The world population was estimate...</td>\n",
       "      <td>[-0.004104986786842346, -0.014414746314287186,...</td>\n",
       "    </tr>\n",
       "    <tr>\n",
       "      <th>197</th>\n",
       "      <td>December 7 –  Media related to 2022 at Wikimed...</td>\n",
       "      <td>[-0.010552957653999329, -0.01815314218401909, ...</td>\n",
       "    </tr>\n",
       "  </tbody>\n",
       "</table>\n",
       "<p>198 rows × 2 columns</p>\n",
       "</div>"
      ]
     },
     "execution_count": 10,
     "metadata": {},
     "output_type": "execute_result"
    }
   ],
   "execution_count": 10
  },
  {
   "cell_type": "markdown",
   "id": "f9f55c03",
   "metadata": {},
   "source": [
    "## TODO 1: Create Embeddings for the User's Question\n",
    "\n",
    "In the previous exercise, you were given the code to create embeddings for everything in the dataset. Now your task is to create embeddings for just one string: the user's question. Assign the result to the variable `question_embeddings`. This variable should contain a list of 1,536 floating point numbers, and the provided code will print the first 100 once `question_embeddings` has been created correctly.\n",
    "\n",
    "If you're getting stuck, you can click to reveal the solution then copy and paste this into the cell below.\n",
    "\n",
    "---\n",
    "\n",
    "<details>\n",
    "    <summary style=\"cursor: pointer\"><strong>Solution (click to show/hide)</strong></summary>\n",
    "\n",
    "```python\n",
    "EMBEDDING_MODEL_NAME = \"text-embedding-ada-002\"\n",
    "USER_QUESTION = \"\"\"What were the estimated damages of the 2023 \\\n",
    "Turkey-Syria earthquake?\"\"\"\n",
    "\n",
    "# Generate the embedding response\n",
    "response = openai.Embedding.create(\n",
    "    input=USER_QUESTION,\n",
    "    engine=EMBEDDING_MODEL_NAME\n",
    ")\n",
    "\n",
    "# Extract the embeddings from the response\n",
    "question_embeddings = response[\"data\"][0][\"embedding\"]\n",
    "\n",
    "print(question_embeddings[:100])\n",
    "```\n",
    "\n",
    "</details>"
   ]
  },
  {
   "cell_type": "code",
   "id": "fd5e0998",
   "metadata": {
    "ExecuteTime": {
     "end_time": "2025-03-14T18:15:12.619676Z",
     "start_time": "2025-03-14T18:15:10.617405Z"
    }
   },
   "source": [
    "from openai.embeddings_utils import get_embedding, distances_from_embeddings\n",
    "EMBEDDING_MODEL_NAME = \"text-embedding-ada-002\"\n",
    "USER_QUESTION = \"\"\"What were the estimated damages of the 2023 \\\n",
    "Turkey-Syria earthquake?\"\"\"\n",
    "\n",
    "# Generate the embedding response\n",
    "response = openai.Embedding.create(\n",
    "    input=USER_QUESTION,\n",
    "    engine=EMBEDDING_MODEL_NAME\n",
    ")\n",
    "\n",
    "# Extract the embeddings from the response\n",
    "question_embeddings = response[\"data\"][0][\"embedding\"]\n",
    "\n",
    "print(question_embeddings[:100])\n",
    "\n",
    "\n",
    "# meine Methode, gleiches Ergebnis!:\n",
    "#question_embeddings2 = get_embedding(USER_QUESTION, engine=EMBEDDING_MODEL_NAME)\n",
    "#print(question_embeddings2[:10])"
   ],
   "outputs": [
    {
     "name": "stdout",
     "output_type": "stream",
     "text": [
      "[0.0055134412832558155, -0.024900270625948906, 0.0023327376693487167, -0.012057743035256863, -0.02148180454969406, 0.0025389099027961493, -0.03381222486495972, -0.013101905584335327, 0.002271218691021204, -0.015004009008407593, 0.0162410419434309, 0.044320352375507355, -0.010262050665915012, -0.013308077119290829, 0.015070516616106033, -0.005400379188358784, 0.012456785887479782, -0.013135158456861973, 0.008339994587004185, -0.0057362401857972145, -0.0074754017405211926, 0.011472480371594429, 0.012396929785609245, -0.009018367156386375, 0.015123722143471241, 0.032162848860025406, 0.008027411065995693, -0.0023377256002277136, -0.0007943445816636086, -0.012204058468341827, 0.005523417145013809, -0.006550952792167664, -0.023450415581464767, 0.015256736427545547, -0.03240227326750755, -0.007575162220746279, 0.0068834880366921425, -0.0048450445756316185, 0.023344002664089203, -0.007927650585770607, 0.010075830854475498, 0.028624670580029488, 0.01296889130026102, -0.007708176504820585, -0.01754458248615265, -0.00427973410114646, 0.01725194975733757, 0.0030925816390663385, -0.004825092386454344, 0.021295584738254547, 0.013068651780486107, 0.026762470602989197, -0.03782925754785538, -0.020377784967422485, -0.015589271672070026, -0.016440562903881073, -0.0014066258445382118, -0.019579699262976646, -0.0001513037277618423, -0.011572240851819515, 0.009291046299040318, -0.006836933083832264, -0.02875768393278122, 0.00137919164262712, -0.013939894735813141, -0.015270037576556206, 0.007575162220746279, -0.02098965086042881, -0.019606303423643112, 0.010867265053093433, 0.05009317398071289, 0.04764571040868759, 0.0009219550993293524, -0.05708972364664078, 0.0352487787604332, -0.004791839048266411, 0.017917022109031677, -0.006517698988318443, -0.0072958325035870075, 0.0024241849314421415, 0.03644590824842453, -0.020244771614670753, -0.003784255823120475, 0.0014623255701735616, 0.03155098482966423, -0.0008463032427243888, 0.005207508336752653, 0.009377505630254745, -0.029236534610390663, 0.017877116799354553, 0.012835877016186714, 0.03040706180036068, -0.0034384187310934067, 0.009856357239186764, 0.0007860311889089644, -0.007674923166632652, -0.02565845102071762, 0.01703912764787674, -0.015615874901413918, -0.045889921486377716]\n"
     ]
    }
   ],
   "execution_count": 11
  },
  {
   "cell_type": "markdown",
   "id": "ee9cc40d",
   "metadata": {},
   "source": [
    "## TODO 2: Find Cosine Distances"
   ]
  },
  {
   "cell_type": "markdown",
   "id": "5a68de2b",
   "metadata": {},
   "source": [
    "Create a new list called `distances`, which represents the cosine distances between `question_embeddings` and each value in the `'embeddings'` column of `df`.\n",
    "\n",
    "If you're getting stuck, you can click to reveal the solution then copy and paste this into the cell below.\n",
    "\n",
    "---\n",
    "\n",
    "<details>\n",
    "    <summary style=\"cursor: pointer\"><strong>Solution (click to show/hide)</strong></summary>\n",
    "\n",
    "```python\n",
    "from openai.embeddings_utils import distances_from_embeddings\n",
    "\n",
    "# Create a list containing the distances from question_embeddings\n",
    "distances = distances_from_embeddings(\n",
    "    question_embeddings,\n",
    "    df[\"embeddings\"],\n",
    "    distance_metric=\"cosine\"\n",
    ")\n",
    "\n",
    "print(distances[:100])\n",
    "```\n",
    "\n",
    "</details>"
   ]
  },
  {
   "cell_type": "code",
   "id": "7fd30911",
   "metadata": {
    "ExecuteTime": {
     "end_time": "2025-03-14T18:15:12.680073Z",
     "start_time": "2025-03-14T18:15:12.658675Z"
    }
   },
   "source": [
    "from openai.embeddings_utils import distances_from_embeddings\n",
    "\n",
    "# Create a list containing the distances from question_embeddings\n",
    "distances = distances_from_embeddings(question_embeddings, df[\"embeddings\"].tolist(), distance_metric=\"cosine\")\n",
    "\n",
    "print(distances[:100])"
   ],
   "outputs": [
    {
     "name": "stdout",
     "output_type": "stream",
     "text": [
      "[np.float64(0.2820175817769158), np.float64(0.24720548525075703), np.float64(0.21704039447578993), np.float64(0.2754164902250461), np.float64(0.2722767751288506), np.float64(0.2653465679857081), np.float64(0.27707150819742954), np.float64(0.24430287923902738), np.float64(0.26126383768436245), np.float64(0.25353599110736724), np.float64(0.29493572636323073), np.float64(0.3071626272479342), np.float64(0.26303567417295914), np.float64(0.23019449279656168), np.float64(0.29961079242700783), np.float64(0.2409053976477057), np.float64(0.23255757786855114), np.float64(0.27062891506523024), np.float64(0.30448700064088297), np.float64(0.2613078462561649), np.float64(0.24824491008417016), np.float64(0.2673761487155515), np.float64(0.30140726636278947), np.float64(0.2262194221194651), np.float64(0.306428923601884), np.float64(0.25162918374990173), np.float64(0.26716229044103945), np.float64(0.2593078691804219), np.float64(0.24951788602432157), np.float64(0.26113144045631653), np.float64(0.2701815579768232), np.float64(0.2677680304635083), np.float64(0.2443692364030725), np.float64(0.26659683712601157), np.float64(0.275127256018039), np.float64(0.24530335463574848), np.float64(0.28019264138031863), np.float64(0.27153331296749117), np.float64(0.258550028133564), np.float64(0.2346048676401865), np.float64(0.26141120282602304), np.float64(0.2509416263786386), np.float64(0.2668313139423204), np.float64(0.28547755802826835), np.float64(0.23172562525847595), np.float64(0.27280285499757373), np.float64(0.24148282793161469), np.float64(0.2474720363860652), np.float64(0.27393875093613873), np.float64(0.2526724708896313), np.float64(0.27044409492554333), np.float64(0.30063418278641807), np.float64(0.228600279068775), np.float64(0.23505470719824195), np.float64(0.300338164634365), np.float64(0.2540240543141217), np.float64(0.24877809702971065), np.float64(0.2629145363743234), np.float64(0.29006807400900203), np.float64(0.27335063159713147), np.float64(0.2981794638256168), np.float64(0.25126400311910924), np.float64(0.275700107735402), np.float64(0.2582138891248923), np.float64(0.24573969501509996), np.float64(0.267572019114536), np.float64(0.2815208300053482), np.float64(0.24815701176510252), np.float64(0.2527560866156989), np.float64(0.29078611787310116), np.float64(0.24699585543222558), np.float64(0.2568741994553224), np.float64(0.25196555192857395), np.float64(0.2605140974750073), np.float64(0.2554876202874492), np.float64(0.2617186304941542), np.float64(0.27948483154584114), np.float64(0.2765450080553794), np.float64(0.24831365404085481), np.float64(0.2920476032335454), np.float64(0.28453911611843496), np.float64(0.30431078081452445), np.float64(0.27256537395194347), np.float64(0.24915724719300314), np.float64(0.25053772147700304), np.float64(0.2858985637286535), np.float64(0.2747125776182683), np.float64(0.27369706398853133), np.float64(0.2660390179182349), np.float64(0.26963480595533884), np.float64(0.2861294013757333), np.float64(0.27341979675603867), np.float64(0.27900917443570605), np.float64(0.2922243187876483), np.float64(0.2754523083047704), np.float64(0.24762274010539098), np.float64(0.20930644002220233), np.float64(0.2734418632479183), np.float64(0.2839310824579757), np.float64(0.26731353086863807)]\n"
     ]
    }
   ],
   "execution_count": 12
  },
  {
   "cell_type": "markdown",
   "id": "f557de6a",
   "metadata": {},
   "source": [
    "## Sorting by Distance\n",
    "\n",
    "The code below uses the `distances` list to update `df` then sorts `df` to find the most related rows. Shorter distance means more similarity, so we'll use an ascending sorting order. Run the cell below as-is."
   ]
  },
  {
   "cell_type": "code",
   "id": "338c33f1",
   "metadata": {
    "ExecuteTime": {
     "end_time": "2025-03-14T18:15:12.804188Z",
     "start_time": "2025-03-14T18:15:12.779150Z"
    }
   },
   "source": [
    "df[\"distances\"] = distances\n",
    "df.sort_values(by=\"distances\", ascending=True, inplace=True)\n",
    "df.head(5)"
   ],
   "outputs": [
    {
     "data": {
      "text/plain": [
       "                                                  text  \\\n",
       "100  June 22 – A 6.2 earthquake strikes the Durand ...   \n",
       "183  November 21 – A 5.6 earthquake strikes near Ci...   \n",
       "119  July 27 – A 7.0 earthquake strikes the island ...   \n",
       "136  September 5 – A 6.8 earthquake strikes Luding ...   \n",
       "96   June 8 – 2022 South Khorasan train derailment:...   \n",
       "\n",
       "                                            embeddings  distances  \n",
       "100  [-0.0016951377037912607, -0.002599864499643445...   0.178249  \n",
       "183  [0.0040461234748363495, -0.004114207345992327,...   0.180490  \n",
       "119  [0.002082424471154809, 0.00398823618888855, 0....   0.189535  \n",
       "136  [0.012638013809919357, 0.016330983489751816, 0...   0.201293  \n",
       "96   [-0.019589906558394432, -0.02260781079530716, ...   0.209306  "
      ],
      "text/html": [
       "<div>\n",
       "<style scoped>\n",
       "    .dataframe tbody tr th:only-of-type {\n",
       "        vertical-align: middle;\n",
       "    }\n",
       "\n",
       "    .dataframe tbody tr th {\n",
       "        vertical-align: top;\n",
       "    }\n",
       "\n",
       "    .dataframe thead th {\n",
       "        text-align: right;\n",
       "    }\n",
       "</style>\n",
       "<table border=\"1\" class=\"dataframe\">\n",
       "  <thead>\n",
       "    <tr style=\"text-align: right;\">\n",
       "      <th></th>\n",
       "      <th>text</th>\n",
       "      <th>embeddings</th>\n",
       "      <th>distances</th>\n",
       "    </tr>\n",
       "  </thead>\n",
       "  <tbody>\n",
       "    <tr>\n",
       "      <th>100</th>\n",
       "      <td>June 22 – A 6.2 earthquake strikes the Durand ...</td>\n",
       "      <td>[-0.0016951377037912607, -0.002599864499643445...</td>\n",
       "      <td>0.178249</td>\n",
       "    </tr>\n",
       "    <tr>\n",
       "      <th>183</th>\n",
       "      <td>November 21 – A 5.6 earthquake strikes near Ci...</td>\n",
       "      <td>[0.0040461234748363495, -0.004114207345992327,...</td>\n",
       "      <td>0.180490</td>\n",
       "    </tr>\n",
       "    <tr>\n",
       "      <th>119</th>\n",
       "      <td>July 27 – A 7.0 earthquake strikes the island ...</td>\n",
       "      <td>[0.002082424471154809, 0.00398823618888855, 0....</td>\n",
       "      <td>0.189535</td>\n",
       "    </tr>\n",
       "    <tr>\n",
       "      <th>136</th>\n",
       "      <td>September 5 – A 6.8 earthquake strikes Luding ...</td>\n",
       "      <td>[0.012638013809919357, 0.016330983489751816, 0...</td>\n",
       "      <td>0.201293</td>\n",
       "    </tr>\n",
       "    <tr>\n",
       "      <th>96</th>\n",
       "      <td>June 8 – 2022 South Khorasan train derailment:...</td>\n",
       "      <td>[-0.019589906558394432, -0.02260781079530716, ...</td>\n",
       "      <td>0.209306</td>\n",
       "    </tr>\n",
       "  </tbody>\n",
       "</table>\n",
       "</div>"
      ]
     },
     "execution_count": 13,
     "metadata": {},
     "output_type": "execute_result"
    }
   ],
   "execution_count": 13
  },
  {
   "cell_type": "markdown",
   "id": "b08c82d1",
   "metadata": {},
   "source": [
    "Great, now we have the dataset sorted from most relevant to least relevant! Let's save this as a CSV so we can load it in the next step and compose a custom prompt.\n",
    "\n",
    "Run the cell below as-is."
   ]
  },
  {
   "cell_type": "code",
   "id": "89beaf82",
   "metadata": {
    "ExecuteTime": {
     "end_time": "2025-03-14T18:15:12.908263Z",
     "start_time": "2025-03-14T18:15:12.885017Z"
    }
   },
   "source": "df.to_csv(\"distances-earthquake.csv\")",
   "outputs": [],
   "execution_count": 14
  },
  {
   "cell_type": "code",
   "id": "15aaf8cd",
   "metadata": {
    "ExecuteTime": {
     "end_time": "2025-03-14T18:15:12.945351Z",
     "start_time": "2025-03-14T18:15:12.942593Z"
    }
   },
   "source": [],
   "outputs": [],
   "execution_count": null
  }
 ],
 "metadata": {
  "kernelspec": {
   "display_name": "Python 3 (ipykernel)",
   "language": "python",
   "name": "python3"
  },
  "language_info": {
   "codemirror_mode": {
    "name": "ipython",
    "version": 3
   },
   "file_extension": ".py",
   "mimetype": "text/x-python",
   "name": "python",
   "nbconvert_exporter": "python",
   "pygments_lexer": "ipython3",
   "version": "3.9.18"
  }
 },
 "nbformat": 4,
 "nbformat_minor": 5
}
