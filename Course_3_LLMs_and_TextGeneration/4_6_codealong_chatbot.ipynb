{
 "cells": [
  {
   "cell_type": "markdown",
   "id": "3ce95c57",
   "metadata": {},
   "source": [
    "# Codealong Notebook\n",
    "\n",
    "Use this notebook as your \"scratch pad\" as you go through the course contents. Feel free to copy any example code and tweak it to get a better understanding of how it works!\n",
    "\n",
    "Use the **+** button or `Insert` menu to add additional code cells as needed."
   ]
  },
  {
   "metadata": {
    "ExecuteTime": {
     "end_time": "2025-03-14T18:12:17.721755Z",
     "start_time": "2025-03-14T18:12:17.712519Z"
    }
   },
   "cell_type": "code",
   "source": [
    "# Preparation code\n",
    "\n",
    "import os\n",
    "if 'A306709' in os.environ['USERNAME']:\n",
    "    print(\"Running on Christophs computer: update proxy settings.\")\n",
    "    os.environ[\"http_proxy\"] = \"http://sia-lb.telekom.de:8080\"\n",
    "    os.environ[\"https_proxy\"] = \"http://sia-lb.telekom.de:8080\"\n",
    "else:\n",
    "    print(\"Running on any computer but not Christophs: don't update any proxy settings.\")\n",
    "\n",
    "import openai\n",
    "openai.api_base = \"https://openai.vocareum.com/v1\"\n",
    "openai.api_key =  os.getenv(\"OPENAI_API_KEY\")\n",
    "\n",
    "ukraine_question = \"When did Russia invade Ukraine?\"\n",
    "ukraine_prompt = \"\"\"\n",
    "Question: \" + ukraine_querstion + \"\n",
    "Answer:\n",
    "\"\"\"\n",
    "\n",
    "# würde einfach so loslabern:\n",
    "# openai.Completion.create(model=\"gpt-3.5-turbo-instruct\")\n",
    "\n",
    "# avoid executing often; comment it out to run it!\n",
    "#ukraine_answer = openai.Completion.create(\n",
    "#    model=\"gpt-3.5-turbo-instruct\",\n",
    "#    prompt=ukraine_prompt\n",
    "#)\n",
    "#ukraine_answer\n"
   ],
   "id": "1529613c502448a9",
   "outputs": [
    {
     "name": "stdout",
     "output_type": "stream",
     "text": [
      "Running on Christophs computer: update proxy settings.\n"
     ]
    }
   ],
   "execution_count": 65
  },
  {
   "metadata": {},
   "cell_type": "markdown",
   "source": "## Step 1",
   "id": "86da1ad2"
  },
  {
   "cell_type": "markdown",
   "id": "72084745",
   "metadata": {},
   "source": [
    "### Loading the Data with `pandas`"
   ]
  },
  {
   "metadata": {
    "ExecuteTime": {
     "end_time": "2025-03-14T18:12:28.820064Z",
     "start_time": "2025-03-14T18:12:27.912970Z"
    }
   },
   "cell_type": "code",
   "source": [
    "import requests\n",
    "\n",
    "# Projektidee: https://en.wikipedia.org/wiki/Finite_sphere_packing\n",
    "\n",
    "# Get the Wikipedia page for \"2022\" since OpenAI's models stop in 2021\n",
    "params = {\n",
    "    \"action\": \"query\",\n",
    "    \"prop\": \"extracts\",\n",
    "    \"exlimit\": 1,\n",
    "    \"titles\": \"2022\",\n",
    "    \"explaintext\": 1,\n",
    "    \"formatversion\": 2,\n",
    "    \"format\": \"json\"\n",
    "}\n",
    "resp = requests.get(\"https://en.wikipedia.org/w/api.php\", params=params)\n",
    "response_dict = resp.json()\n",
    "response_dict[\"query\"][\"pages\"][0][\"extract\"].split(\"\\n\")\n"
   ],
   "id": "d27785d0fb81e202",
   "outputs": [
    {
     "data": {
      "text/plain": [
       "['2022 (MMXXII) was a common year starting on Saturday of the Gregorian calendar, the 2022nd year of the Common Era (CE) and Anno Domini (AD) designations, the 22nd  year of the 3rd millennium and the 21st century, and the  3rd   year of the 2020s decade.  ',\n",
       " 'The year began with another wave in the COVID-19 pandemic, with Omicron spreading rapidly and becoming the dominant variant of the SARS-CoV-2 virus worldwide. Tracking a decrease in cases and deaths, 2022 saw the removal of most COVID-19 restrictions and the reopening of international borders in the vast majority of countries, while the global rollout of COVID-19 vaccines continued. The global economic recovery from the pandemic continued, though many countries experienced an ongoing inflation surge; in response, many central banks raised their interest rates to landmark levels. The world population reached eight billion people in 2022. The year also witnessed numerous natural disasters, including two devastating Atlantic hurricanes (Fiona and Ian), and the most powerful volcano eruption of the century so far. The later part of the year also saw the first public release of ChatGPT by OpenAI starting an arms race in artificial intelligence which increased in intensity into 2023, as well as the collapse of the cryptocurrency exchange FTX.',\n",
       " '2022 was also dominated by wars and armed conflicts. While escalations into the internal conflict in Myanmar and the Tigray War dominated the heightening of tensions within their regions and each caused over 10,000 deaths, 2022 was most notable for the Russian invasion of Ukraine, the largest armed conflict in Europe since World War II. The invasion caused the displacement of 15.7 million Ukrainians (8 million internally displaced persons and 7.7 million refugees), and led to international condemnations and sanctions and nuclear threats, the withdrawal of hundreds of companies from Russia, and the exclusion of Russia from major sporting events.',\n",
       " '',\n",
       " '',\n",
       " '== Conflicts ==',\n",
       " '',\n",
       " 'The ongoing Russian invasion of Ukraine escalated after Russian president Vladimir Putin announced a \"special military operation\", stating that it was to support the Russian-backed breakaway republics of Donetsk and Luhansk, whose paramilitary forces had been fighting Ukraine in the Donbas conflict since 2014.',\n",
       " '',\n",
       " '',\n",
       " '== Events ==',\n",
       " '',\n",
       " '',\n",
       " '=== January ===',\n",
       " ' January 1 – The Regional Comprehensive Economic Partnership, the largest free trade area in the world, comes into effect for Australia, Brunei, Cambodia, China, Indonesia, Japan, South Korea, Laos, Malaysia, Myanmar, New Zealand, the Philippines, Singapore, Thailand, and Vietnam.',\n",
       " 'January 2 – Abdalla Hamdok resigns as Prime Minister of Sudan amid deadly protests.',\n",
       " 'January 4 – The five permanent members of the UN Security Council—China, France, Russia, the United Kingdom and the United States—issue a rare joint statement affirming that \"a nuclear war cannot be won and must never be fought.\"',\n",
       " 'January 5 – A nationwide state of emergency is declared in Kazakhstan in response to the 2022 Kazakh unrest. The cabinet of prime minister Askar Mamin resigns, while president Kassym-Jomart Tokayev removes former president Nursultan Nazarbayev, widely regarded as being the real power in the country, from his position as Chairman of the Security Council of Kazakhstan.',\n",
       " 'January 6 – The CSTO deploys a \"peacekeeping\" mission in Kazakhstan, including Russian paratroopers, following a request by Kazakh president Tokayev.',\n",
       " 'January 7 – COVID-19 pandemic: The number of COVID-19 cases exceeds 300 million worldwide.',\n",
       " 'January 9 – February 6 – The 2021 Africa Cup of Nations is held in Cameroon, with Senegal winning their first championship.',\n",
       " 'January 10 – The first successful heart transplant from a pig to a human patient occurs in Baltimore, Maryland, United States.',\n",
       " 'January 13 – Bikaner-Guwahati Express derailment: The Bikaner-Guwahati Express train derailed in Maynaguri. 9 people were killed and 50 people were injured. This was the first major train accident of 2022.',\n",
       " \"January 15 – A large eruption of Hunga Tonga–Hunga Ha'apai, a submarine volcano in Tonga, triggers tsunami warnings in Australia, Canada, Chile, Fiji, Japan, New Zealand, Samoa, and the United States.\",\n",
       " 'January 16 – World No. 1 tennis champion Novak Djokovic is deported from Australia following a high-profile legal case regarding his COVID-19 vaccination status, preventing his participation in the 2022 Australian Open.',\n",
       " 'January 17 – In Abu Dhabi, United Arab Emirates, a terrorist attack against 3 oil tanker trucks and an under construction airport extension infrastructure is conducted by the Houthi movement using drones and missiles, killing 3 people and injuring 6 others.',\n",
       " 'January 23',\n",
       " 'Tropical Storm Ana kills 115 people in Madagascar, Malawi and Mozambique, days after a series of floods killed 11 people in Madagascar.',\n",
       " \"A coup d'état in Burkina Faso removes president Roch Kaboré from power. The Burkinabé military cites the government's failure to contain activities of Islamist militants within the country as a reason for the coup.\",\n",
       " 'January 24 – The federal government under Scott Morrison announces that, after more than three years of confidential negotiations, copyright ownership of the Australian Aboriginal flag has been transferred to the Commonwealth.',\n",
       " 'January 28 – COVID-19 pandemic: The number of vaccinations administered worldwide exceeds 10 billion.',\n",
       " '',\n",
       " '',\n",
       " '=== February ===',\n",
       " 'February 3 – Islamic State leader Abu Ibrahim al-Hashimi al-Qurashi is killed in Atme during a counter-terrorism raid by U.S. special forces in north-western Syria.',\n",
       " 'February 4 – China and Russia issue a joint statement opposing further NATO expansion, expressing \"serious concerns\" about the AUKUS security pact, and pledging to cooperate with each other on a range of issues.',\n",
       " 'February 4 – February 20 – The 2022 Winter Olympics are held in Beijing, China, making it the first city ever to host both the Summer Olympics and Winter Olympics.',\n",
       " 'February 5 – Cyclone Batsirai kills a total of 123 people across Madagascar, Mauritius, and Réunion two weeks after Tropical Storm Ana killed 115 people in the same region.',\n",
       " 'February 6 – Queen Elizabeth II celebrates her \"Platinum Jubilee\", marking 70 years as Queen of the United Kingdom.',\n",
       " 'February 9 – The biggest breakthrough in fusion energy since 1997 is reported at the Joint European Torus in Oxford, the UK, with 59 megajoules produced over five seconds (11 megawatts of power), more than double the previous record.',\n",
       " \"February 21 – February 24 – Russian President Vladimir Putin signs a decree declaring the Luhansk People's Republic and Donetsk People's Republic as independent from Ukraine, and, despite international condemnation and sanctions, begins a full-scale invasion of Ukraine; at dawn on 24 February missiles strike Kyiv. Ukraine severs diplomatic relations with Russia, followed by the Federated States of Micronesia on 25 February.\",\n",
       " 'February 22 - Twosday',\n",
       " 'February 26 – Russian invasion of Ukraine: The EU, US, and their allies commit to removing Russian banks from the SWIFT payment system, as well as imposing measures on the Russian Central Bank and further restrictions on Russian elites. These and other sanctions fuel a financial crisis in Russia.',\n",
       " 'February 27',\n",
       " 'Russian invasion of Ukraine: Putin orders Russia\\'s nuclear deterrent forces to be on \"special alert\", their highest level, in response to what he calls \"aggressive statements\" by NATO. The move is condemned by the US.',\n",
       " 'Russian invasion of Ukraine: European nations ban Russian flights in their airspace.',\n",
       " 'In a constitutional referendum, Belarus votes to revoke its non-nuclear status and to allow the country to host Russian forces permanently.',\n",
       " 'February 28',\n",
       " 'The Intergovernmental Panel on Climate Change (IPCC) releases the second part of its Sixth Assessment Report on climate change. It concludes that many impacts are on the verge of becoming \"irreversible\".',\n",
       " 'Russian invasion of Ukraine: Russian and Ukrainian officials meet on the Belarus-Ukraine border for the first round of peace talks, with no resolution.',\n",
       " 'Russian invasion of Ukraine: Football governing bodies FIFA and UEFA suspend Russian clubs and national teams from all competitions.',\n",
       " '2022 Russian financial crisis: In an unprecedented move, Switzerland, Monaco, Singapore and South Korea impose unilateral sanctions over Russia including the introduction of export controls and asset freezes.',\n",
       " '',\n",
       " '',\n",
       " '=== March ===',\n",
       " 'March 1',\n",
       " 'Russian invasion of Ukraine: World Athletics bans both Russia and Belarus from competing in all of its events.',\n",
       " \"Russian invasion of Ukraine: In an emergency session, United Nations member states pass a resolution deploring Russia's invasion of Ukraine and calling for the immediate withdrawal of its forces.\",\n",
       " 'March 2',\n",
       " 'Russian invasion of Ukraine: Russia captures its first large city, the Black Sea port of Kherson, as shelling intensifies across many parts of Ukraine, including civilian areas.',\n",
       " 'Russian invasion of Ukraine: The United Nations reports that over a million refugees have now fled from Ukraine to other countries.',\n",
       " 'The International Criminal Court begins an investigation into possible war crimes committed by Russia in Ukraine.',\n",
       " 'March 3',\n",
       " 'Russian invasion of Ukraine: Russia is condemned by world leaders following an attack by its troops on the Zaporizhzhia nuclear plant – the largest in Europe – which led to a fire at the site.',\n",
       " 'The National Assembly of Armenia elects incumbent minister of High-Tech Industry and former mayor of Yerevan, Vahagn Khachaturyan, as president of Armenia following the resignation of Armen Sarkissian.',\n",
       " 'March 4 – March 13 – The 2022 Winter Paralympics are held in Beijing, China, making it the first city to host both Summer Paralympics and Winter Paralympics.',\n",
       " 'March 4 – Insurgency in Khyber Pakhtunkhwa: An Afghan man on behalf of the Islamic State – Khorasan Province commits a suicide attack at a Shia mosque in Peshawar, Khyber Pakhtunkhwa, Pakistan, killing 63 people.',\n",
       " \"March 5 – Researchers in the Antarctic find Endurance, one of the greatest ever undiscovered shipwrecks, which sank in 1915 during Ernest Shackleton's exploration.\",\n",
       " 'March 7 – COVID-19 pandemic: The global death toll from COVID-19 surpasses 6 million.',\n",
       " 'March 8 – The US and UK announce a ban on Russian oil, while the EU announces a two-thirds reduction in its demand for Russian gas.',\n",
       " 'March 9',\n",
       " '2022 South Korean presidential election: People Power Party candidate Yoon Suk-yeol is narrowly elected President of South Korea.',\n",
       " \"Russian invasion of Ukraine: Russia is condemned by world leaders following an air strike in Mariupol that destroys a hospital including a maternity and children's ward.\",\n",
       " 'March 10 – The National Assembly of Hungary elects former minister for Family Affairs, Katalin Novák, as president of Hungary in a 137–51 vote.',\n",
       " \"March 11 – Gabriel Boric is sworn in as President of Chile. He becomes the youngest head of state in the nation's history and the first to be born during the military dictatorship of Augusto Pinochet.\",\n",
       " 'March 12 – 2022 Turkmenistan presidential election: Serdar Berdimuhamedow, son of former President Gurbanguly Berdimuhamedow, wins with 89% of the total votes.',\n",
       " 'March 16 – Russian invasion of Ukraine: A Russian airstrike on the Mariupol Theatre in Mariupol kills an estimated 600 civilians sheltering inside.',\n",
       " 'March 19 – The apostolic constitution Praedicate evangelium, reforming the Roman Curia, is promulgated by Pope Francis, coming into force on 5 June.',\n",
       " 'March 21 – China Eastern Airlines Flight 5735 crashes in Guangxi, China, killing all 133 people on board.',\n",
       " 'March 24 – Russian invasion of Ukraine: NATO announces that four new battlegroups totaling 40,000 troops will be deployed in Bulgaria, Hungary, Romania and Slovakia, along with enhanced readiness for potential chemical, biological, radiological and nuclear threats.',\n",
       " 'March 27 – The M23 offensive begins in North Kivu, Democratic Republic of the Congo.',\n",
       " 'March 29 – The Democratic Republic of the Congo is admitted to the East African Community.',\n",
       " 'March 31 – Expo 2020 closes in Dubai after a 6-month run; originally scheduled for 10 April 2021, it was delayed due to the COVID-19 pandemic.',\n",
       " '',\n",
       " '',\n",
       " '=== April ===',\n",
       " 'April 1 – The joint venture AMITA Health split up as AdventHealth and Ascension parted ways.',\n",
       " 'April 3',\n",
       " \"Russian invasion of Ukraine: As Russia's forces retreat from areas near Kyiv, it is accused by Ukraine of war crimes, amid mounting evidence of indiscriminate civilian killings, including the Bucha massacre.\",\n",
       " 'The second round of voting of the 2022 Costa Rican general election is held, and Social Democratic Progress Party presidential candidate Rodrigo Chaves Robles is elected president.',\n",
       " 'April 4 – The Intergovernmental Panel on Climate Change (IPCC) releases the third and final part of its Sixth Assessment Report on climate change, warning that greenhouse gas emissions must peak by 2025 at the latest and decline 43% by 2030, in order to limit global warming to 1.5 °C (2.7 °F).',\n",
       " 'April 6 – The first known dinosaur fossil linked to the very day of the Chicxulub impact is reported by palaeontologists.',\n",
       " 'April 7',\n",
       " 'The UN votes by 93–24 to suspend Russia from the Human Rights Council, with 58 countries abstaining.',\n",
       " \"President of Yemen Abdrabbuh Mansur Hadi resigns from office, dismisses vice president Ali Mohsen al-Ahmar, and transfers both offices' powers to the newly formed eight-member Presidential Leadership Council, chaired by Rashad al-Alimi.\",\n",
       " 'April 8',\n",
       " 'Russian invasion of Ukraine: Russia is condemned by world leaders following a missile attack on Kramatorsk train station, which kills 59 civilians trying to evacuate, including seven children.',\n",
       " \"Global food prices increase to their highest level since the UN's Food Price Index began in 1990, with commodities such as wheat rising by nearly 20% as a result of the Ukraine crisis.\",\n",
       " 'April 11 – The National Assembly of Pakistan elects leader of the opposition Shehbaz Sharif as prime minister of Pakistan, after Imran Khan is removed from office following a motion of no confidence two days prior.',\n",
       " 'April 13 – COVID-19 pandemic: The number of confirmed cases exceeds 500 million worldwide.',\n",
       " 'April 14 – Russian invasion of Ukraine: The Russian flagship Moskva becomes the largest warship to be sunk in action since World War II. Ukraine claims to have struck it with Neptune anti-ship missiles, while Russia claims it sank during stormy weather after an onboard fire.',\n",
       " 'April 18 – Russian invasion of Ukraine: The battle of Donbas begins, leading to the deaths of several thousand military personnel and civilians.',\n",
       " 'April 19 – The second round of voting of the 2022 East Timorese presidential election is held and the National Congress for Timorese Reconstruction party presidential candidate, former president and former prime minister José Ramos-Horta is elected.',\n",
       " 'April 20 – A European Southern Observatory team announce the discovery of micronovae, a new type of exploding star.',\n",
       " 'April 22 – The Large Hadron Collider recommences full operations, three years after being shut down for upgrades.',\n",
       " 'April 24 – The 2022 Slovenian parliamentary election is held to elect all 90 members of the National Assembly of Slovenia, the lower house of the Slovenian Parliament; the Freedom Movement party becomes the largest party, winning 41 of 90 seats.',\n",
       " 'April 25 – Elon Musk reaches an agreement to acquire the social media network Twitter (which he later rebrands as X) for $44 billion USD, which later closes in October.',\n",
       " 'April 27 – The European Union accuses Russia of blackmail after gas supplies to Poland and Bulgaria are halted by energy giant Gazprom.',\n",
       " 'April 28 – The Parliament of Montenegro elects a new government with Dritan Abazović as prime minister, following a motion of no confidence against the government of Zdravko Krivokapić.',\n",
       " '',\n",
       " '',\n",
       " '=== May ===',\n",
       " 'May 6 – 2022 monkeypox outbreak: An outbreak of monkeypox begins when the first monkeypox virus case is reported in London, the United Kingdom.',\n",
       " 'May 9',\n",
       " 'Prime Minister of Sri Lanka Mahinda Rajapaksa resigns as a result of massive protests against his government across the country. He is succeeded by Ranil Wickremesinghe as prime minister three days later.',\n",
       " '2022 Philippine presidential election: Bongbong Marcos and Sara Duterte are elected the 17th President and 15th Vice President of the Philippines in a landslide victory.',\n",
       " 'May 10–May 14 – The Eurovision Song Contest 2022 is held in Turin, Italy. The contest is won by Ukrainian folk-rap group Kalush Orchestra with their song \"Stefania\".',\n",
       " 'May 12 – The Event Horizon Telescope collaboration reveals its first image of Sagittarius A*, the supermassive black hole at the centre of the Milky Way.',\n",
       " 'May 13 – Mohamed bin Zayed Al Nahyan is elected as the 3rd president of the United Arab Emirates by the Federal Supreme Council following the death of Khalifa bin Zayed Al Nahyan a day earlier.',\n",
       " 'May 15 – Former President of Somalia Hassan Sheikh Mohamud is elected president again, beating President Mohamed Abdullahi Mohamed.',\n",
       " 'May 16 – Russian invasion of Ukraine: The Siege of Mariupol ends in a Russian victory as Ukrainian troops are evacuated from Mariupol.',\n",
       " 'May 18 – Finland and Sweden applied to join NATO.',\n",
       " 'May 20 – 2022 monkeypox outbreak: The World Health Organization (WHO) holds an emergency meeting to discuss the spread of monkeypox in nearly a dozen countries, as the number of reported cases reaches 100.',\n",
       " 'May 21 – 2022 Australian federal election: The Labor party, led by Anthony Albanese, defeats the Liberal-National Coalition government led by Prime Minister Scott Morrison. Albanese is sworn in as Prime Minister two days later.',\n",
       " 'May 24 – Uvalde school shooting: 18-year-old Salvador Ramos fatally shoots 19 students and two teachers at Robb Elementary School.',\n",
       " 'May 27 – Fiji announces that it will become the 14th member of the Indo-Pacific Economic Framework in order to counter Chinese influence in the Pacific. This comes amid a visit by Chinese foreign minister Wang Yi to Kiribati.',\n",
       " 'May 28 – Spanish club Real Madrid beat English club Liverpool 1–0 to win the UEFA Champions League final played at the Stade de France in Paris, France.',\n",
       " '',\n",
       " '',\n",
       " '=== June ===',\n",
       " 'June 4 – Retired general Bajram Begaj is elected President of Albania by the parliament in the fourth round of voting.',\n",
       " 'June 5 – At least 50 people are killed in a dual mass shooting-bomb attack in Owo, Nigeria.',\n",
       " 'June 8 – 2022 South Khorasan train derailment: In Iran, a passenger train derailed travelling from Tabas to Yazd crashed into an excavator and derailed, killing 18 and injuring 87.',\n",
       " 'June 14 – Canada and Denmark end their competing claims for Hans Island by dividing the island roughly in half, ending what was referred to as the Whisky War.',\n",
       " 'June 19',\n",
       " \"The second round of the 2022 legislative election is held in France, resulting in a hung parliament, with President Macron's coalition losing its majority in the National Assembly. A newly-formed coalition of left-wing parties, led by far-left Jean-Luc Mélenchon, makes significant gains. Marine Le Pen's far-right National Rally also makes historic gains, increasing its number of MPs tenfold and becoming the largest opposition party in Parliament. Two weeks later, Macron's government is reshuffled, continuing as a minority administration.\",\n",
       " 'The second round of the 2022 Colombian presidential election is held, and former guerrilla fighter for the 19th of April Movement and incumbent senator, Gustavo Petro, defeats businessman and former mayor of Bucaramanga, Rodolfo Hernández Suárez.',\n",
       " 'June 22 – A 6.2 earthquake strikes the Durand Line between Afghanistan and Pakistan, killing at least 1,163 people.',\n",
       " 'June 23',\n",
       " 'The European Council granted Moldova and Ukraine the status of a candidate for accession to the European Union.',\n",
       " \"Dickon Mitchell's party wins a majority of seats in Grenada's general election, defeating Prime Minister Keith Mitchell's party. Dickon Mitchell is sworn in the following day.\",\n",
       " 'June 26 – G7 leaders gather for a summit in Germany to discuss the situation in Ukraine. A ban on imports of Russian gold is announced.',\n",
       " 'June 27 – 53 migrants from Mexico, Honduras, Guatemala, and El Salvador are found dead in a tractor trailer in San Antonio, Texas, United States.',\n",
       " 'June 28 – June 30 – A NATO summit is held in Madrid, Spain along with the presence of guest countries from the European Union and the Indo-Pacific primarily searching for a consensual defensive reinforcement after the Russian invasion of Ukraine and the sustained threatening over the territorial integrity of other countries.',\n",
       " '',\n",
       " '',\n",
       " '=== July ===',\n",
       " 'July 1 – Yair Lapid succeeds Naftali Bennett as Prime Minister of Israel, while Bennett succeeds Lapid as Alternate Prime Minister of Israel; this arrangement had been created after the 2021 Israeli legislative election, in which no party won an outright majority.',\n",
       " \"July 6 – July 31 – UEFA Women's Euro 2022, originally intended for 2021 but indirectly delayed due to UEFA Euro 2020 being delayed, is held in England, with the hosts winning their first major tournament since 1966.\",\n",
       " 'July 7 – July 17 – The 2022 World Games is held in Birmingham, Alabama, United States.',\n",
       " 'July 7 – After revelations over his appointment of Chris Pincher as Deputy Chief Whip triggered a series of resignations from his government, UK Prime Minister Boris Johnson announces his intention to resign, triggering the July–September 2022 Conservative Party leadership election.',\n",
       " 'July 8 – Former Prime Minister of Japan Shinzo Abe is assassinated while giving a public speech in the city of Nara, Japan.',\n",
       " 'July 11 – The first operational image from the James Webb Space Telescope, showing the galaxy cluster SMACS 0723, is revealed to the public.',\n",
       " 'July 18',\n",
       " 'Droupadi Murmu is elected as President of India, making her the first tribal and youngest person to be elected to the office.',\n",
       " 'IFLA-UNESCO Public Library Manifesto issued.',\n",
       " 'July 19 – 2022 European heat waves: A series of severe heatwaves from July to August hit Europe, causing at least 53,000 deaths and additionally causing major wildfires, travel disruption, and record high temperatures in many countries.',\n",
       " 'July 21',\n",
       " 'The Parliament of Sri Lanka elects Prime Minister Ranil Wickremesinghe as President of Sri Lanka, following the resignation of Gotabaya Rajapaksa amid protests over the ongoing economic crisis.',\n",
       " 'The European Central Bank raises its key interest rate for the first time in more than 11 years, from minus 0.5 per cent to zero, with plans for further increases later in the year.',\n",
       " 'July 22 – Russian invasion of Ukraine: Russia and Ukraine sign the Black Sea Grain Initiative, an agreement brokered by Turkey and the United Nations to facilitate the shipment of grain exports and reduce soaring global food prices.',\n",
       " 'July 23 – The World Health Organization (WHO) declares the recent monkeypox outbreak a Public Health Emergency of International Concern, as the number of reported cases exceeds 17,000 in 75 countries.',\n",
       " 'July 27 – A 7.0 earthquake strikes the island of Luzon in the Philippines killing 11 people and injuring over 600.',\n",
       " 'July 28–August 8 – The 2022 Commonwealth Games is held in Birmingham, England.',\n",
       " \"July 31 – Ayman al-Zawahiri, the Egyptian terrorist who became the 2nd Emir of al-Qaeda after Osama bin Laden's death in 2011, is killed in an airstrike in Kabul, Afghanistan conducted by the United States' Central Intelligence Agency.\",\n",
       " '',\n",
       " '',\n",
       " '=== August ===',\n",
       " 'August 4',\n",
       " 'China conducts its largest ever military exercise around Taiwan in response to a controversial visit by Nancy Pelosi, the highest-ranking U.S. official to visit Taiwan since the 1990s.',\n",
       " 'The Prime Minister of Peru, Aníbal Torres, resigns following multiple criminal investigations against the President of Peru, Pedro Castillo.',\n",
       " 'August 5 – August 7 – Israel launches airstrikes in the Gaza Strip, killing Islamic Jihad military leader Tayseer Jabari. Both parties agree to a ceasefire after three days of skirmish.',\n",
       " 'August 6 – Terrance Drew is sworn in as prime minister of Saint Kitts and Nevis.',\n",
       " \"August 9 – 2022 Kenyan general election: William Ruto is elected as Kenya's 5th president, defeating longtime opposition leader Raila Odinga. His victory is certified by the nation's election supervisory agency on August 15 amid protests and violence by Odinga supporters.\",\n",
       " 'August 10 – Spanish club Real Madrid beat German club Eintracht Frankfurt 2–0 to win the 2022 UEFA Super Cup played at the Olympic Stadium in Helsinki, Finland.',\n",
       " 'August 12 – Indian-born British-American novelist Salman Rushdie is stabbed multiple times as he is about to give a public lecture at the Chautauqua Institution in Chautauqua, New York, United States.',\n",
       " 'August 17 – Turkey and Israel agree to restore full diplomatic relations after a period of tensions.',\n",
       " 'August 19 – The coalition government of Montenegrin prime minister Dritan Abazović collapses after the 81-seat Parliament of Montenegro passes a motion of no confidence in a vote of 50–1, following dispute within the coalition over an agreement the government signed with the Serbian Orthodox Church.',\n",
       " 'August 27 – September 11 – The 2022 Asia Cup is held in the United Arab Emirates, and is won by Sri Lanka.',\n",
       " 'August 28 – 2022 Pakistan floods: Pakistan declares a \"climate catastrophe\" and appeals for international assistance, as the death toll from recent flooding in the country exceeds 1,000, the world\\'s deadliest flood since 2017. Several nations, alongside the UN, pledge millions in funding for aid.',\n",
       " 'August 30 – Mikhail Gorbachev, the final leader of the Soviet Union, dies at the age of 91.',\n",
       " '',\n",
       " '',\n",
       " '=== September ===',\n",
       " \"September 1 – The UN releases a report stating that the Chinese government's Xinjiang internment camps and treatment of Uyghurs may constitute crimes against humanity.\",\n",
       " 'September 2 – Russian invasion of Ukraine: The G7 economies agree to impose a price cap on Russian petroleum exports.',\n",
       " 'September 5 – A 6.8 earthquake strikes Luding County in Sichuan province, China, killing 117 and injuring 424.',\n",
       " 'September 6 – Liz Truss is appointed Prime Minister of the United Kingdom after winning the July–September 2022 Conservative Party leadership election.',\n",
       " 'September 8 – Queen Elizabeth II of the United Kingdom and 14 other Commonwealth realms dies at Balmoral Castle in Scotland at the age of 96. Her son Charles III succeeds her as King.',\n",
       " 'September 11 – The 2022 Swedish general election is held to elect all 349 seats of the Riksdag. Prime Minister Magdalena Andersson resigns after her centre-left bloc narrowly loses to a bloc of right-wing parties, 176 seats to 173; Andersson is succeeded as prime minister by Ulf Kristersson in October.',\n",
       " 'September 12 – September 2022 Armenia–Azerbaijan clashes: Azerbaijan attacks Armenian positions near the cities of Vardenis, Goris, Sotk and Jermuk, and occupies certain areas of its territory along the Armenia–Azerbaijan border. Over the next few days, more than 100 Armenian soldiers are killed in the clashes, while Azerbaijan acknowledges 71 fatalities among its forces.',\n",
       " \"September 14–September 20 – 2022 Kyrgyzstan–Tajikistan clashes: Dozens are killed as sporadic clashes occur between Kyrgyz and Tajik troops along their countries' respective border.\",\n",
       " 'September 14–September 25 – The Atlantic hurricane Fiona hits Guadeloupe, Puerto Rico, the Dominican Republic, the Lucayan Archipelago, Bermuda, and Eastern Canada.',\n",
       " 'September 16 – Protests erupt in Iran following the death of Mahsa Amini in the custody of the country\\'s \"morality police\".',\n",
       " 'September 19 – The state funeral of Elizabeth II is held in Westminster Abbey, London. Her coffin is then taken by procession to Windsor Castle for burial with her husband, parents and sister in the King George VI Memorial Chapel. The funeral is speculated to be the most watched television event in world history.',\n",
       " 'September 21 – Russian invasion of Ukraine: Following a major counteroffensive by Ukraine in the east of the country, Putin announces a partial mobilisation of Russia and threatens nuclear retaliation, saying \"this is not a bluff\".',\n",
       " \"September 22 – October 1 – The 2022 FIBA Women's Basketball World Cup is held in Sydney, Australia. In the final, the United States wins 83–61 against China.\",\n",
       " 'September 24 – The 2022 Nauruan parliamentary election is held, which is followed by Ubenide parliament member Russ Kun being elected president by parliament.',\n",
       " \"September 25 – The 2022 Italian general election is held to elect all 400 seats of the Chamber of Deputies and 200 seats of the Senate of the Republic (reduced from 630 and 215 respectively according to the outcome of the 2020 constitutional referendum). Observers commented that the results shifted the geopolitics of the European Union, following far-right gains in France, Spain, and Sweden. It was also noted that the election outcome would mark Italy's most right-wing government since 1945.\",\n",
       " 'September 26',\n",
       " \"NASA's DART crashes into the asteroid Dimorphos in a first test of potential planetary defense.\",\n",
       " 'The Nord Stream pipeline sabotage occurs by an unknown perpetrator off the coast of Bornholm, Denmark with explosions on two pipelines leaving them inoperable.',\n",
       " 'September 27–September 30 – Hurricane Ian impacts Cuba and the United States, causing catastrophic damage to both nations, killing at least 157 people, 16 missing, and leaving millions without power, including the entire nation of Cuba.',\n",
       " \"September 27 – Russian occupation authorities in Ukraine claim that their annexation referendums show an overwhelming support for the annexation by Russia of the Donetsk People's Republic, the Luhansk People's Republic, and parts of Kherson Oblast and Zaporizhzhia Oblast. However, the voting is widely dismissed as a sham referendum.\",\n",
       " 'September 30',\n",
       " 'Annexation of Southern and Eastern Ukraine: Russian President Vladimir Putin signs treaties absorbing the occupied regions of Donetsk, Luhansk, Kherson and Zaporizhzhia into the Russian Federation. This annexation is seen as a breach of international law by the global community.',\n",
       " \"Burkina Faso's military junta is overthrown by the country's second coup of the year, led by army captain Ibrahim Traoré.\",\n",
       " '',\n",
       " '',\n",
       " '=== October ===',\n",
       " 'October 1 – A fatal human crush occurs during an association football match at Kanjuruhan Stadium in Malang Regency, East Java, Indonesia, killing 135 people and injuring more than 500.',\n",
       " 'October 5 – OPEC+ imposes a production cut of up to 2 million barrels per day.',\n",
       " 'October 8 – Russian invasion of Ukraine: An explosion occurs on the Crimean Bridge connecting Crimea and Russia, killing three and causing a partial collapse of the only road bridge between the Crimean Peninsula and the Russian mainland. Two days later, retaliatory missile strikes are conducted by Russia across Ukraine, the most widespread since the start of the invasion, notably including attacks on Kyiv.',\n",
       " 'October 12–October 13 – 2022 Bratislava shooting, killing 3 (including the perpetrator) and injuring one. The shooting occurred outside of a gay bar in Bratislava known as Tepláreň. Two people (excluding the perpetrator) died as a result of the shooting. Juraj Vankulič, a non-binary person, and Matúš Horváth, a bisexual man. The perpetrator (Juraj Krajčík) was found dead due to a self-inflicted gunshot the morning after the attack.',\n",
       " 'October 16–October 23 – The 20th National Congress of the Chinese Communist Party is held. Xi Jinping is elected as General Secretary by the Central Committee, beginning a third term as the paramount leader of China.',\n",
       " 'October 20 – Amid a government crisis, Liz Truss announces her resignation as leader of the Conservative Party and her intention to resign as prime minister of the United Kingdom, after 45 days in office.',\n",
       " 'October 25 – Rishi Sunak becomes Prime Minister of the United Kingdom, following the resignation of Liz Truss the previous week resulting in a 50-day tenure, making him the first person of colour to become the prime minister.',\n",
       " 'October 28',\n",
       " 'Elon Musk completes his $44 billion acquisition of Twitter.',\n",
       " 'Sam Matekane is sworn in as Prime Minister of Lesotho after securing a victory in the 7 October elections.',\n",
       " 'October 29',\n",
       " 'At least 158 people are killed and another 197 injured in a crowd crush during Halloween festivities in Seoul, South Korea.',\n",
       " 'A double car bombing by al-Shabaab in Mogadishu, Somalia kills at least 121 people and injures around 300.',\n",
       " 'Russian invasion of Ukraine: In response to an alleged Ukrainian drone attack against the Black Sea Fleet, Russia suspends its participation in the Black Sea Grain Initiative.',\n",
       " 'October 30',\n",
       " '2022 Brazilian general election: Luiz Inácio Lula da Silva defeats incumbent Jair Bolsonaro in a runoff election after neither candidate secured a majority in the first round of voting. Lula da Silva is the first president elected three times, and also the oldest one, at 77.',\n",
       " 'The collapse of a suspension bridge in Gujarat, India, leaves at least 135 dead.',\n",
       " '',\n",
       " '',\n",
       " '=== November ===',\n",
       " 'November 1',\n",
       " '2022 Israeli legislative election: A bloc of right-wing and far-right political parties led by former Prime Minister Benjamin Netanyahu wins a 64-seat majority (out of 120), allowing him to be sworn in as Prime Minister of Israel for a third time in December.',\n",
       " \"2022 Danish general election: A bloc of left-leaning political parties wins a narrow one-seat majority of 90 seats. Incumbent Prime Minister Mette Frederiksen's second government takes office in December, in the form of a coalition with Venstre and the Moderates.\",\n",
       " 'November 2–November 3 – Tigray War: The Ethiopian government and the TPLF agree to a formal cessation of hostilities, signing a peace agreement in Pretoria, South Africa.',\n",
       " 'November 6–November 18 – The 2022 United Nations Climate Change Conference (COP27) on climate change mitigation takes place in Sharm el-Sheikh, Egypt.',\n",
       " 'November 11',\n",
       " 'The cryptocurrency exchange FTX, once valued at $18 billion, files for Chapter 11 bankruptcy, in a collapse that affects the cryptocurrency environment.',\n",
       " 'Russian invasion of Ukraine: Ukrainian forces recapture Kherson, the only regional capital to be taken by Russia since the start of the war.',\n",
       " 'November 15',\n",
       " 'The world population reaches 8 billion.',\n",
       " 'The 2022 G20 Bali summit in Bali, Indonesia takes place.',\n",
       " 'Two missiles impact the village of Przewodów, Poland, close to the border with Ukraine.',\n",
       " 'November 16 – NASA launches Artemis 1, the first uncrewed mission of its Space Launch System, the most powerful rocket ever to reach orbit. The onboard Orion capsule orbits the Moon before returning to Earth, as a demonstration of planned human missions.',\n",
       " \"November 19 – The 2022 Malaysian general election results in a hung parliament, which is the first in the country's history. Long-time opposition leader Anwar Ibrahim is appointed by Yang di-Pertuan Agong Abdullah as prime minister five days later to break the political deadlock and form a unity government.\",\n",
       " 'November 19–November 26 – The 2022 Central American and Caribbean Beach Games are held in Santa Marta, Colombia.',\n",
       " 'November 20–December 18 – The 2022 FIFA World Cup is held in Qatar and won by Argentina.',\n",
       " 'November 20 – 2022 Nepalese general election: The Nepali Congress, led by Prime Minister Sher Bahadur Deuba, emerged as the largest party with 89 seats, but the governing bloc falls short of the majority by two seats, leading into likely coalition government.',\n",
       " 'November 21 – A 5.6 earthquake strikes near Cianjur in West Java, Indonesia, killing 635 people and injuring 7,700 more.',\n",
       " 'November 30 – OpenAI releases ChatGPT, an artificial intelligence chatbot able to answer questions and write essays.',\n",
       " '',\n",
       " '',\n",
       " '=== December ===',\n",
       " 'December 2 – The G7 and Australia join the EU in imposing a cap of $60 a barrel on Russian crude oil, designed to \"prevent Russia from profiting from its war of aggression against Ukraine.\"',\n",
       " 'December 5 – The National Ignition Facility achieves fusion ignition, a major milestone in the development of nuclear fusion power.',\n",
       " 'December 7',\n",
       " 'The Congress of Peru removes President Pedro Castillo from office and arrests him after he tries to dissolve Congress in a self-coup attempt. Vice President Dina Boluarte becomes the first female President of Peru.',\n",
       " \"After substantial protests against China's Zero-COVID policies, the Chinese government eases on its COVID restrictions.\",\n",
       " 'December 17 – Leo Varadkar succeeds Micheál Martin as Taoiseach (Prime Minister) of Ireland, as part of a rotation agreement made in 2020.',\n",
       " 'December 18 – Argentina wins the 2022 FIFA World Cup against runners-up France.',\n",
       " 'December 19 – At the UN Biodiversity Conference (COP15), nearly 200 countries agree a landmark deal to protect a third of the planet for nature by 2030.',\n",
       " 'December 21–December 26 – A major winter storm hits the northern United States and southern Canada. Killing at least 91 people, the storm also severely disrupts North American air traffic, with Southwest Airlines alone canceling more than half of its schedule.',\n",
       " 'December 24 – 2022 Fijian general election: The Parliament of Fiji elects Sitiveni Rabuka as Prime Minister of Fiji, defeating incumbent Prime Minister Frank Bainimarama after a contentious election.',\n",
       " 'December 29 – Brazilian football legend Pelé dies at the age of 82, with his funeral being held at the Vila Belmiro stadium in Santos.',\n",
       " \"December 31 – Former Pope Benedict XVI dies at the age of 95, with his funeral being held in St. Peter's Square, presided over by Pope Francis and Cardinal Giovanni Battista Re.\",\n",
       " '',\n",
       " '',\n",
       " '== Demographics ==',\n",
       " 'The world population was estimated to have reached 8 billion after 11 years on 15 November 2022. China was the most populous country throughout the year, followed by India. Africa was the fastest growing continent.',\n",
       " '',\n",
       " '',\n",
       " '== Deaths ==',\n",
       " '',\n",
       " '',\n",
       " '== Nobel Prizes ==',\n",
       " '',\n",
       " '',\n",
       " '== References ==',\n",
       " '',\n",
       " '',\n",
       " '== External links ==',\n",
       " ' Media related to 2022 at Wikimedia Commons']"
      ]
     },
     "execution_count": 66,
     "metadata": {},
     "output_type": "execute_result"
    }
   ],
   "execution_count": 66
  },
  {
   "cell_type": "code",
   "id": "a4011316",
   "metadata": {
    "ExecuteTime": {
     "end_time": "2025-03-14T18:12:30.687201Z",
     "start_time": "2025-03-14T18:12:30.632163Z"
    }
   },
   "source": [
    "import pandas as pd\n",
    "\n",
    "# Load page text into a dataframe\n",
    "df = pd.DataFrame()\n",
    "df[\"text\"] = response_dict[\"query\"][\"pages\"][0][\"extract\"].split(\"\\n\")\n",
    "\n",
    "df = df[df[\"text\"].str.len() > 0]\n",
    "df = df[~df[\"text\"].str.startswith(\"==\")]\n",
    "\n",
    "# copied from 4.10:\n",
    "from dateutil.parser import parse\n",
    "\n",
    "# Clean up text to remove empty lines and headings\n",
    "df = df[(df[\"text\"].str.len() > 0) & (~df[\"text\"].str.startswith(\"==\"))]\n",
    "\n",
    "# In some cases dates are used as headings instead of being part of the\n",
    "# text sample; adjust so dated text samples start with dates\n",
    "prefix = \"\"\n",
    "for (i, row) in df.iterrows():\n",
    "    # If the row already has \" - \", it already has the needed date prefix\n",
    "    if \" – \" not in row[\"text\"]:\n",
    "        try:\n",
    "            # If the row's text is a date, set it as the new prefix\n",
    "            parse(row[\"text\"])\n",
    "            prefix = row[\"text\"]\n",
    "        except:\n",
    "            # If the row's text isn't a date, add the prefix\n",
    "            row[\"text\"] = prefix + \" – \" + row[\"text\"]\n",
    "df = df[df[\"text\"].str.contains(\" – \")].reset_index(drop=True)\n",
    "\n",
    "\n",
    "df.reset_index(inplace=True, drop=True)\n"
   ],
   "outputs": [],
   "execution_count": 67
  },
  {
   "cell_type": "code",
   "id": "f37f65ef",
   "metadata": {
    "ExecuteTime": {
     "end_time": "2025-03-14T18:12:32.252228Z",
     "start_time": "2025-03-14T18:12:32.243804Z"
    }
   },
   "source": [
    "df\n",
    "df.head()\n",
    "df.tail()\n",
    "\n"
   ],
   "outputs": [
    {
     "data": {
      "text/plain": [
       "                                                  text\n",
       "193  December 24 – 2022 Fijian general election: Th...\n",
       "194  December 29 – Brazilian football legend Pelé d...\n",
       "195  December 31 – Former Pope Benedict XVI dies at...\n",
       "196  December 7 – The world population was estimate...\n",
       "197  December 7 –  Media related to 2022 at Wikimed..."
      ],
      "text/html": [
       "<div>\n",
       "<style scoped>\n",
       "    .dataframe tbody tr th:only-of-type {\n",
       "        vertical-align: middle;\n",
       "    }\n",
       "\n",
       "    .dataframe tbody tr th {\n",
       "        vertical-align: top;\n",
       "    }\n",
       "\n",
       "    .dataframe thead th {\n",
       "        text-align: right;\n",
       "    }\n",
       "</style>\n",
       "<table border=\"1\" class=\"dataframe\">\n",
       "  <thead>\n",
       "    <tr style=\"text-align: right;\">\n",
       "      <th></th>\n",
       "      <th>text</th>\n",
       "    </tr>\n",
       "  </thead>\n",
       "  <tbody>\n",
       "    <tr>\n",
       "      <th>193</th>\n",
       "      <td>December 24 – 2022 Fijian general election: Th...</td>\n",
       "    </tr>\n",
       "    <tr>\n",
       "      <th>194</th>\n",
       "      <td>December 29 – Brazilian football legend Pelé d...</td>\n",
       "    </tr>\n",
       "    <tr>\n",
       "      <th>195</th>\n",
       "      <td>December 31 – Former Pope Benedict XVI dies at...</td>\n",
       "    </tr>\n",
       "    <tr>\n",
       "      <th>196</th>\n",
       "      <td>December 7 – The world population was estimate...</td>\n",
       "    </tr>\n",
       "    <tr>\n",
       "      <th>197</th>\n",
       "      <td>December 7 –  Media related to 2022 at Wikimed...</td>\n",
       "    </tr>\n",
       "  </tbody>\n",
       "</table>\n",
       "</div>"
      ]
     },
     "execution_count": 68,
     "metadata": {},
     "output_type": "execute_result"
    }
   ],
   "execution_count": 68
  },
  {
   "cell_type": "markdown",
   "id": "7eff2773",
   "metadata": {},
   "source": [
    "### Creating an Embeddings Index with `openai.Embedding`"
   ]
  },
  {
   "cell_type": "code",
   "id": "72b7f51e",
   "metadata": {
    "ExecuteTime": {
     "end_time": "2025-03-14T18:12:43.002871Z",
     "start_time": "2025-03-14T18:12:37.218279Z"
    }
   },
   "source": [
    "EMBEDDING_MODEL_NAME = \"text-embedding-ada-002\"\n",
    "batch_size = 100\n",
    "embeddings = []\n",
    "for i in range(0, len(df), batch_size):\n",
    "    # Send text data to OpenAI model to get embeddings\n",
    "    response = openai.Embedding.create(\n",
    "        input=df.iloc[i:i+batch_size][\"text\"].tolist(),\n",
    "        engine=EMBEDDING_MODEL_NAME\n",
    "    )\n",
    "\n",
    "    # Add embeddings to list\n",
    "    embeddings.extend([data[\"embedding\"] for data in response[\"data\"]])\n",
    "\n",
    "# Add embeddings list to dataframe\n",
    "df[\"embeddings\"] = embeddings\n",
    "\n",
    "df.to_csv(\"embeddings.csv\")"
   ],
   "outputs": [],
   "execution_count": 69
  },
  {
   "cell_type": "code",
   "id": "8d5405d9",
   "metadata": {
    "ExecuteTime": {
     "end_time": "2025-03-14T18:12:47.599345Z",
     "start_time": "2025-03-14T18:12:47.585247Z"
    }
   },
   "source": "df\n",
   "outputs": [
    {
     "data": {
      "text/plain": [
       "                                                  text  \\\n",
       "0     – 2022 (MMXXII) was a common year starting on...   \n",
       "1     – The year began with another wave in the COV...   \n",
       "2     – 2022 was also dominated by wars and armed c...   \n",
       "3     – The ongoing Russian invasion of Ukraine esc...   \n",
       "4     January 1 – The Regional Comprehensive Econom...   \n",
       "..                                                 ...   \n",
       "193  December 24 – 2022 Fijian general election: Th...   \n",
       "194  December 29 – Brazilian football legend Pelé d...   \n",
       "195  December 31 – Former Pope Benedict XVI dies at...   \n",
       "196  December 7 – The world population was estimate...   \n",
       "197  December 7 –  Media related to 2022 at Wikimed...   \n",
       "\n",
       "                                            embeddings  \n",
       "0    [-2.4516581106581725e-05, -0.01798415742814541...  \n",
       "1    [-0.004297760780900717, -0.01981227844953537, ...  \n",
       "2    [-0.009628579951822758, -0.015318196266889572,...  \n",
       "3    [-0.014748847112059593, -0.007639929186552763,...  \n",
       "4    [-0.0005859995144419372, -0.024158434942364693...  \n",
       "..                                                 ...  \n",
       "193  [-0.011724342592060566, -0.009384616278111935,...  \n",
       "194  [-0.007581493351608515, 0.0041535887867212296,...  \n",
       "195  [0.023601267486810684, 0.007735467050224543, -...  \n",
       "196  [-0.004104986786842346, -0.014414746314287186,...  \n",
       "197  [-0.010552957653999329, -0.01815314218401909, ...  \n",
       "\n",
       "[198 rows x 2 columns]"
      ],
      "text/html": [
       "<div>\n",
       "<style scoped>\n",
       "    .dataframe tbody tr th:only-of-type {\n",
       "        vertical-align: middle;\n",
       "    }\n",
       "\n",
       "    .dataframe tbody tr th {\n",
       "        vertical-align: top;\n",
       "    }\n",
       "\n",
       "    .dataframe thead th {\n",
       "        text-align: right;\n",
       "    }\n",
       "</style>\n",
       "<table border=\"1\" class=\"dataframe\">\n",
       "  <thead>\n",
       "    <tr style=\"text-align: right;\">\n",
       "      <th></th>\n",
       "      <th>text</th>\n",
       "      <th>embeddings</th>\n",
       "    </tr>\n",
       "  </thead>\n",
       "  <tbody>\n",
       "    <tr>\n",
       "      <th>0</th>\n",
       "      <td>– 2022 (MMXXII) was a common year starting on...</td>\n",
       "      <td>[-2.4516581106581725e-05, -0.01798415742814541...</td>\n",
       "    </tr>\n",
       "    <tr>\n",
       "      <th>1</th>\n",
       "      <td>– The year began with another wave in the COV...</td>\n",
       "      <td>[-0.004297760780900717, -0.01981227844953537, ...</td>\n",
       "    </tr>\n",
       "    <tr>\n",
       "      <th>2</th>\n",
       "      <td>– 2022 was also dominated by wars and armed c...</td>\n",
       "      <td>[-0.009628579951822758, -0.015318196266889572,...</td>\n",
       "    </tr>\n",
       "    <tr>\n",
       "      <th>3</th>\n",
       "      <td>– The ongoing Russian invasion of Ukraine esc...</td>\n",
       "      <td>[-0.014748847112059593, -0.007639929186552763,...</td>\n",
       "    </tr>\n",
       "    <tr>\n",
       "      <th>4</th>\n",
       "      <td>January 1 – The Regional Comprehensive Econom...</td>\n",
       "      <td>[-0.0005859995144419372, -0.024158434942364693...</td>\n",
       "    </tr>\n",
       "    <tr>\n",
       "      <th>...</th>\n",
       "      <td>...</td>\n",
       "      <td>...</td>\n",
       "    </tr>\n",
       "    <tr>\n",
       "      <th>193</th>\n",
       "      <td>December 24 – 2022 Fijian general election: Th...</td>\n",
       "      <td>[-0.011724342592060566, -0.009384616278111935,...</td>\n",
       "    </tr>\n",
       "    <tr>\n",
       "      <th>194</th>\n",
       "      <td>December 29 – Brazilian football legend Pelé d...</td>\n",
       "      <td>[-0.007581493351608515, 0.0041535887867212296,...</td>\n",
       "    </tr>\n",
       "    <tr>\n",
       "      <th>195</th>\n",
       "      <td>December 31 – Former Pope Benedict XVI dies at...</td>\n",
       "      <td>[0.023601267486810684, 0.007735467050224543, -...</td>\n",
       "    </tr>\n",
       "    <tr>\n",
       "      <th>196</th>\n",
       "      <td>December 7 – The world population was estimate...</td>\n",
       "      <td>[-0.004104986786842346, -0.014414746314287186,...</td>\n",
       "    </tr>\n",
       "    <tr>\n",
       "      <th>197</th>\n",
       "      <td>December 7 –  Media related to 2022 at Wikimed...</td>\n",
       "      <td>[-0.010552957653999329, -0.01815314218401909, ...</td>\n",
       "    </tr>\n",
       "  </tbody>\n",
       "</table>\n",
       "<p>198 rows × 2 columns</p>\n",
       "</div>"
      ]
     },
     "execution_count": 70,
     "metadata": {},
     "output_type": "execute_result"
    }
   ],
   "execution_count": 70
  },
  {
   "cell_type": "markdown",
   "id": "bd7b7331",
   "metadata": {},
   "source": [
    "## Step 2"
   ]
  },
  {
   "cell_type": "markdown",
   "id": "2152dad6",
   "metadata": {},
   "source": [
    "### Finding Relevant Data with Cosine Similarity"
   ]
  },
  {
   "cell_type": "code",
   "id": "8dbd7bdf",
   "metadata": {
    "ExecuteTime": {
     "end_time": "2025-03-14T18:12:59.902148Z",
     "start_time": "2025-03-14T18:12:58.842877Z"
    }
   },
   "source": [
    "print(EMBEDDING_MODEL_NAME)\n",
    "print(openai.api_key)\n",
    "print(openai.api_base)\n",
    "\n",
    "from openai.embeddings_utils import get_embedding, distances_from_embeddings\n",
    "\n",
    "question_embeddings = get_embedding(ukraine_question, engine=EMBEDDING_MODEL_NAME)\n",
    "print(question_embeddings)\n"
   ],
   "outputs": [
    {
     "name": "stdout",
     "output_type": "stream",
     "text": [
      "text-embedding-ada-002\n",
      "voc-1450252964126677391061467d00e2abc1555.10371114\n",
      "https://openai.vocareum.com/v1\n",
      "[0.0016044961521402001, -0.019282648339867592, 0.0034815892577171326, -0.013990121893584728, -0.02527659200131893, 0.001979914726689458, -0.013735060580074787, -0.024689950048923492, -0.013352468609809875, -0.02120836079120636, 0.022394398227334023, 0.02462618611752987, -0.009048305451869965, -0.011873112060129642, -0.006309583317488432, -0.010489403270184994, 0.010610557161271572, -0.003959829453378916, 0.03336204215884209, -0.01868325285613537, -0.01435996126383543, -0.01624741591513157, 0.0033349287696182728, 0.0013040017802268267, -0.014831825159490108, 0.006733622867614031, 0.013735060580074787, -0.029102513566613197, 0.015431219711899757, -0.014449232257902622, -0.01113981008529663, -0.022815249860286713, -0.020494189113378525, -0.016158144921064377, -0.035121966153383255, -0.03239280730485916, 0.009150330908596516, -0.009367132559418678, 0.015048626810312271, -0.004061853978782892, 0.009507416747510433, 0.017892561852931976, -0.004600671585649252, 0.00775386905297637, -0.0016658703098073602, 0.0018428191542625427, 0.006325524765998125, -0.007875023409724236, 0.009896385483443737, 0.02521282620728016, 0.041090402752161026, 0.0366523340344429, -0.035734113305807114, -0.018976572901010513, -0.006867530290037394, -0.01765025407075882, -0.01059142779558897, 0.007358523551374674, 0.003468835959210992, -0.021833261474967003, 0.010412884876132011, -0.008289498277008533, -0.004929062910377979, 0.0002086323220282793, -0.012051654979586601, 0.011962383054196835, -0.02227962017059326, -0.003959829453378916, -0.018555723130702972, -0.004600671585649252, 0.0233636312186718, 0.051675453782081604, 0.01273394376039505, 0.009966527111828327, 0.039151936769485474, -0.009392638690769672, -0.013186678290367126, -0.02109358459711075, -0.016017859801650047, -0.02429460547864437, 0.01905309222638607, -0.018874548375606537, -0.00997290387749672, 0.019435685127973557, 0.004568788688629866, 0.013288702815771103, 0.005796271841973066, 0.027164047583937645, -0.026245824992656708, -0.009870879352092743, 0.0055922227911651134, 0.002446996048092842, 0.02062172070145607, 0.018198635429143906, -0.00537860905751586, -0.01802009344100952, -0.024090556427836418, 0.025659184902906418, 0.005321220029145479, -0.02403954416513443, 0.015137898735702038, 0.0068866596557199955, -0.03700942173600197, -0.0156862810254097, -0.03815719857811928, -0.007772998418658972, -0.013020887970924377, -0.002383230719715357, 0.015482231974601746, -0.0012864663731306791, -0.015648022294044495, 0.02202455885708332, 0.014398219995200634, -0.051063306629657745, 0.0144874919205904, -0.023440150544047356, 0.01288698147982359, -0.024243593215942383, -0.0031484151259064674, -0.049660470336675644, 0.020277386531233788, 0.01832616701722145, 0.005891920067369938, 0.00035170585033483803, 0.024447642266750336, -0.008053566329181194, -0.0005615337868221104, 0.013441739603877068, 0.0190275851637125, -0.006491314619779587, 0.04017218202352524, 0.011018656194210052, -0.005222383886575699, -0.020774757489562035, -0.006162922829389572, 0.020889535546302795, -0.029255550354719162, 0.007588078733533621, -0.011586167849600315, -0.02958713099360466, 0.014385467395186424, 0.0011772681027650833, -0.013773319311439991, -0.0072437459602952, 0.014933849684894085, 0.0377235934138298, 0.01224295049905777, 0.017892561852931976, -0.011299223639070988, -0.0055922227911651134, 0.03382115066051483, 0.01319943182170391, 0.013110159896314144, 0.010712581686675549, 0.04519689455628395, 0.0018444133456796408, -0.018836289644241333, 0.0036282495129853487, 0.007811257615685463, 0.0020516507793217897, -0.011732827872037888, 0.0025952504947781563, -0.012874227948486805, 0.01266380213201046, -0.010929384268820286, 0.03045433945953846, 0.04580904170870781, 0.018313413485884666, 0.012517142109572887, -0.014589516445994377, -0.00839152280241251, 0.015367453917860985, -0.021999051794409752, 0.006178864277899265, 0.009226849302649498, 0.026271332055330276, 0.0076964800246059895, 0.0022604824043810368, -0.031091993674635887, 0.0002401164674665779, -0.02670493721961975, 0.013040018267929554, 0.016145391389727592, 0.00696955481544137, -0.0031340678688138723, -0.0007034117006696761, 0.021501682698726654, 0.00310696754604578, 0.011828475631773472, -0.015137898735702038, 0.007881399244070053, 0.012702061794698238, 0.015392960049211979, 0.0011326323729008436, -0.6419387459754944, -0.04172805696725845, -0.004638930782675743, 0.002472502179443836, 0.0022349762730300426, 0.018900055438280106, 0.024830235168337822, 0.01040650811046362, -0.008691219612956047, -0.0056145405396819115, -0.0032185569871217012, 0.007224616128951311, -0.01508688647300005, -0.0019033962162211537, -0.019257141277194023, -0.035708606243133545, -0.007167227566242218, 0.009698712266981602, 0.04103939235210419, -0.009086565114557743, -0.0038578049279749393, 0.03751954436302185, -0.009909138083457947, 0.01577555201947689, 0.007358523551374674, -0.016451464965939522, -0.012740320526063442, -0.02448590099811554, -0.0253020990639925, 0.03461184352636337, -0.0228662621229887, 0.022254113107919693, 0.0017471711616963148, 0.014576762914657593, 0.030658388510346413, -0.004705884028226137, -0.011063291691243649, 0.03866732120513916, -0.0022939592599868774, 0.025812221691012383, -0.014882837422192097, -0.001944843796081841, 0.0030862437561154366, 0.005311655346304178, 6.112508708611131e-05, 0.0057898955419659615, 0.037927642464637756, 0.009705089032649994, 0.03073490783572197, -0.021667473018169403, -0.014155912213027477, 0.006402043160051107, -0.01337797474116087, 0.01350550539791584, 0.014615022577345371, -0.009086565114557743, -0.010444767773151398, 0.002445401856675744, -0.008327757008373737, -0.03892238065600395, -0.024664444848895073, 0.01924438774585724, -0.014041134156286716, 0.0188617967069149, -0.033668115735054016, -0.01624741591513157, -0.03637176752090454, 0.009016423486173153, 0.023465655744075775, -0.0015455131651833653, 0.031449079513549805, 0.007020567078143358, 0.00987725518643856, 0.002470907988026738, 0.009717842563986778, 0.00569424731656909, 0.021527187898755074, 0.0022078759502619505, 0.014678788371384144, -0.03466285392642021, -0.02678145468235016, -0.019869288429617882, -0.025710197165608406, 0.0031245031859725714, 0.03185717761516571, 0.005930179264396429, -0.02507254295051098, 0.006739999633282423, -0.0015231953002512455, -0.012823215685784817, -0.003998088650405407, 0.03700942173600197, -0.007033320143818855, 0.007154474500566721, -0.020634474232792854, 0.05182849243283272, -0.0011310381814837456, -0.0006735217175446451, 0.010814606212079525, 0.01963973417878151, 0.0014881242532283068, 0.008410652168095112, -0.005158618558198214, -0.00383867509663105, -0.005031087435781956, 0.022560186684131622, -0.035683099180459976, 0.005238324869424105, 0.03736650571227074, -0.03129604458808899, 0.028949476778507233, -0.01877252385020256, -0.0018571664113551378, -0.00039952987572178245, -0.0017710831016302109, -0.027087528258562088, 0.011426754295825958, 0.03435678035020828, 0.022904520854353905, -0.004744143225252628, 0.004954569041728973, -0.011044162325561047, 0.040529269725084305, -0.027444614097476006, -0.0049705104902386665, 0.009105694480240345, 0.0038354869466274977, -0.018951067700982094, -0.019869288429617882, 0.0019225259311497211, 0.01830066181719303, 0.009953774511814117, 0.0307094007730484, -0.01765025407075882, -0.001956002786755562, 0.02555716037750244, 0.010808230377733707, -0.006988684646785259, 0.011637180112302303, 0.00754981953650713, -0.010738087818026543, 0.005107605829834938, 0.014742553234100342, 0.016706526279449463, 0.014296195469796658, -0.004498646594583988, -0.0121154198423028, 0.009743348695337772, -0.02235613763332367, 0.009979280643165112, 0.024281851947307587, -0.004702696111053228, 0.011777463369071484, -0.02673044241964817, -0.019359165802598, -0.00318029779009521, -0.017841549590229988, -0.00550613971427083, 0.015125145204365253, -0.03252033889293671, 0.006076839752495289, 0.026908986270427704, -0.003167544724419713, 0.01406664028763771, 0.011720075272023678, -0.0027179988101124763, 0.010463897138834, 0.01793082244694233, -0.008608324453234673, -0.010438391007483006, -0.0016339875292032957, -0.009890008717775345, 0.006312771700322628, -0.001049737329594791, 0.020264634862542152, 0.014870083890855312, -0.02031564712524414, 0.0015479043358936906, -0.018287908285856247, -0.0023816365282982588, 0.016872316598892212, 0.0076773501932621, -0.032596856355667114, 0.0022206290159374475, 0.01351825799793005, 0.024830235168337822, -0.016132637858390808, 0.029102513566613197, 0.012211068533360958, 0.017471710219979286, -0.014321701601147652, 0.015061380341649055, 0.01260641310364008, -0.021986300125718117, -0.0070843324065208435, -0.009086565114557743, 0.006995060946792364, 0.024141568690538406, 0.013467245735228062, 0.016285674646496773, 0.025378616526722908, -0.00809820182621479, 0.006650728173553944, 0.0014004468685016036, 0.004849356133490801, -0.008837880566716194, 0.0015024715103209019, -0.0149210961535573, 0.0477985218167305, 0.00893990509212017, 0.01804559864103794, -0.01924438774585724, -0.025429628789424896, -0.015239923261106014, -0.003401882480829954, 0.022088324651122093, -0.0051649948582053185, -0.01844094507396221, -0.014576762914657593, -0.0020930981263518333, -0.016068872064352036, -0.026883479207754135, 0.014117652550339699, -0.019537709653377533, -0.028821947053074837, -0.013696800917387009, -0.004648495465517044, 0.010304483585059643, 0.02647538110613823, -0.00875498540699482, -0.004842979833483696, 0.009207719005644321, -0.008149214088916779, 0.02815878763794899, 0.03272438794374466, 0.006169299595057964, 0.008270367980003357, 0.008640207350254059, -0.0036027433816343546, -0.018058352172374725, 0.009379886090755463, -0.0027419107500463724, 0.026806961745023727, 0.01479356549680233, -0.0054200561717152596, -0.0160561203956604, 0.006354218814522028, 0.0041479370556771755, -0.03754504770040512, -0.012185562402009964, 0.003169138915836811, -0.008499924093484879, -0.002592062344774604, -0.006296830251812935, -0.012867851182818413, -0.04323292151093483, 0.011790216900408268, -0.001186035806313157, 0.012128173373639584, 0.034841395914554596, 0.013467245735228062, -0.005062970332801342, 0.0014108087634667754, 0.0041256193071603775, 0.004039536230266094, -0.004658060148358345, 0.022955533117055893, 0.025263838469982147, 0.01680855080485344, -0.03448431193828583, -0.026577405631542206, -0.03519848361611366, 0.0001762514584697783, -0.011930500157177448, 0.001320740208029747, -0.0015598603058606386, 0.015533244237303734, 0.0009038741118274629, 0.009290614165365696, 0.0080280601978302, -0.019269894808530807, -0.014104899950325489, 0.021310387179255486, 0.0033413053024560213, 0.00739040644839406, -0.02036665938794613, -0.016961587592959404, 0.01708911918103695, -0.04557948559522629, 0.018581228330731392, 0.016999848186969757, 0.011541531421244144, -0.019359165802598, -0.00711621530354023, -0.027725182473659515, -0.014946602284908295, 0.024141568690538406, -0.030275797471404076, -0.017382439225912094, -0.012587283737957478, -0.012179185636341572, -0.003912005573511124, -0.014640528708696365, -0.01703810691833496, 0.02588873915374279, -0.011305599473416805, 0.007772998418658972, -0.002491631777957082, 0.00804081279784441, 0.010253471322357655, 0.001662682043388486, 0.002225411357358098, -0.012689308263361454, 0.024396630004048347, -0.0003511080576572567, 0.027827206999063492, -0.028388341888785362, 0.01101227942854166, 0.02076200395822525, 0.019601473584771156, -0.009233225136995316, -0.017994586378335953, -0.019282648339867592, -0.03101547621190548, 0.08820025622844696, 0.03213774412870407, 0.013492751866579056, 0.018364425748586655, 0.012918863445520401, -0.005681494250893593, -0.002408736851066351, -0.03218875825405121, -0.0010816201101988554, 0.0017216649139299989, 0.012364105321466923, 0.013569270260632038, 0.014092146418988705, 0.015558750368654728, 0.021284880116581917, 0.002042085863649845, 0.029638143256306648, -0.02230512537062168, -0.01550773810595274, -0.018453698605298996, 0.006322336383163929, 0.0019575967453420162, -0.0001947832788573578, 0.0317806601524353, -0.004045912530273199, 0.008908022195100784, 0.006038580555468798, -0.013543764129281044, 0.025059789419174194, -0.0007181574474088848, -0.025365862995386124, 0.008270367980003357, 0.0034401416778564453, -0.009526546113193035, -0.011656309477984905, -0.01765025407075882, 0.002517137909308076, 0.013735060580074787, 0.007543443236500025, 0.005082099698483944, 0.013416233472526073, -0.011624426580965519, -0.010636063292622566, -0.0006037783459760249, 0.010540415532886982, -0.003070302540436387, -0.0017073177732527256, 0.025480641052126884, -0.011968759819865227, -0.003055955283343792, 0.01364578865468502, 0.007817634381353855, -0.02516181394457817, -0.009941020980477333, -0.01673203334212303, 0.01024071779102087, 0.013875343836843967, 0.0045305294916033745, -0.03382115066051483, -0.00016957602929323912, 0.0020484623964875937, -0.02176949754357338, -0.006599715910851955, -0.027521133422851562, -0.0010481432545930147, -0.03757055476307869, -0.020137103274464607, -0.01319943182170391, -0.013786072842776775, -0.008672090247273445, -0.01874701865017414, -0.03292843699455261, -0.019091350957751274, 0.01675753854215145, 0.031245030462741852, 0.026857974007725716, 0.0011079233372583985, -0.013569270260632038, -0.023044804111123085, 0.03239280730485916, 0.012389611452817917, -0.042518749833106995, 0.00481109693646431, -0.0016307992627844214, 0.005856849253177643, -0.009826242923736572, -0.01052128616720438, -0.004023594781756401, 0.003373187966644764, -0.020404918119311333, 0.004380680620670319, 0.011815723031759262, 0.01424518320709467, -0.015201663598418236, 0.002223817165941, 0.0051873126067221165, -0.01319943182170391, 0.023389136418700218, -0.003998088650405407, 0.02062172070145607, 0.016936082392930984, -0.02277698926627636, -0.011114303953945637, -0.0006328712916001678, -0.006982307881116867, 0.00032679751166142523, 0.00754981953650713, 0.018504710868000984, -0.005222383886575699, 0.0003905628982465714, 0.020634474232792854, -0.0404527485370636, -0.02673044241964817, 0.020800262689590454, 0.024945013225078583, 0.02871992252767086, 0.014729800634086132, 0.019282648339867592, -0.0001566236896906048, 0.020966053009033203, 0.0043360451236367226, 0.0017997774994000793, -0.0022461351472884417, 0.009277861565351486, -0.00902279932051897, 0.017701266333460808, -7.761440792819485e-05, -0.019767263904213905, -0.026806961745023727, -0.015903083607554436, 0.0018874548841267824, 0.023019298911094666, 0.008723102509975433, -0.005643235053867102, -0.011229081079363823, 0.015864823013544083, -0.015239923261106014, 0.016234662383794785, 0.014844577759504318, -0.02076200395822525, -0.01823689602315426, -0.0024167075753211975, -0.04114141687750816, -0.03473937138915062, -0.028949476778507233, -0.021119089797139168, 0.008805997669696808, 0.0006161328637972474, -0.009048305451869965, 0.00520325405523181, -0.01916787028312683, -0.011726451106369495, -0.00010810222738655284, 0.010412884876132011, 0.004026783164590597, -0.01830066181719303, -0.015648022294044495, 0.0313725620508194, 0.01437271386384964, 0.008015306666493416, 0.031117500737309456, 0.025225579738616943, 0.013479999266564846, -0.0026877103373408318, -0.0032344984356313944, -0.0014737771125510335, 0.00798342376947403, 0.008908022195100784, -0.0027339402586221695, -0.010929384268820286, 0.04147299751639366, 0.0068739065900444984, -0.010565921664237976, -0.005404115188866854, -0.01944843679666519, 0.011114303953945637, -0.012121796607971191, 0.01694883592426777, -0.016770292073488235, -0.01921888254582882, -0.003315799171105027, -0.013173925690352917, -0.02300654537975788, -0.0013645788421854377, -0.022649459540843964, -0.024587925523519516, 0.016566243022680283, 0.0007867052336223423, 0.03836124762892723, -0.013709554448723793, -0.003046390600502491, -0.005585846491158009, 0.02675594948232174, -0.004393434152007103, -0.005786707159131765, -0.01759924180805683, -0.012236574664711952, 0.013467245735228062, 0.01047664973884821, 0.011292846873402596, 0.006593339145183563, -0.004842979833483696, 0.013760566711425781, 0.009099317714571953, -0.0039183818735182285, 0.03575962036848068, 0.001750359428115189, -0.011362988501787186, 0.008021683432161808, -0.027521133422851562, -0.009947397746145725, 0.006382913328707218, -0.0038801226764917374, -0.007077956106513739, 0.010278977453708649, 0.009277861565351486, 0.0012697279453277588, 0.014168664813041687, -0.013237690553069115, -0.004613424651324749, 0.002408736851066351, -0.010291730985045433, 0.01638769917190075, 0.012051654979586601, 0.04415114223957062, 0.020672732964158058, 0.01235772855579853, -0.02958713099360466, 0.012631919234991074, -0.008780491538345814, -0.0026717688888311386, 0.015571502968668938, 0.016234662383794785, -0.01678304560482502, 0.014946602284908295, -0.006197993643581867, 0.002351348055526614, 0.00844891183078289, -0.024677198380231857, 0.02644987590610981, 0.0140538876876235, 0.0006651525036431849, 0.011764710769057274, -0.0631532222032547, 0.008480793796479702, 0.020404918119311333, -0.03292843699455261, -0.010023916140198708, 0.008079072460532188, 0.0022812059614807367, -0.014092146418988705, 0.03435678035020828, -0.019269894808530807, 0.01787981018424034, 0.00034453225089237094, -0.02670493721961975, 0.010412884876132011, -0.0017025353154167533, -0.003631437662988901, -0.0019751323852688074, -0.025506148114800453, 0.003459271276369691, 0.006204370409250259, 0.0035899903159588575, -0.01538020744919777, 0.02417982742190361, -0.007760245352983475, -0.013913603499531746, -0.004658060148358345, 0.019091350957751274, 0.010004786774516106, 0.005872790701687336, 0.003046390600502491, 0.026577405631542206, 0.0212976336479187, 0.012976252473890781, -0.022879013791680336, -0.010948513634502888, -0.007957917638123035, -0.01678304560482502, 0.012925240211188793, -0.022674964740872383, -0.005461503751575947, -0.016464218497276306, -0.02235613763332367, -0.006918542552739382, -0.015533244237303734, 0.0031037793960422277, -0.0027801701799035072, -0.005901484750211239, -0.018402686342597008, 0.009233225136995316, -0.001989479409530759, 0.02342739701271057, 0.005066158715635538, 0.020213622599840164, 0.013135666027665138, 0.01363303605467081, -0.021616460755467415, 0.014155912213027477, 0.020634474232792854, 0.03185717761516571, -0.018581228330731392, -0.004852544516324997, 0.0026717688888311386, -0.020264634862542152, 0.022789742797613144, -0.005754824727773666, -0.020124349743127823, 0.0006332698394544423, -0.014602269046008587, -0.013288702815771103, 0.0010983585380017757, -0.02644987590610981, 0.008818750269711018, 0.0051873126067221165, -0.0031834859400987625, -0.02451140806078911, 0.00028813976678065956, 0.04001914709806442, -0.0028136468026787043, 0.027164047583937645, 0.012274833396077156, -0.04004465043544769, 0.017560983076691628, -0.0036473791114985943, 0.02333812415599823, -0.0005400129593908787, -0.023912012577056885, -0.003991711884737015, 0.02174399048089981, 0.018032846972346306, -0.0026606100145727396, -0.017305921763181686, -0.01450024452060461, 0.008703973144292831, -0.007581702433526516, 0.014691540971398354, 0.020404918119311333, -0.02602902427315712, -0.011758334003388882, 0.04723738506436348, 0.030887944623827934, 0.0030001606792211533, 0.008786868304014206, -0.0013518257765099406, -0.00028475222643464804, -0.013479999266564846, 0.001480950741097331, -0.015265429392457008, -0.018428191542625427, 0.04320741444826126, -0.003008131170645356, -0.004039536230266094, 0.012676555663347244, 0.004900368396192789, 0.004004464950412512, 0.023682458326220512, -0.004065042361617088, -0.005895108450204134, 0.021616460755467415, 0.01708911918103695, 0.009367132559418678, 0.02014985680580139, -0.026653924956917763, 0.0031850801315158606, 0.022853508591651917, 0.011299223639070988, -0.025952504947781563, -0.027827206999063492, -0.002690898487344384, 0.009322497062385082, 0.004415751900523901, -0.010221588425338268, 0.003360434900969267, -0.004262715112417936, 0.015265429392457008, 0.008468041196465492, -0.01717839017510414, 0.0008982946164906025, -0.01907859928905964, -0.010553168132901192, 0.006271324120461941, 0.02384824864566326, 0.011777463369071484, -0.04843617603182793, -0.005098041146993637, -0.008244861848652363, -0.005120358895510435, -0.018721511587500572, -0.00816834345459938, -0.0064721847884356976, -0.03249483183026314, -0.013607529923319817, -0.02474096231162548, -0.020723745226860046, -0.009481910616159439, -0.014819071628153324, 0.0425952672958374, 0.0202263742685318, 0.000752032792661339, -0.0009222066728398204, -0.0037398389540612698, 0.00244859023950994, 0.007836763747036457, 0.010980396531522274, -0.016566243022680283, 0.008837880566716194, 0.012587283737957478, -0.01295712310820818, 0.01603061333298683, -0.003978958819061518, 0.021119089797139168, -0.0008006539428606629, -0.01582656428217888, 0.007683726958930492, 0.014551256783306599, -0.021119089797139168, 0.0015829752665013075, 0.005263831000775099, -0.002065998036414385, 0.005110794212669134, -0.03808067739009857, -0.017854303121566772, -0.022011805325746536, -0.016770292073488235, 0.02202455885708332, 0.0006930498639121652, -0.030097253620624542, 0.035172976553440094, -0.004718637093901634, 3.8906837289687246e-05, 0.012134550139307976, 0.01161167398095131, -0.005955685395747423, 0.01961422711610794, 0.24036993086338043, -0.01052128616720438, 0.013837085105478764, 0.022674964740872383, -0.01949944905936718, 0.009743348695337772, 0.0307094007730484, -0.011490519158542156, 0.021731236949563026, 0.008206603117287159, -0.013237690553069115, 0.001492906711064279, -0.006108722183853388, 0.00986450258642435, -0.011044162325561047, -0.012421493418514729, -0.02986769936978817, -0.027113035321235657, -0.03014826588332653, 0.00553483422845602, -0.020927794277668, 0.000538020278327167, -0.008174720220267773, -0.006188428960740566, 0.007447795011103153, 0.0016578995855525136, -0.012013395316898823, 0.03269888088107109, -0.005021522752940655, -0.010820982977747917, -0.007007814012467861, 0.008359639905393124, 0.018849043175578117, 0.025085296481847763, 0.006944048684090376, 0.00084409408736974, 0.004045912530273199, 0.006287265568971634, 0.002043680055066943, -0.00200701504945755, 0.017586488276720047, -0.0016204374842345715, 0.002236570231616497, 0.008302250877022743, -0.034280262887477875, 0.011063291691243649, -0.003730274038389325, -0.02322334796190262, -0.00047146520228125155, 0.03499443456530571, -0.008219355717301369, -0.01804559864103794, 0.014398219995200634, 0.031449079513549805, 0.01052128616720438, -0.009309743531048298, 0.036244235932826996, -0.0011836446356028318, -0.018338920548558235, -0.01994580775499344, -0.03326001763343811, 0.013135666027665138, -0.025200074538588524, 0.0047600846737623215, -0.021450670436024666, 0.043641019612550735, 0.020188115537166595, 0.01594134233891964, 0.005247890017926693, -0.022458162158727646, 0.017152884975075722, 0.007288381457328796, -0.03040332719683647, -0.0037621567025780678, -0.01138849463313818, -0.014857331290841103, 0.012925240211188793, 0.017803290858864784, 0.025149062275886536, -0.0060194507241249084, -0.014206924475729465, 0.026080036535859108, -0.0017647065687924623, 0.009915514849126339, -0.020162610337138176, -0.016859563067555428, 0.02087678201496601, 0.005174559541046619, -0.0033189875539392233, 0.009921891614794731, 0.006924918852746487, -0.023835495114326477, 0.0011453854385763407, 0.008614701218903065, 0.01776503212749958, 0.016260169446468353, 0.006561456248164177, 0.039942625910043716, 0.019295400008559227, -0.022088324651122093, -0.008238486014306545, 0.010017539374530315, 0.03644828498363495, -0.009654076769948006, -0.04236571118235588, -0.0001403834467055276, -0.009124823845922947, 0.0037589685525745153, 0.0030623318161815405, -0.048257630318403244, -0.00816834345459938, -0.0014769653789699078, 0.009692336432635784, -0.0038099808152765036, 0.005337161477655172, -0.013148418627679348, -0.021080831065773964, -0.0307094007730484, 0.019091350957751274, -0.012906110845506191, -0.00537860905751586, -0.03894788771867752, -0.009405392222106457, -0.010074928402900696, -0.013684048317372799, -0.02551889978349209, -0.02600351721048355, 0.02457517385482788, -0.02014985680580139, -0.04726289212703705, 0.02403954416513443, -0.005180936306715012, 0.012038901448249817, 0.00511398259550333, -0.022853508591651917, 0.0031005910132080317, 0.01652798429131508, 0.008582818321883678, -0.0007054043817333877, -0.026118295267224312, 0.0005515704397112131, -0.027929231524467468, 0.009634947404265404, 0.012498012743890285, 0.02398853190243244, -0.009858125820755959, 0.025710197165608406, 0.006561456248164177, -0.021960793063044548, 0.0020739685278385878, -0.031704142689704895, -0.013556517660617828, 0.001186035806313157, 0.004163878504186869, 0.006574209313839674, -0.015418466180562973, -0.02706202305853367, -0.025620926171541214, -0.023542175069451332, 0.03494342043995857, -0.018198635429143906, 0.008047189563512802, 0.012415117584168911, -0.04144749045372009, -0.03535152226686478, -0.013122912496328354, -0.15977050364017487, 0.012880604714155197, 0.01319943182170391, -0.0270365159958601, -2.2778684069635347e-05, 0.03810618445277214, 0.020659979432821274, -0.008308627642691135, -0.015673527494072914, -0.00974972452968359, 0.024473149329423904, 0.021552694961428642, -0.008672090247273445, -0.021616460755467415, 0.0006145387305878103, 0.002198311034590006, -0.019690746441483498, 0.015711786225438118, 0.00895265769213438, 0.006210746709257364, 0.03150009363889694, -0.013428987003862858, -0.011197199113667011, -0.012064407579600811, -0.008761361241340637, -0.016349440440535545, -0.029357576742768288, -0.02622031979262829, -0.030530858784914017, -0.007938788272440434, -0.019856536760926247, -0.0012976252473890781, 0.009845373220741749, -0.0006149372784420848, -0.005423244554549456, 0.009851749055087566, 0.005404115188866854, -0.0018252836307510734, -0.017714019864797592, 0.02551889978349209, 0.023605939000844955, 0.002458154922351241, 0.02387375384569168, 0.003682450158521533, -0.01594134233891964, 0.004661248531192541, 0.006029015406966209, -0.007875023409724236, 0.0053531029261648655, -0.007881399244070053, 0.004374304320663214, -0.022241361439228058, 0.019359165802598, -0.007811257615685463, 0.008997293189167976, 0.021820509806275368, 0.01978001743555069, -0.004071418661624193, 0.0053658559918403625, 0.019486697390675545, -0.029765674844384193, -0.013786072842776775, 0.02642436884343624, 0.004756896290928125, -0.014219677075743675, -0.00130798714235425, 0.00091662717750296, 0.026577405631542206, -0.016821304336190224, 0.00696955481544137, -0.0012920458102598786, -0.008863386698067188, 0.01994580775499344, -0.026883479207754135, -0.0030766790732741356, 0.015979601070284843, 0.018134871497750282, 0.008442535065114498, 0.004900368396192789, 0.0002735932939685881, -0.016591748222708702, 0.03578512370586395, -0.022598447278141975, 0.010125940665602684, -0.016464218497276306, 0.012217444367706776, -0.0027865467127412558, 0.00020036274509038776, -0.0066124689765274525, 0.0010935760801658034, -0.009035552851855755, -0.030581871047616005, -0.02527659200131893, -0.025824975222349167, 0.010387378744781017, 0.005844096187502146, 0.006963178515434265, 0.00851905345916748, 0.020889535546302795, -0.025289345532655716, -0.006322336383163929, -0.01217280887067318, -0.012058030813932419, -0.00586960231885314, 0.03326001763343811, -0.010202459059655666, 0.010801853612065315, -0.0032313100527971983, 0.03183167055249214, -0.010565921664237976, -0.004619800951331854, 0.010432014241814613, -0.014972108416259289, 0.0074796779081225395, 0.005719753447920084, 0.0116818156093359, 0.02333812415599823, -0.01064881682395935, 0.0033221757039427757, -0.004144749138504267, 0.05458315461874008, -0.0160561203956604, -0.014895590022206306, -0.007090709172189236, -0.007562572602182627, -0.0035517311189323664, -0.08172169327735901, -0.012695685029029846, 0.013556517660617828, 0.010859242640435696, 0.010145070031285286, 0.027954738587141037, 0.013888097368180752, 0.009003669954836369, 0.0031850801315158606, -0.0039406996220350266, -0.02322334796190262, -0.007543443236500025, 0.015163404867053032, -0.03489241003990173, 0.012874227948486805, 0.02162921242415905, -0.01689782366156578, -0.015405713580548763, -0.026322344318032265, -0.005984379909932613, -0.020251881331205368, -0.007103462237864733, 0.008487170562148094, 0.00016937675536610186, 0.012453376315534115, -0.015010368078947067, -0.031755153089761734, 0.011815723031759262, 0.008244861848652363, -0.004571977071464062, -0.013301456347107887, -0.017165636643767357, 0.017752278596162796, -0.013441739603877068, -0.026296837255358696, -0.014640528708696365, -0.03496892750263214, 0.00022038906172383577, 0.006497690919786692, -0.02123386785387993, 0.030556363984942436, -0.002225411357358098, -0.0020851276349276304, -0.030811427161097527, 0.019397424533963203, -0.007262875325977802, -0.0008839474176056683, 0.004294597543776035, -0.004450822714716196, -0.02333812415599823, -0.003765345085412264, -0.006924918852746487, -0.017981834709644318, -0.007792128250002861, -0.010961267165839672, 0.003497530473396182, 0.014270689338445663, 0.008959034457802773, -0.009226849302649498, -0.03547905012965202, 0.005920614581555128, 0.0009764072019606829, -0.030377821996808052, 0.01975451037287712, 0.02518732100725174, 0.01921888254582882, -0.011598920449614525, -0.01938467286527157, -0.011286470107734203, 0.015239923261106014, -0.003290293039754033, -0.005907861515879631, -0.01066156942397356, 0.009341626428067684, -0.03614221140742302, -0.006746375933289528, -0.01466603484004736, -0.0075243134051561356, 0.02678145468235016, 0.0027195930015295744, -0.0030368256848305464, -0.009921891614794731, 0.022292373701930046, 0.014882837422192097, 0.021922534331679344, 0.0024501841980963945, -0.0032839165069162846, 0.00212976336479187, 0.0005125141469761729, -0.021221114322543144, -0.004827038384974003, 0.04160052537918091, 0.009137577377259731, -0.02516181394457817, -0.0005168979987502098, 0.06544877588748932, -0.01717839017510414, 0.018989326432347298, -0.011254587210714817, 0.00791328214108944, -0.0230320505797863, 0.003825922030955553, -0.07274353504180908, 0.021361399441957474, 0.011241834610700607, -0.01392635703086853, -0.015265429392457008, -0.003653755644336343, 0.027419108897447586, -0.012109044007956982, 0.00851905345916748, 0.028872959315776825, -0.0016483347862958908, 0.02614380046725273, -0.002287582727149129, -0.0016690585762262344, -0.031219525262713432, -0.0043456098064780235, 0.01818588376045227, -0.0027084341272711754, 0.01575004681944847, -0.0024772845208644867, 0.0004427707754075527, -0.006162922829389572, -0.002520326292142272, 0.002863065106794238, 0.020915040746331215, 0.0033062344882637262, 0.009073811583220959, 0.02673044241964817, -0.0242308396846056, -0.006944048684090376, 0.012619166634976864, -0.04471227526664734, -0.0061948057264089584, 0.015609762631356716, -0.0005910252803005278, -0.029408589005470276, -0.03098996914923191, 0.016540735960006714, 0.00013729481725022197, 0.03619322180747986, 0.000795472995378077, -0.03221426531672478, -0.010355495847761631, -0.008276744745671749, -0.009029176086187363, 0.030224785208702087, 0.02426910027861595, 0.005282960832118988, -0.007632714696228504, -0.009934644214808941, -0.003959829453378916, 0.016234662383794785, -0.017969081178307533, -0.013135666027665138, -0.0034433298278599977, 0.003908817190676928, -0.0002845529525075108, 0.0032679750584065914, 0.005324408411979675, 0.013747813180088997, 0.019882041960954666, 0.01180934626609087, 0.015303688123822212, -0.017025353386998177, 0.008008929900825024, 0.0010218400275334716, 0.013314208947122097, 0.002241352805867791, 0.011592543683946133, -0.03876934573054314, -0.017216648906469345, -0.003953452687710524, -0.00833413377404213, -0.0010337959975004196, 0.0039056288078427315, -0.005110794212669134, 0.030326809734106064, 0.0037494036369025707, -0.023554926738142967, 0.01703810691833496, 0.008104578591883183, -0.00614379346370697, -0.03961104899644852, -0.004855732899159193, 0.013569270260632038, 0.004090548492968082, -0.01075721811503172, 0.03040332719683647, 0.0003566875238902867, 0.021590953692793846, -0.014704294502735138, -0.005710188765078783, 0.014168664813041687, 0.006580586079508066, -0.018313413485884666, -0.013263196684420109, -0.014002875424921513, 0.010667946189641953, 0.02586323395371437, 0.000683883554302156, 0.014933849684894085, -0.010259848088026047, -0.01865774765610695, -0.041421983391046524, -0.012568154372274876, 0.011076044291257858, -0.006089592818170786, -0.0007540254737250507, -0.012759449891746044, 0.016936082392930984, 0.02000957354903221, 0.037417519837617874, -0.013964615762233734, 0.032265275716781616, 0.004607047885656357, 0.0003293879854027182, 0.013365221209824085, -0.020915040746331215, -0.016578996554017067, 0.021080831065773964, -0.009182212874293327, 0.03634626045823097, 0.013964615762233734, -0.015992354601621628, 0.02871992252767086, -0.01765025407075882, 0.019716251641511917, -0.019231636077165604, 0.005327596794813871, 0.012344975024461746, 0.0013374786358326674, -0.022700471803545952, -0.01321218442171812, -0.017994586378335953, -0.0221648421138525, -0.015584256500005722, 0.0033285522367805243, 0.0056049758568406105, -0.028209799900650978, 0.027444614097476006, 0.014959355816245079, 0.007645467761904001, -0.014742553234100342, -0.0026829279959201813, 0.024894000962376595, 0.017828797921538353, -0.024702703580260277, -0.024817481637001038, -0.010852865874767303, -0.011956006288528442, 0.008034436032176018, 0.008257615379989147, -0.01596684753894806, -0.027750687673687935, -0.009226849302649498, 0.020047832280397415, 0.0011437913635745645, -0.03410172089934349, 0.009437274187803268, 0.015482231974601746, -0.0002578512066975236, 0.006038580555468798, 0.010036668740212917, -0.006223500240594149, 0.0028040821198374033, 0.0228662621229887, -0.01734418049454689, -0.0019273082725703716, -0.059021227061748505, 0.004890803713351488, 0.0022828001528978348, -0.038004159927368164, -0.012402364052832127, -0.005267019383609295, -0.017407946288585663, 0.009150330908596516, -0.011630803346633911, 0.02219034917652607, -0.014564010314643383, -0.03438228741288185, 0.015431219711899757, -0.00875498540699482, -0.011229081079363823, 0.011305599473416805, 0.018951067700982094, 0.017701266333460808, 0.0202263742685318, 0.004479517228901386]\n"
     ]
    }
   ],
   "execution_count": 71
  },
  {
   "cell_type": "code",
   "id": "581fc320",
   "metadata": {
    "ExecuteTime": {
     "end_time": "2025-03-14T18:13:06.510742Z",
     "start_time": "2025-03-14T18:13:06.208141Z"
    }
   },
   "source": [
    "distances = distances_from_embeddings(question_embeddings, df[\"embeddings\"].tolist(), distance_metric=\"cosine\")\n",
    "df[\"distances\"] = distances\n",
    "df\n",
    "df.to_csv(\"distances.csv\")\n"
   ],
   "outputs": [],
   "execution_count": 72
  },
  {
   "cell_type": "code",
   "id": "bec62d71",
   "metadata": {
    "ExecuteTime": {
     "end_time": "2025-03-14T16:55:42.620190Z",
     "start_time": "2025-03-14T16:55:42.614828Z"
    }
   },
   "source": [
    "# play around, but that's not efficient:\n",
    "#current_shortest = df.iloc[0][\"distances\"]\n",
    "#current_shortest_index = 0\n",
    "##print(current_shortest)\n",
    "#for index, distance in enumerate(df[\"distances\"].values):\n",
    "#    #print(f'dist: {distance}')\n",
    "#    if distance < current_shortest:\n",
    "#        current_shortest_index = index\n",
    "#        current_shortest = distance\n",
    "#print(f'dist {current_shortest} at index {current_shortest_index}')\n",
    "#print(df[\"text\"][current_shortest_index])\n"
   ],
   "outputs": [
    {
     "name": "stdout",
     "output_type": "stream",
     "text": [
      "dist 0.10922891508535504 at index 38\n",
      "March 2 – Russian invasion of Ukraine: Russia captures its first large city, the Black Sea port of Kherson, as shelling intensifies across many parts of Ukraine, including civilian areas.\n"
     ]
    }
   ],
   "execution_count": 60
  },
  {
   "metadata": {
    "ExecuteTime": {
     "end_time": "2025-03-14T18:19:49.858750Z",
     "start_time": "2025-03-14T18:19:49.563809Z"
    }
   },
   "cell_type": "code",
   "source": [
    "df.sort_values(by=\"distances\", inplace=True)\n",
    "df.to_csv(\"distances_sorted.csv\")\n",
    "df.head()\n"
   ],
   "id": "aa761695f459ab3a",
   "outputs": [
    {
     "data": {
      "text/plain": [
       "                                                  text  \\\n",
       "38   March 2 – Russian invasion of Ukraine: Russia ...   \n",
       "61   April 3 – Russian invasion of Ukraine: As Russ...   \n",
       "174  November 11 – Russian invasion of Ukraine: Ukr...   \n",
       "145  September 21 – Russian invasion of Ukraine: Fo...   \n",
       "87   May 16 – Russian invasion of Ukraine: The Sieg...   \n",
       "\n",
       "                                            embeddings  distances  \n",
       "38   [0.000781890528742224, -0.018386563286185265, ...   0.109229  \n",
       "61   [-0.012136607430875301, -0.012402704916894436,...   0.111381  \n",
       "174  [-0.01207408681511879, -0.014001138508319855, ...   0.115526  \n",
       "145  [-0.02543523721396923, -0.022038765251636505, ...   0.116915  \n",
       "87   [-0.018302420154213905, -0.00646719615906477, ...   0.119179  "
      ],
      "text/html": [
       "<div>\n",
       "<style scoped>\n",
       "    .dataframe tbody tr th:only-of-type {\n",
       "        vertical-align: middle;\n",
       "    }\n",
       "\n",
       "    .dataframe tbody tr th {\n",
       "        vertical-align: top;\n",
       "    }\n",
       "\n",
       "    .dataframe thead th {\n",
       "        text-align: right;\n",
       "    }\n",
       "</style>\n",
       "<table border=\"1\" class=\"dataframe\">\n",
       "  <thead>\n",
       "    <tr style=\"text-align: right;\">\n",
       "      <th></th>\n",
       "      <th>text</th>\n",
       "      <th>embeddings</th>\n",
       "      <th>distances</th>\n",
       "    </tr>\n",
       "  </thead>\n",
       "  <tbody>\n",
       "    <tr>\n",
       "      <th>38</th>\n",
       "      <td>March 2 – Russian invasion of Ukraine: Russia ...</td>\n",
       "      <td>[0.000781890528742224, -0.018386563286185265, ...</td>\n",
       "      <td>0.109229</td>\n",
       "    </tr>\n",
       "    <tr>\n",
       "      <th>61</th>\n",
       "      <td>April 3 – Russian invasion of Ukraine: As Russ...</td>\n",
       "      <td>[-0.012136607430875301, -0.012402704916894436,...</td>\n",
       "      <td>0.111381</td>\n",
       "    </tr>\n",
       "    <tr>\n",
       "      <th>174</th>\n",
       "      <td>November 11 – Russian invasion of Ukraine: Ukr...</td>\n",
       "      <td>[-0.01207408681511879, -0.014001138508319855, ...</td>\n",
       "      <td>0.115526</td>\n",
       "    </tr>\n",
       "    <tr>\n",
       "      <th>145</th>\n",
       "      <td>September 21 – Russian invasion of Ukraine: Fo...</td>\n",
       "      <td>[-0.02543523721396923, -0.022038765251636505, ...</td>\n",
       "      <td>0.116915</td>\n",
       "    </tr>\n",
       "    <tr>\n",
       "      <th>87</th>\n",
       "      <td>May 16 – Russian invasion of Ukraine: The Sieg...</td>\n",
       "      <td>[-0.018302420154213905, -0.00646719615906477, ...</td>\n",
       "      <td>0.119179</td>\n",
       "    </tr>\n",
       "  </tbody>\n",
       "</table>\n",
       "</div>"
      ]
     },
     "execution_count": 74,
     "metadata": {},
     "output_type": "execute_result"
    }
   ],
   "execution_count": 74
  },
  {
   "cell_type": "markdown",
   "id": "699486f6",
   "metadata": {},
   "source": [
    "## Step 3"
   ]
  },
  {
   "cell_type": "markdown",
   "id": "6e3716d6",
   "metadata": {},
   "source": [
    "### Tokenizing with `tiktoken`"
   ]
  },
  {
   "cell_type": "code",
   "execution_count": null,
   "id": "e969fa22",
   "metadata": {},
   "outputs": [],
   "source": []
  },
  {
   "cell_type": "code",
   "execution_count": null,
   "id": "ab51ffec",
   "metadata": {},
   "outputs": [],
   "source": []
  },
  {
   "cell_type": "code",
   "execution_count": null,
   "id": "f0888179",
   "metadata": {},
   "outputs": [],
   "source": []
  },
  {
   "cell_type": "markdown",
   "id": "a65d6d19",
   "metadata": {},
   "source": [
    "### Composing a Custom Text Prompt"
   ]
  },
  {
   "cell_type": "code",
   "execution_count": null,
   "id": "c9c35486",
   "metadata": {},
   "outputs": [],
   "source": []
  },
  {
   "cell_type": "code",
   "execution_count": null,
   "id": "d86f7502",
   "metadata": {},
   "outputs": [],
   "source": []
  },
  {
   "cell_type": "code",
   "execution_count": null,
   "id": "99c482c5",
   "metadata": {},
   "outputs": [],
   "source": []
  },
  {
   "cell_type": "markdown",
   "id": "d8b8f5dd",
   "metadata": {},
   "source": [
    "## Step 4"
   ]
  },
  {
   "cell_type": "markdown",
   "id": "495a549a",
   "metadata": {},
   "source": [
    "### Getting a Custom Q&A Response with `openai.Completion`"
   ]
  },
  {
   "cell_type": "code",
   "execution_count": null,
   "id": "3913334c",
   "metadata": {},
   "outputs": [],
   "source": []
  },
  {
   "cell_type": "code",
   "execution_count": null,
   "id": "626eb389",
   "metadata": {},
   "outputs": [],
   "source": []
  },
  {
   "cell_type": "code",
   "execution_count": null,
   "id": "d8e3d0e8",
   "metadata": {},
   "outputs": [],
   "source": []
  }
 ],
 "metadata": {
  "kernelspec": {
   "display_name": "Python 3 (ipykernel)",
   "language": "python",
   "name": "python3"
  },
  "language_info": {
   "codemirror_mode": {
    "name": "ipython",
    "version": 3
   },
   "file_extension": ".py",
   "mimetype": "text/x-python",
   "name": "python",
   "nbconvert_exporter": "python",
   "pygments_lexer": "ipython3",
   "version": "3.9.18"
  }
 },
 "nbformat": 4,
 "nbformat_minor": 5
}
