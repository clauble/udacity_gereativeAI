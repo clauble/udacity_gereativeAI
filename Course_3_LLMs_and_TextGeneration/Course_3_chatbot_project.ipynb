{
 "cells": [
  {
   "cell_type": "markdown",
   "id": "124e5672",
   "metadata": {},
   "source": [
    "# Custom Chatbot Project"
   ]
  },
  {
   "cell_type": "markdown",
   "id": "2a4a94b3",
   "metadata": {},
   "source": [
    "TODO: In this cell, write an explanation of which dataset you have chosen and why it is appropriate for this task\n",
    "\n",
    "My datasource is the wikipedia article about finite sphere packing, because it's simply a cool topic.\n",
    "\n",
    "Everybody should know about the 'sausage catastrophe' when it comes to packaging more than 55 spheres.\n",
    "\n",
    "https://en.wikipedia.org/wiki/Finite_sphere_packing\n"
   ]
  },
  {
   "cell_type": "markdown",
   "id": "a63d4c5f",
   "metadata": {},
   "source": [
    "## Data Wrangling\n",
    "\n",
    "TODO: In the cells below, load your chosen dataset into a `pandas` dataframe with a column named `\"text\"`. This column should contain all of your text data, separated into at least 20 rows."
   ]
  },
  {
   "metadata": {
    "ExecuteTime": {
     "end_time": "2025-03-18T13:12:24.625715Z",
     "start_time": "2025-03-18T13:12:24.621194Z"
    }
   },
   "cell_type": "code",
   "source": [
    "import os\n",
    "import openai\n",
    "openai.api_base = \"https://openai.vocareum.com/v1\"\n",
    "openai.api_key =  os.getenv(\"OPENAI_API_KEY\")\n"
   ],
   "id": "c69b83a1",
   "outputs": [],
   "execution_count": 43
  },
  {
   "metadata": {
    "ExecuteTime": {
     "end_time": "2025-03-18T13:12:25.248324Z",
     "start_time": "2025-03-18T13:12:25.241976Z"
    }
   },
   "cell_type": "code",
   "source": [
    "# Proxy settings when running on my telekom computer:\n",
    "import os\n",
    "if 'A306709' in os.environ['USERNAME']:\n",
    "    print(\"Running on Christophs computer: update proxy settings.\")\n",
    "    os.environ[\"http_proxy\"] = \"http://sia-lb.telekom.de:8080\"\n",
    "    os.environ[\"https_proxy\"] = \"http://sia-lb.telekom.de:8080\"\n",
    "else:\n",
    "    print(\"Running on any computer but not Christophs: don't update any proxy settings.\")\n"
   ],
   "id": "91010699c18d8348",
   "outputs": [
    {
     "name": "stdout",
     "output_type": "stream",
     "text": [
      "Running on Christophs computer: update proxy settings.\n"
     ]
    }
   ],
   "execution_count": 44
  },
  {
   "metadata": {
    "ExecuteTime": {
     "end_time": "2025-03-18T13:52:07.716297Z",
     "start_time": "2025-03-18T13:52:07.712333Z"
    }
   },
   "cell_type": "code",
   "source": [
    "# wikipedia datasource definition. Use vars to be able to change the source at this single point:\n",
    "file_path=\"./data/wikipedia/\"\n",
    "file_name=\"Finite_sphere_packing\"\n",
    "assert_content=\"sausage\"\n",
    "max_context_paragraphs=25\n"
   ],
   "id": "ee3aa5a8a0a4da45",
   "outputs": [],
   "execution_count": 72
  },
  {
   "cell_type": "code",
   "id": "0a595980",
   "metadata": {
    "ExecuteTime": {
     "end_time": "2025-03-18T09:08:55.439890Z",
     "start_time": "2025-03-18T09:08:54.758335Z"
    }
   },
   "source": [
    "# read wikipedia source and write content to disc:\n",
    "######## skip this section if the file is already created\n",
    "from pathlib import Path\n",
    "import requests\n",
    "\n",
    "# wikipedia source: https://en.wikipedia.org/wiki/{file_name}\n",
    "\n",
    "params = {\n",
    "    \"action\": \"query\",\n",
    "    \"prop\": \"extracts\",\n",
    "    \"exlimit\": 1,\n",
    "    \"titles\": file_name,\n",
    "    \"explaintext\": 1,\n",
    "    \"formatversion\": 2,\n",
    "    \"format\": \"json\"\n",
    "}\n",
    "resp = requests.get(\"https://en.wikipedia.org/w/api.php\", params=params)\n",
    "response_dict = resp.json()\n",
    "wiki_text = response_dict[\"query\"][\"pages\"][0][\"extract\"]\n",
    "assert(len(wiki_text) > 1000)\n",
    "assert(assert_content in wiki_text)\n",
    "\n",
    "# Write the source to disk\n",
    "Path(file_path).mkdir(parents=True, exist_ok=True)\n",
    "with open(f\"{file_path}{file_name}.txt\", \"w\", encoding=\"utf-8\") as f:\n",
    "    f.write(wiki_text)\n"
   ],
   "outputs": [],
   "execution_count": 19
  },
  {
   "metadata": {
    "ExecuteTime": {
     "end_time": "2025-03-18T13:12:35.039818Z",
     "start_time": "2025-03-18T13:12:35.024020Z"
    }
   },
   "cell_type": "code",
   "source": [
    "# Read content from disc (to treat wikipedia api with care):\n",
    "with open(f\"{file_path}{file_name}.txt\", \"r\", encoding=\"utf-8\") as f:\n",
    "    wiki_text = f.read()\n",
    "\n",
    "assert(len(wiki_text) > 1000)\n",
    "assert(assert_content in wiki_text)\n",
    "print(\"wikipedia page loaded from disc\")\n"
   ],
   "id": "c166ff4c359faa8c",
   "outputs": [
    {
     "name": "stdout",
     "output_type": "stream",
     "text": [
      "wikipedia page loaded from disc\n"
     ]
    }
   ],
   "execution_count": 46
  },
  {
   "metadata": {
    "ExecuteTime": {
     "end_time": "2025-03-18T09:36:34.295234Z",
     "start_time": "2025-03-18T09:36:34.284193Z"
    }
   },
   "cell_type": "code",
   "source": [
    "# Split data to sentences and create a pandas dataframe:\n",
    "# for the purpose of this project we do just a very very simple parsing, accepting that we loose the mathematics described on the page:\n",
    "import pandas as pd\n",
    "\n",
    "wiki_text_array = wiki_text.split(\"\\n\")\n",
    "for index in range(0, len(wiki_text_array)):\n",
    "    if \"{\" in wiki_text_array[index]: # remove formulars\n",
    "        wiki_text_array[index] = \"\"\n",
    "    wiki_text_array[index] = wiki_text_array[index].strip() # strip text to remove mathematic formulars later:\n",
    "\n",
    "df = pd.DataFrame()\n",
    "df[\"text\"] = wiki_text_array\n",
    "\n",
    "\n",
    "df = df[df[\"text\"].str.len() > 10]\n",
    "df = df[~df[\"text\"].str.startswith(\"==\")]\n",
    "df.reset_index(inplace=True, drop=True)\n",
    "\n",
    "print(df)\n",
    "#print(df.head())\n",
    "#print(df.tail())\n"
   ],
   "id": "f83100f86b209fcc",
   "outputs": [
    {
     "name": "stdout",
     "output_type": "stream",
     "text": [
      "                                                 text\n",
      "0   In mathematics, the theory of finite sphere pa...\n",
      "1   The similar problem for infinitely many sphere...\n",
      "2   Sphere packing problems are distinguished betw...\n",
      "3   In general, a packing refers to any arrangemen...\n",
      "4   There are many possible ways to arrange sphere...\n",
      "..                                                ...\n",
      "73                         There holds an inequality:\n",
      "74                  where the volume of the unit ball\n",
      "75                                      dimensions is\n",
      "76  and it is predicted that this holds for all di...\n",
      "77                          can be found from that of\n",
      "\n",
      "[78 rows x 1 columns]\n",
      "                                                text\n",
      "0  In mathematics, the theory of finite sphere pa...\n",
      "1  The similar problem for infinitely many sphere...\n",
      "2  Sphere packing problems are distinguished betw...\n",
      "3  In general, a packing refers to any arrangemen...\n",
      "4  There are many possible ways to arrange sphere...\n",
      "                                                 text\n",
      "73                         There holds an inequality:\n",
      "74                  where the volume of the unit ball\n",
      "75                                      dimensions is\n",
      "76  and it is predicted that this holds for all di...\n",
      "77                          can be found from that of\n"
     ]
    }
   ],
   "execution_count": 41
  },
  {
   "cell_type": "markdown",
   "id": "ae769871",
   "metadata": {},
   "source": [
    "## Custom Query Completion\n",
    "\n",
    "TODO: In the cells below, compose a custom query using your chosen dataset and retrieve results from an OpenAI `Completion` model. You may copy and paste any useful code from the course materials."
   ]
  },
  {
   "metadata": {
    "ExecuteTime": {
     "end_time": "2025-03-18T13:52:14.042038Z",
     "start_time": "2025-03-18T13:52:14.036306Z"
    }
   },
   "cell_type": "code",
   "source": [
    "context_information_array = []\n",
    "index = 0\n",
    "for current_row in df[\"text\"]:\n",
    "    index += 1\n",
    "    if index > max_context_paragraphs:\n",
    "        break\n",
    "    print(current_row)\n",
    "    context_information_array.append(current_row)\n",
    "context_information = \"\\n###\\n\".join(context_information_array)\n",
    "print(f'context_information: {context_information}.')"
   ],
   "id": "29d093639b2bcfbd",
   "outputs": [
    {
     "name": "stdout",
     "output_type": "stream",
     "text": [
      "In mathematics, the theory of finite sphere packing concerns the question of how a finite number of equally-sized spheres can be most efficiently packed. The question of packing finitely many spheres has only been investigated in detail in recent decades, with much of the groundwork being laid by László Fejes Tóth.\n",
      "The similar problem for infinitely many spheres has a longer history of investigation, from which the Kepler conjecture is most well-known. Atoms in crystal structures can be simplistically viewed as closely-packed spheres and treated as infinite sphere packings thanks to their large number.\n",
      "Sphere packing problems are distinguished between packings in given containers and free packings. This article primarily discusses free packings.\n",
      "In general, a packing refers to any arrangement of a set of spatially-connected, possibly differently-sized or differently-shaped objects in space such that none of them overlap. In the case of the finite sphere packing problem, these objects are restricted to equally-sized spheres. Such a packing of spheres determines a specific volume known as the convex hull of the packing, defined as the smallest convex set that includes all the spheres.\n",
      "There are many possible ways to arrange spheres, which can be classified into three basic groups: sausage, pizza, and cluster packing.\n",
      "An arrangement in which the midpoint of all the spheres lie on a single straight line is called a sausage packing, as the convex hull has a sausage-like shape. An approximate example in real life is the packing of tennis balls in a tube, though the ends must be rounded for the tube to coincide with the actual convex hull.\n",
      "If all the midpoints lie on a plane, the packing is a pizza packing. Approximate real-life examples of this kind of packing include billiard balls being packed in a triangle as they are set up. This holds for packings in three-dimensional Euclidean space.\n",
      "If the midpoints of the spheres are arranged throughout 3D space, the packing is termed a cluster packing. Real-life approximations include fruit being packed in multiple layers in a box.\n",
      "By the given definitions, any sausage packing is technically also a pizza packing, and any pizza packing is technically also a cluster packing. In the more general case of\n",
      "dimensions, \"sausages\" refer to one-dimensional arrangements, \"clusters\" to\n",
      "-dimensional arrangements, and \"pizzas\" to those with an in-between number of dimensions.\n",
      "One or two spheres always make a sausage. With three, a pizza packing (that is not also a sausage) becomes possible, and with four or more, clusters (that are not also pizzas) become possible.\n",
      "The empty space between spheres varies depending on the type of packing. The amount of empty space is measured in the packing density, which is defined as the ratio of the volume of the spheres to the volume of the total convex hull. The higher the packing density, the less empty space there is in the packing and thus the smaller the volume of the hull (in comparison to other packings with the same number and size of spheres).\n",
      "To pack the spheres efficiently, it might be asked which packing has the highest possible density. It is easy to see that such a packing should have the property that the spheres lie next to each other, that is, each sphere should touch another on the surface. A more exact phrasing is to form a graph which assigns a vertex for each sphere and connects vertices with edges whenever the corresponding spheres if their surfaces touch. Then the highest-density packing must satisfy the property that the corresponding graph is connected.\n",
      "With three or four spheres, the sausage packing is optimal. It is believed that this holds true for any\n",
      ", a cluster packing exists that is more efficient than the sausage packing, as shown in 1992 by Jörg Wills and Pier Mario Gandini. It remains unknown what these most efficient cluster packings look like. For example, in the case\n",
      ", it is known that the optimal packing is not a tetrahedral packing like the classical packing of cannon balls, but is likely some kind of octahedral shape.\n",
      "The sudden transition in optimal packing shape is jokingly known by some mathematicians as the sausage catastrophe (Wills, 1985). The designation catastrophe comes from the fact that the optimal packing shape suddenly shifts from the orderly sausage packing to the relatively unordered cluster packing and vice versa as one goes from one number to another, without a satisfying explanation as to why this happens. Even so, the transition in three dimensions is relatively tame; in four dimensions, the sudden transition is conjectured to happen around 377,000 spheres.\n",
      "For dimensions\n",
      ", the optimal packing is always either a sausage or a cluster, and never a pizza. It is an open problem whether this holds true for all dimensions. This result only concerns spheres and not other convex bodies; in fact Gritzmann and Arhelger observed that for any dimension\n",
      "there exists a convex shape for which the closest packing is a pizza.\n",
      "In the following section it is shown that for 455 spheres the sausage packing is non-optimal, and that there instead exists a special cluster packing that occupies a smaller volume.\n",
      "The volume of a convex hull of a sausage packing with\n",
      "spheres of radius\n",
      "is calculable with elementary geometry. The middle part of the hull is a cylinder with length\n",
      "context_information: In mathematics, the theory of finite sphere packing concerns the question of how a finite number of equally-sized spheres can be most efficiently packed. The question of packing finitely many spheres has only been investigated in detail in recent decades, with much of the groundwork being laid by László Fejes Tóth.\n",
      "###\n",
      "The similar problem for infinitely many spheres has a longer history of investigation, from which the Kepler conjecture is most well-known. Atoms in crystal structures can be simplistically viewed as closely-packed spheres and treated as infinite sphere packings thanks to their large number.\n",
      "###\n",
      "Sphere packing problems are distinguished between packings in given containers and free packings. This article primarily discusses free packings.\n",
      "###\n",
      "In general, a packing refers to any arrangement of a set of spatially-connected, possibly differently-sized or differently-shaped objects in space such that none of them overlap. In the case of the finite sphere packing problem, these objects are restricted to equally-sized spheres. Such a packing of spheres determines a specific volume known as the convex hull of the packing, defined as the smallest convex set that includes all the spheres.\n",
      "###\n",
      "There are many possible ways to arrange spheres, which can be classified into three basic groups: sausage, pizza, and cluster packing.\n",
      "###\n",
      "An arrangement in which the midpoint of all the spheres lie on a single straight line is called a sausage packing, as the convex hull has a sausage-like shape. An approximate example in real life is the packing of tennis balls in a tube, though the ends must be rounded for the tube to coincide with the actual convex hull.\n",
      "###\n",
      "If all the midpoints lie on a plane, the packing is a pizza packing. Approximate real-life examples of this kind of packing include billiard balls being packed in a triangle as they are set up. This holds for packings in three-dimensional Euclidean space.\n",
      "###\n",
      "If the midpoints of the spheres are arranged throughout 3D space, the packing is termed a cluster packing. Real-life approximations include fruit being packed in multiple layers in a box.\n",
      "###\n",
      "By the given definitions, any sausage packing is technically also a pizza packing, and any pizza packing is technically also a cluster packing. In the more general case of\n",
      "###\n",
      "dimensions, \"sausages\" refer to one-dimensional arrangements, \"clusters\" to\n",
      "###\n",
      "-dimensional arrangements, and \"pizzas\" to those with an in-between number of dimensions.\n",
      "###\n",
      "One or two spheres always make a sausage. With three, a pizza packing (that is not also a sausage) becomes possible, and with four or more, clusters (that are not also pizzas) become possible.\n",
      "###\n",
      "The empty space between spheres varies depending on the type of packing. The amount of empty space is measured in the packing density, which is defined as the ratio of the volume of the spheres to the volume of the total convex hull. The higher the packing density, the less empty space there is in the packing and thus the smaller the volume of the hull (in comparison to other packings with the same number and size of spheres).\n",
      "###\n",
      "To pack the spheres efficiently, it might be asked which packing has the highest possible density. It is easy to see that such a packing should have the property that the spheres lie next to each other, that is, each sphere should touch another on the surface. A more exact phrasing is to form a graph which assigns a vertex for each sphere and connects vertices with edges whenever the corresponding spheres if their surfaces touch. Then the highest-density packing must satisfy the property that the corresponding graph is connected.\n",
      "###\n",
      "With three or four spheres, the sausage packing is optimal. It is believed that this holds true for any\n",
      "###\n",
      ", a cluster packing exists that is more efficient than the sausage packing, as shown in 1992 by Jörg Wills and Pier Mario Gandini. It remains unknown what these most efficient cluster packings look like. For example, in the case\n",
      "###\n",
      ", it is known that the optimal packing is not a tetrahedral packing like the classical packing of cannon balls, but is likely some kind of octahedral shape.\n",
      "###\n",
      "The sudden transition in optimal packing shape is jokingly known by some mathematicians as the sausage catastrophe (Wills, 1985). The designation catastrophe comes from the fact that the optimal packing shape suddenly shifts from the orderly sausage packing to the relatively unordered cluster packing and vice versa as one goes from one number to another, without a satisfying explanation as to why this happens. Even so, the transition in three dimensions is relatively tame; in four dimensions, the sudden transition is conjectured to happen around 377,000 spheres.\n",
      "###\n",
      "For dimensions\n",
      "###\n",
      ", the optimal packing is always either a sausage or a cluster, and never a pizza. It is an open problem whether this holds true for all dimensions. This result only concerns spheres and not other convex bodies; in fact Gritzmann and Arhelger observed that for any dimension\n",
      "###\n",
      "there exists a convex shape for which the closest packing is a pizza.\n",
      "###\n",
      "In the following section it is shown that for 455 spheres the sausage packing is non-optimal, and that there instead exists a special cluster packing that occupies a smaller volume.\n",
      "###\n",
      "The volume of a convex hull of a sausage packing with\n",
      "###\n",
      "spheres of radius\n",
      "###\n",
      "is calculable with elementary geometry. The middle part of the hull is a cylinder with length.\n"
     ]
    }
   ],
   "execution_count": 73
  },
  {
   "metadata": {
    "ExecuteTime": {
     "end_time": "2025-03-18T13:52:34.165576Z",
     "start_time": "2025-03-18T13:52:34.161297Z"
    }
   },
   "cell_type": "code",
   "source": [
    "def get_custom_prompt_for_question(q: str, use_context: bool = True):\n",
    "    if use_context:\n",
    "        return f'{context_information}\\n---\\nQuestion: {q}\\nAnswer:'\n",
    "    else:\n",
    "        return f'Question: {q}\\nAnswer:'\n"
   ],
   "id": "8b6e1f75",
   "outputs": [],
   "execution_count": 74
  },
  {
   "metadata": {
    "ExecuteTime": {
     "end_time": "2025-03-18T13:52:36.999841Z",
     "start_time": "2025-03-18T13:52:36.994613Z"
    }
   },
   "cell_type": "code",
   "source": [
    "def answer_question(q: str, use_context: bool = True, talkative: bool = True):\n",
    "    answer_object = openai.Completion.create(\n",
    "        model=\"gpt-3.5-turbo-instruct\",\n",
    "        prompt=get_custom_prompt_for_question(q, use_context),\n",
    "        max_tokens=50 # original value: 150\n",
    "    )\n",
    "    answer = answer_object[\"choices\"][0][\"text\"].strip()\n",
    "    if talkative:\n",
    "        print(\"*\" * 50)\n",
    "        print(f\"Question: {q}\")\n",
    "        print(f\"Use context: {use_context}\")\n",
    "        print(answer)\n",
    "    #print(answer_object)\n",
    "    return answer\n"
   ],
   "id": "582f0656",
   "outputs": [],
   "execution_count": 75
  },
  {
   "cell_type": "code",
   "id": "13f2dcd7",
   "metadata": {
    "ExecuteTime": {
     "end_time": "2025-03-18T16:47:35.839566Z",
     "start_time": "2025-03-18T16:47:32.225142Z"
    }
   },
   "source": [
    "#play around:\n",
    "answer_question(\"What kind of packing methods are known in the theory of finite sphere packing\", False)\n",
    "answer_question(\"What kind of packing methods are known in the theory of finite sphere packing\", True)"
   ],
   "outputs": [
    {
     "name": "stdout",
     "output_type": "stream",
     "text": [
      "**************************************************\n",
      "Question: What kind of packing methods are known in the theory of finite sphere packing\n",
      "Use context:: False\n",
      "Some of the known packing methods in the theory of finite sphere packing include:\n",
      "\n",
      "1. Bravais packing: This method involves arranging spheres in a regular, repeating pattern, such as cubic, hexagonal, or tetrahedral lattices.\n",
      "\n",
      "2\n",
      "**************************************************\n",
      "Question: What kind of packing methods are known in the theory of finite sphere packing\n",
      "Use context:: True\n",
      "Sausage, pizza, and cluster packings are all methods commonly used in the theory of finite sphere packing. Additionally, there may be other methods that have not yet been discovered or explored.\n"
     ]
    },
    {
     "data": {
      "text/plain": [
       "'Sausage, pizza, and cluster packings are all methods commonly used in the theory of finite sphere packing. Additionally, there may be other methods that have not yet been discovered or explored.'"
      ]
     },
     "execution_count": 81,
     "metadata": {},
     "output_type": "execute_result"
    }
   ],
   "execution_count": 81
  },
  {
   "cell_type": "code",
   "id": "c403f543",
   "metadata": {
    "ExecuteTime": {
     "end_time": "2025-03-18T16:47:50.247381Z",
     "start_time": "2025-03-18T16:47:47.079300Z"
    }
   },
   "source": [
    "#play around:\n",
    "answer_question(\"Who did the groundwork for the knowledge of finite sphere packing?\", False)\n",
    "answer_question(\"Who did the groundwork for the knowledge of finite sphere packing?\", True)"
   ],
   "outputs": [
    {
     "name": "stdout",
     "output_type": "stream",
     "text": [
      "**************************************************\n",
      "Question: Who did the groundwork for the knowledge of finite sphere packing?\n",
      "Use context:: False\n",
      "The groundwork for the knowledge of finite sphere packing was laid by mathematicians such as Johannes Kepler, Pierre de Fermat, Isaac Newton, and George mm. Jamima Marshall. They developed theories and proofs related to packing of spheres in 2D and\n",
      "**************************************************\n",
      "Question: Who did the groundwork for the knowledge of finite sphere packing?\n",
      "Use context:: True\n",
      "László Fejes Tóth.\n"
     ]
    },
    {
     "data": {
      "text/plain": [
       "'László Fejes Tóth.'"
      ]
     },
     "execution_count": 82,
     "metadata": {},
     "output_type": "execute_result"
    }
   ],
   "execution_count": 82
  },
  {
   "cell_type": "markdown",
   "id": "1783f146",
   "metadata": {},
   "source": [
    "## Custom Performance Demonstration\n",
    "\n",
    "TODO: In the cells below, demonstrate the performance of your custom query using at least 2 questions. For each question, show the answer from a basic `Completion` model query as well as the answer from your custom query."
   ]
  },
  {
   "metadata": {
    "ExecuteTime": {
     "end_time": "2025-03-18T16:42:31.551052Z",
     "start_time": "2025-03-18T16:42:31.545061Z"
    }
   },
   "cell_type": "code",
   "source": [
    "# asks the given question two times to the model, first time without context and the second time with context from wikipedia:\n",
    "def compare_answers(q: str):\n",
    "    print(f\"Question: {q}?\")\n",
    "    print(\"*** Plain answer (no context):\")\n",
    "    print(answer_question(q, use_context=False, talkative=False))\n",
    "    print(\"*** Answer with context from wikipedia:\")\n",
    "    print(answer_question(q, use_context=True, talkative=False))\n",
    "    print(\"=\" * 50)\n"
   ],
   "id": "74280b92",
   "outputs": [],
   "execution_count": 78
  },
  {
   "metadata": {},
   "cell_type": "markdown",
   "source": "### Question 1",
   "id": "4f11fdc0"
  },
  {
   "cell_type": "code",
   "id": "4901c850",
   "metadata": {
    "ExecuteTime": {
     "end_time": "2025-03-18T16:42:45.164381Z",
     "start_time": "2025-03-18T16:42:37.439501Z"
    }
   },
   "source": "compare_answers(\"What kind of packing methods are known in the theory of finite sphere packing?\")\n",
   "outputs": [
    {
     "name": "stdout",
     "output_type": "stream",
     "text": [
      "Question: What kind of packing methods are known in the theory of finite sphere packing??\n",
      "*** Plain answer (no context):\n",
      "There are several packing methods that are known in the theory of finite sphere packing, including Greedy Algorithm, Lloyd's Algorithm, Random Sequential Adsorption, and the Closest Packing method. Other notable packing methods include the Lubachevsky-Stillinger\n",
      "*** Answer with context from wikipedia:\n",
      "The known packing methods in the theory of finite sphere packing include sausage packing, pizza packing, and cluster packing.\n",
      "==================================================\n"
     ]
    }
   ],
   "execution_count": 79
  },
  {
   "cell_type": "code",
   "execution_count": null,
   "id": "bd7a093b",
   "metadata": {},
   "outputs": [],
   "source": []
  },
  {
   "cell_type": "markdown",
   "id": "6e86e37c",
   "metadata": {},
   "source": [
    "### Question 2"
   ]
  },
  {
   "cell_type": "code",
   "id": "6f646989",
   "metadata": {
    "ExecuteTime": {
     "end_time": "2025-03-18T16:42:54.075321Z",
     "start_time": "2025-03-18T16:42:50.931651Z"
    }
   },
   "source": "compare_answers(\"Who did the groundwork for the knowledge of finite sphere packing?\")\n",
   "outputs": [
    {
     "name": "stdout",
     "output_type": "stream",
     "text": [
      "Question: Who did the groundwork for the knowledge of finite sphere packing??\n",
      "*** Plain answer (no context):\n",
      "The groundwork for the knowledge of finite sphere packing was laid by various mathematicians throughout history, such as Euclid, Johannes Kepler, and Thomas Harriot. However, the most notable contribution to the field was made by mathematician Thue in 190\n",
      "*** Answer with context from wikipedia:\n",
      "László Fejes Tóth.\n",
      "==================================================\n"
     ]
    }
   ],
   "execution_count": 80
  },
  {
   "metadata": {},
   "cell_type": "code",
   "outputs": [],
   "execution_count": null,
   "source": "",
   "id": "a720fca59e764ed7"
  },
  {
   "metadata": {},
   "cell_type": "markdown",
   "source": "### Question 3",
   "id": "5acfe2260bcbcc2c"
  },
  {
   "metadata": {
    "ExecuteTime": {
     "end_time": "2025-03-18T13:52:53.887600Z",
     "start_time": "2025-03-18T13:52:46.775576Z"
    }
   },
   "cell_type": "code",
   "source": "compare_answers(\"What is meant by 'sausage catastrophe'?\")\n",
   "id": "11c07a54",
   "outputs": [
    {
     "name": "stdout",
     "output_type": "stream",
     "text": [
      "Question: What is meant by 'sausage catastrophy'??\n",
      "*** Plain answer (no context):\n",
      "There are a few possible interpretations of the term \"sausage catastrophe,\" as it is not a specific phrase with a defined meaning. Here are a few potential ways someone could interpret this phrase:\n",
      "\n",
      "1. Literal interpretation: It is possible that someone is\n",
      "*** Answer with context from wikipedia:\n",
      "The sudden transition in optimal packing shape from the orderly sausage packing to the relatively unordered cluster packing, and vice versa, as the number of spheres increases, without a satisfying explanation for this phenomenon.\n",
      "==================================================\n"
     ]
    }
   ],
   "execution_count": 77
  },
  {
   "metadata": {},
   "cell_type": "markdown",
   "source": [
    "We see that the queries with context are answered very closely to the given wikipedia article, while the questions without context are answered according to other common knowlege from the web.\n",
    "\n",
    "Especially question 3 shows the nice difference!\n"
   ],
   "id": "c704b57b6845017d"
  },
  {
   "metadata": {
    "ExecuteTime": {
     "end_time": "2025-03-18T16:42:25.630791Z",
     "start_time": "2025-03-18T16:42:25.619714Z"
    }
   },
   "cell_type": "code",
   "source": "",
   "id": "7c39605db2f5307b",
   "outputs": [],
   "execution_count": null
  },
  {
   "metadata": {},
   "cell_type": "code",
   "outputs": [],
   "execution_count": null,
   "source": "",
   "id": "69ff9d90ccaade20"
  }
 ],
 "metadata": {
  "kernelspec": {
   "display_name": "Python 3 (ipykernel)",
   "language": "python",
   "name": "python3"
  },
  "language_info": {
   "codemirror_mode": {
    "name": "ipython",
    "version": 3
   },
   "file_extension": ".py",
   "mimetype": "text/x-python",
   "name": "python",
   "nbconvert_exporter": "python",
   "pygments_lexer": "ipython3",
   "version": "3.9.18"
  }
 },
 "nbformat": 4,
 "nbformat_minor": 5
}
