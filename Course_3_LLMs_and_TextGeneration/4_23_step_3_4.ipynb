{
 "cells": [
  {
   "cell_type": "markdown",
   "id": "cf9d6626",
   "metadata": {},
   "source": [
    "# Steps 3 & 4: Querying a Completion Model with a Custom Text Prompt"
   ]
  },
  {
   "cell_type": "markdown",
   "id": "e0478d18",
   "metadata": {},
   "source": [
    "Add your API key to the cell below then run it."
   ]
  },
  {
   "metadata": {
    "ExecuteTime": {
     "end_time": "2025-03-14T18:27:23.915357Z",
     "start_time": "2025-03-14T18:27:23.909719Z"
    }
   },
   "cell_type": "code",
   "source": [
    "import os\n",
    "if 'A306709' in os.environ['USERNAME']:\n",
    "    print(\"Running on Christophs computer: update proxy settings.\")\n",
    "    os.environ[\"http_proxy\"] = \"http://sia-lb.telekom.de:8080\"\n",
    "    os.environ[\"https_proxy\"] = \"http://sia-lb.telekom.de:8080\"\n",
    "else:\n",
    "    print(\"Running on any computer but not Christophs: don't update any proxy settings.\")\n"
   ],
   "id": "73d8f1d7e434976a",
   "outputs": [
    {
     "name": "stdout",
     "output_type": "stream",
     "text": [
      "Running on Christophs computer: update proxy settings.\n"
     ]
    }
   ],
   "execution_count": 19
  },
  {
   "metadata": {
    "ExecuteTime": {
     "end_time": "2025-03-14T18:11:32.739394Z",
     "start_time": "2025-03-14T18:11:29.279479Z"
    }
   },
   "cell_type": "code",
   "outputs": [],
   "execution_count": 1,
   "source": [
    "import os\n",
    "import openai\n",
    "openai.api_base = \"https://openai.vocareum.com/v1\"\n",
    "openai.api_key = os.getenv(\"OPENAI_API_KEY\")"
   ],
   "id": "186b2c28"
  },
  {
   "cell_type": "markdown",
   "id": "8fa50906",
   "metadata": {},
   "source": [
    "The code below loads in the data sorted by cosine distance that you previously created. Run it as-is."
   ]
  },
  {
   "cell_type": "code",
   "id": "3fd3a3ae",
   "metadata": {
    "ExecuteTime": {
     "end_time": "2025-03-14T18:23:02.084169Z",
     "start_time": "2025-03-14T18:23:02.061544Z"
    }
   },
   "source": [
    "import pandas as pd\n",
    "\n",
    "df = pd.read_csv(\"distances-earthquake.csv\", index_col=0)\n",
    "df"
   ],
   "outputs": [
    {
     "data": {
      "text/plain": [
       "                                                  text  \\\n",
       "100  June 22 – A 6.2 earthquake strikes the Durand ...   \n",
       "183  November 21 – A 5.6 earthquake strikes near Ci...   \n",
       "119  July 27 – A 7.0 earthquake strikes the island ...   \n",
       "136  September 5 – A 6.8 earthquake strikes Luding ...   \n",
       "96   June 8 – 2022 South Khorasan train derailment:...   \n",
       "..                                                 ...   \n",
       "138  September 8 – Queen Elizabeth II of the United...   \n",
       "159  October 16–October 23 – The 20th National Cong...   \n",
       "187  December 7 – The Congress of Peru removes Pres...   \n",
       "189  December 17 – Leo Varadkar succeeds Micheál Ma...   \n",
       "161  October 25 – Rishi Sunak becomes Prime Ministe...   \n",
       "\n",
       "                                            embeddings  distances  \n",
       "100  [-0.00169514 -0.00259986  0.00211974 ...  0.00...   0.178249  \n",
       "183  [ 0.00404612 -0.00411421  0.02369316 ... -0.00...   0.180490  \n",
       "119  [ 0.00208242  0.00398824  0.00789941 ...  0.00...   0.189535  \n",
       "136  [ 0.01263801  0.01633098  0.01474545 ...  0.00...   0.201293  \n",
       "96   [-0.01958991 -0.02260781  0.02034438 ... -0.00...   0.209306  \n",
       "..                                                 ...        ...  \n",
       "138  [-0.00249288 -0.0008894  -0.02050409 ...  0.02...   0.311753  \n",
       "159  [-0.00917703 -0.01634478  0.01078704 ...  0.00...   0.312086  \n",
       "187  [-0.02641545  0.00803665 -0.01977251 ...  0.01...   0.313500  \n",
       "189  [ 0.00830376 -0.02379905 -0.02508822 ... -0.00...   0.316687  \n",
       "161  [ 0.00757009 -0.02277379 -0.01944599 ...  0.00...   0.324102  \n",
       "\n",
       "[198 rows x 3 columns]"
      ],
      "text/html": [
       "<div>\n",
       "<style scoped>\n",
       "    .dataframe tbody tr th:only-of-type {\n",
       "        vertical-align: middle;\n",
       "    }\n",
       "\n",
       "    .dataframe tbody tr th {\n",
       "        vertical-align: top;\n",
       "    }\n",
       "\n",
       "    .dataframe thead th {\n",
       "        text-align: right;\n",
       "    }\n",
       "</style>\n",
       "<table border=\"1\" class=\"dataframe\">\n",
       "  <thead>\n",
       "    <tr style=\"text-align: right;\">\n",
       "      <th></th>\n",
       "      <th>text</th>\n",
       "      <th>embeddings</th>\n",
       "      <th>distances</th>\n",
       "    </tr>\n",
       "  </thead>\n",
       "  <tbody>\n",
       "    <tr>\n",
       "      <th>100</th>\n",
       "      <td>June 22 – A 6.2 earthquake strikes the Durand ...</td>\n",
       "      <td>[-0.00169514 -0.00259986  0.00211974 ...  0.00...</td>\n",
       "      <td>0.178249</td>\n",
       "    </tr>\n",
       "    <tr>\n",
       "      <th>183</th>\n",
       "      <td>November 21 – A 5.6 earthquake strikes near Ci...</td>\n",
       "      <td>[ 0.00404612 -0.00411421  0.02369316 ... -0.00...</td>\n",
       "      <td>0.180490</td>\n",
       "    </tr>\n",
       "    <tr>\n",
       "      <th>119</th>\n",
       "      <td>July 27 – A 7.0 earthquake strikes the island ...</td>\n",
       "      <td>[ 0.00208242  0.00398824  0.00789941 ...  0.00...</td>\n",
       "      <td>0.189535</td>\n",
       "    </tr>\n",
       "    <tr>\n",
       "      <th>136</th>\n",
       "      <td>September 5 – A 6.8 earthquake strikes Luding ...</td>\n",
       "      <td>[ 0.01263801  0.01633098  0.01474545 ...  0.00...</td>\n",
       "      <td>0.201293</td>\n",
       "    </tr>\n",
       "    <tr>\n",
       "      <th>96</th>\n",
       "      <td>June 8 – 2022 South Khorasan train derailment:...</td>\n",
       "      <td>[-0.01958991 -0.02260781  0.02034438 ... -0.00...</td>\n",
       "      <td>0.209306</td>\n",
       "    </tr>\n",
       "    <tr>\n",
       "      <th>...</th>\n",
       "      <td>...</td>\n",
       "      <td>...</td>\n",
       "      <td>...</td>\n",
       "    </tr>\n",
       "    <tr>\n",
       "      <th>138</th>\n",
       "      <td>September 8 – Queen Elizabeth II of the United...</td>\n",
       "      <td>[-0.00249288 -0.0008894  -0.02050409 ...  0.02...</td>\n",
       "      <td>0.311753</td>\n",
       "    </tr>\n",
       "    <tr>\n",
       "      <th>159</th>\n",
       "      <td>October 16–October 23 – The 20th National Cong...</td>\n",
       "      <td>[-0.00917703 -0.01634478  0.01078704 ...  0.00...</td>\n",
       "      <td>0.312086</td>\n",
       "    </tr>\n",
       "    <tr>\n",
       "      <th>187</th>\n",
       "      <td>December 7 – The Congress of Peru removes Pres...</td>\n",
       "      <td>[-0.02641545  0.00803665 -0.01977251 ...  0.01...</td>\n",
       "      <td>0.313500</td>\n",
       "    </tr>\n",
       "    <tr>\n",
       "      <th>189</th>\n",
       "      <td>December 17 – Leo Varadkar succeeds Micheál Ma...</td>\n",
       "      <td>[ 0.00830376 -0.02379905 -0.02508822 ... -0.00...</td>\n",
       "      <td>0.316687</td>\n",
       "    </tr>\n",
       "    <tr>\n",
       "      <th>161</th>\n",
       "      <td>October 25 – Rishi Sunak becomes Prime Ministe...</td>\n",
       "      <td>[ 0.00757009 -0.02277379 -0.01944599 ...  0.00...</td>\n",
       "      <td>0.324102</td>\n",
       "    </tr>\n",
       "  </tbody>\n",
       "</table>\n",
       "<p>198 rows × 3 columns</p>\n",
       "</div>"
      ]
     },
     "execution_count": 13,
     "metadata": {},
     "output_type": "execute_result"
    }
   ],
   "execution_count": 13
  },
  {
   "cell_type": "markdown",
   "id": "757505cb",
   "metadata": {},
   "source": [
    "## TODO 1: Build the Custom Text Prompt\n",
    "\n",
    "Run the cell below as-is:"
   ]
  },
  {
   "cell_type": "code",
   "id": "d2c16528",
   "metadata": {
    "ExecuteTime": {
     "end_time": "2025-03-14T18:23:08.197648Z",
     "start_time": "2025-03-14T18:23:08.193070Z"
    }
   },
   "source": [
    "import tiktoken\n",
    "# Create a tokenizer that is designed to align with our embeddings\n",
    "tokenizer = tiktoken.get_encoding(\"cl100k_base\")\n",
    "\n",
    "token_limit = 1000\n",
    "USER_QUESTION = \"\"\"What were the estimated damages of the 2023 \\\n",
    "Turkey-Syria earthquake?\"\"\""
   ],
   "outputs": [],
   "execution_count": 14
  },
  {
   "cell_type": "markdown",
   "id": "e04c0ca1",
   "metadata": {},
   "source": [
    "Now your task is to compose the custom text prompt.\n",
    "\n",
    "The overall structure of the prompt should look like this:\n",
    "\n",
    "```\n",
    "Answer the question based on the context below, and if the\n",
    "question can't be answered based on the context, say \"I don't\n",
    "know\"\n",
    "\n",
    "Context:\n",
    "\n",
    "{context}\n",
    "\n",
    "---\n",
    "\n",
    "Question: {question}\n",
    "Answer:\n",
    "```\n",
    "\n",
    "In the place marked `context`, provide as much information from `df['text']` as possible without exceeding `token_limit`. In the place marked `question`, add `USER_QUESTION`.\n",
    "\n",
    "Your overall goal is to create a string called `prompt` that contains all of the relevant information."
   ]
  },
  {
   "cell_type": "markdown",
   "id": "6de013ac",
   "metadata": {},
   "source": [
    "If you're getting stuck, you can click to reveal the solution then copy and paste this into the cell below.\n",
    "\n",
    "---\n",
    "\n",
    "<details>\n",
    "    <summary style=\"cursor: pointer\"><strong>Solution (click to show/hide)</strong></summary>\n",
    "\n",
    "```python\n",
    "# Count the number of tokens in the prompt template and question\n",
    "prompt_template = \"\"\"\n",
    "Answer the question based on the context below, and if the \n",
    "question can't be answered based on the context, say \n",
    "\"I don't know\"\n",
    "\n",
    "Context: \n",
    "\n",
    "{}\n",
    "\n",
    "---\n",
    "\n",
    "Question: {}\n",
    "Answer:\"\"\"\n",
    "token_count = len(tokenizer.encode(prompt_template)) + \\\n",
    "                        len(tokenizer.encode(USER_QUESTION))\n",
    "\n",
    "# Create a list to store text for context\n",
    "context_list = []\n",
    "\n",
    "# Loop over rows of the sorted dataframe\n",
    "for text in df[\"text\"].values:\n",
    "    \n",
    "    # Append text to context_list if there is enough room\n",
    "    token_count += len(tokenizer.encode(text))\n",
    "    if token_count <= token_limit:\n",
    "        context_list.append(text)\n",
    "    else:\n",
    "        # Break once we're over the token limit\n",
    "        break\n",
    "\n",
    "# Use string formatting to complete the prompt\n",
    "prompt = prompt_template.format(\n",
    "    \"\\n\\n###\\n\\n\".join(context_list),\n",
    "    USER_QUESTION\n",
    ")\n",
    "print(prompt)\n",
    "```\n",
    "\n",
    "</details>"
   ]
  },
  {
   "cell_type": "code",
   "id": "06acf260",
   "metadata": {
    "ExecuteTime": {
     "end_time": "2025-03-14T18:23:23.861821Z",
     "start_time": "2025-03-14T18:23:23.856071Z"
    }
   },
   "source": [
    "# Count the number of tokens in the prompt template and question\n",
    "prompt_template = \"\"\"\n",
    "Answer the question based on the context below, and if the \n",
    "question can't be answered based on the context, say \n",
    "\"I don't know\"\n",
    "\n",
    "Context: \n",
    "\n",
    "{}\n",
    "\n",
    "---\n",
    "\n",
    "Question: {}\n",
    "Answer:\"\"\"\n",
    "token_count = len(tokenizer.encode(prompt_template)) + \\\n",
    "              len(tokenizer.encode(USER_QUESTION))\n",
    "\n",
    "# Create a list to store text for context\n",
    "context_list = []\n",
    "\n",
    "# Loop over rows of the sorted dataframe\n",
    "for text in df[\"text\"].values:\n",
    "    # Append text to context_list if there is enough room\n",
    "    token_count += len(tokenizer.encode(text))\n",
    "    if token_count < token_limit:\n",
    "        context_list.append(text)\n",
    "    else:\n",
    "        break\n",
    "\n",
    "\n",
    "# Use string formatting to complete the prompt\n",
    "prompt = prompt_template.format(\n",
    "    \"\\n\\n###\\n\\n\".join(context_list),\n",
    "    USER_QUESTION\n",
    ")\n",
    "print(prompt)"
   ],
   "outputs": [
    {
     "name": "stdout",
     "output_type": "stream",
     "text": [
      "\n",
      "Answer the question based on the context below, and if the \n",
      "question can't be answered based on the context, say \n",
      "\"I don't know\"\n",
      "\n",
      "Context: \n",
      "\n",
      "June 22 – A 6.2 earthquake strikes the Durand Line between Afghanistan and Pakistan, killing at least 1,163 people.\n",
      "\n",
      "###\n",
      "\n",
      "November 21 – A 5.6 earthquake strikes near Cianjur in West Java, Indonesia, killing 635 people and injuring 7,700 more.\n",
      "\n",
      "###\n",
      "\n",
      "July 27 – A 7.0 earthquake strikes the island of Luzon in the Philippines killing 11 people and injuring over 600.\n",
      "\n",
      "###\n",
      "\n",
      "September 5 – A 6.8 earthquake strikes Luding County in Sichuan province, China, killing 117 and injuring 424.\n",
      "\n",
      "###\n",
      "\n",
      "June 8 – 2022 South Khorasan train derailment: In Iran, a passenger train derailed travelling from Tabas to Yazd crashed into an excavator and derailed, killing 18 and injuring 87.\n",
      "\n",
      "###\n",
      "\n",
      "August 17 – Turkey and Israel agree to restore full diplomatic relations after a period of tensions.\n",
      "\n",
      "###\n",
      "\n",
      " – 2022 was also dominated by wars and armed conflicts. While escalations into the internal conflict in Myanmar and the Tigray War dominated the heightening of tensions within their regions and each caused over 10,000 deaths, 2022 was most notable for the Russian invasion of Ukraine, the largest armed conflict in Europe since World War II. The invasion caused the displacement of 15.7 million Ukrainians (8 million internally displaced persons and 7.7 million refugees), and led to international condemnations and sanctions and nuclear threats, the withdrawal of hundreds of companies from Russia, and the exclusion of Russia from major sporting events.\n",
      "\n",
      "###\n",
      "\n",
      "August 28 – 2022 Pakistan floods: Pakistan declares a \"climate catastrophe\" and appeals for international assistance, as the death toll from recent flooding in the country exceeds 1,000, the world's deadliest flood since 2017. Several nations, alongside the UN, pledge millions in funding for aid.\n",
      "\n",
      "###\n",
      "\n",
      "September 12 – September 2022 Armenia–Azerbaijan clashes: Azerbaijan attacks Armenian positions near the cities of Vardenis, Goris, Sotk and Jermuk, and occupies certain areas of its territory along the Armenia–Azerbaijan border. Over the next few days, more than 100 Armenian soldiers are killed in the clashes, while Azerbaijan acknowledges 71 fatalities among its forces.\n",
      "\n",
      "###\n",
      "\n",
      "November 15 – Two missiles impact the village of Przewodów, Poland, close to the border with Ukraine.\n",
      "\n",
      "###\n",
      "\n",
      "September 27–September 30 – Hurricane Ian impacts Cuba and the United States, causing catastrophic damage to both nations, killing at least 157 people, 16 missing, and leaving millions without power, including the entire nation of Cuba.\n",
      "\n",
      "###\n",
      "\n",
      "February 5 – Cyclone Batsirai kills a total of 123 people across Madagascar, Mauritius, and Réunion two weeks after Tropical Storm Ana killed 115 people in the same region.\n",
      "\n",
      "###\n",
      "\n",
      "October 30 – The collapse of a suspension bridge in Gujarat, India, leaves at least 135 dead.\n",
      "\n",
      "###\n",
      "\n",
      "October 29 – A double car bombing by al-Shabaab in Mogadishu, Somalia kills at least 121 people and injures around 300.\n",
      "\n",
      "###\n",
      "\n",
      "September 14–September 20 – 2022 Kyrgyzstan–Tajikistan clashes: Dozens are killed as sporadic clashes occur between Kyrgyz and Tajik troops along their countries' respective border.\n",
      "\n",
      "###\n",
      "\n",
      "March 12 – 2022 Turkmenistan presidential election: Serdar Berdimuhamedow, son of former President Gurbanguly Berdimuhamedow, wins with 89% of the total votes.\n",
      "\n",
      "###\n",
      "\n",
      "January 15 – A large eruption of Hunga Tonga–Hunga Ha'apai, a submarine volcano in Tonga, triggers tsunami warnings in Australia, Canada, Chile, Fiji, Japan, New Zealand, Samoa, and the United States.\n",
      "\n",
      "###\n",
      "\n",
      "March 4 – Insurgency in Khyber Pakhtunkhwa: An Afghan man on behalf of the Islamic State – Khorasan Province commits a suicide attack at a Shia mosque in Peshawar, Khyber Pakhtunkhwa, Pakistan, killing 63 people.\n",
      "\n",
      "###\n",
      "\n",
      "January 23 – Tropical Storm Ana kills 115 people in Madagascar, Malawi and Mozambique, days after a series of floods killed 11 people in Madagascar.\n",
      "\n",
      "###\n",
      "\n",
      "March 2 – Russian invasion of Ukraine: The United Nations reports that over a million refugees have now fled from Ukraine to other countries.\n",
      "\n",
      "###\n",
      "\n",
      "March 16 – Russian invasion of Ukraine: A Russian airstrike on the Mariupol Theatre in Mariupol kills an estimated 600 civilians sheltering inside.\n",
      "\n",
      "---\n",
      "\n",
      "Question: What were the estimated damages of the 2023 Turkey-Syria earthquake?\n",
      "Answer:\n"
     ]
    }
   ],
   "execution_count": 16
  },
  {
   "cell_type": "markdown",
   "id": "a097f24d",
   "metadata": {},
   "source": [
    "## TODO 2: Send Custom Text Prompt to Completion Model\n",
    "\n",
    "Using the `prompt` string you created, query an OpenAI `Completion` model to get an answer. Specify a `max_tokens` of 150.\n",
    "\n",
    "If you're getting stuck, you can click to reveal the solution then copy and paste this into the cell below.\n",
    "\n",
    "---\n",
    "\n",
    "<details>\n",
    "    <summary style=\"cursor: pointer\"><strong>Solution (click to show/hide)</strong></summary>\n",
    "\n",
    "```python\n",
    "COMPLETION_MODEL_NAME = \"gpt-3.5-turbo-instruct\"\n",
    "response = openai.Completion.create(\n",
    "    model=COMPLETION_MODEL_NAME,\n",
    "    prompt=prompt,\n",
    "    max_tokens=150\n",
    ")\n",
    "answer = response[\"choices\"][0][\"text\"].strip()\n",
    "print(answer)\n",
    "```\n",
    "\n",
    "</details>"
   ]
  },
  {
   "cell_type": "code",
   "id": "05b35a58",
   "metadata": {
    "ExecuteTime": {
     "end_time": "2025-03-14T18:27:35.507675Z",
     "start_time": "2025-03-14T18:27:32.847280Z"
    }
   },
   "source": [
    "COMPLETION_MODEL_NAME = \"gpt-3.5-turbo-instruct\"\n",
    "response = openai.Completion.create(\n",
    "    model=COMPLETION_MODEL_NAME,\n",
    "    prompt=prompt,\n",
    "    max_tokens=150\n",
    ")\n",
    "answer = response[\"choices\"][0][\"text\"].strip()\n",
    "print(answer)"
   ],
   "outputs": [
    {
     "name": "stdout",
     "output_type": "stream",
     "text": [
      "I don't know\n"
     ]
    }
   ],
   "execution_count": 20
  },
  {
   "cell_type": "markdown",
   "id": "70191209",
   "metadata": {},
   "source": [
    "## 🎉 Congratulations 🎉\n",
    "\n",
    "You have now completed the prompt engineering process using unsupervised ML to get a custom answer from an OpenAI model!"
   ]
  }
 ],
 "metadata": {
  "kernelspec": {
   "display_name": "Python 3 (ipykernel)",
   "language": "python",
   "name": "python3"
  },
  "language_info": {
   "codemirror_mode": {
    "name": "ipython",
    "version": 3
   },
   "file_extension": ".py",
   "mimetype": "text/x-python",
   "name": "python",
   "nbconvert_exporter": "python",
   "pygments_lexer": "ipython3",
   "version": "3.9.18"
  }
 },
 "nbformat": 4,
 "nbformat_minor": 5
}
