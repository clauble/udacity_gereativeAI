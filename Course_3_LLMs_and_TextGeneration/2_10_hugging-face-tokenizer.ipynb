{
 "cells": [
  {
   "cell_type": "code",
   "metadata": {
    "slideshow": {
     "slide_type": ""
    },
    "tags": [],
    "ExecuteTime": {
     "end_time": "2025-03-12T13:32:21.223670Z",
     "start_time": "2025-03-12T13:32:21.219621Z"
    }
   },
   "source": [
    "from transformers import AutoTokenizer"
   ],
   "outputs": [],
   "execution_count": 12
  },
  {
   "cell_type": "markdown",
   "metadata": {},
   "source": [
    "# Using Hugging Face Tokenizers"
   ]
  },
  {
   "metadata": {},
   "cell_type": "markdown",
   "source": "### Loading Tokenizer"
  },
  {
   "metadata": {},
   "cell_type": "markdown",
   "source": [
    "In this notebook, we'll explore Hugging Face's tokenizers by using a pretrained\n",
    "model. Hugging Face has many tokenizers available that have already been trained\n",
    "for specific models and tasks!"
   ]
  },
  {
   "metadata": {
    "ExecuteTime": {
     "end_time": "2025-03-12T13:32:21.278004Z",
     "start_time": "2025-03-12T13:32:21.273356Z"
    }
   },
   "cell_type": "code",
   "source": [
    "import os\n",
    "if 'A306709' in os.environ['USERNAME']:\n",
    "    print(\"Running on Christophs computer: update proxy settings.\")\n",
    "    os.environ[\"http_proxy\"] = \"http://sia-lb.telekom.de:8080\"\n",
    "    os.environ[\"https_proxy\"] = \"http://sia-lb.telekom.de:8080\"\n",
    "else:\n",
    "    print(\"Running on any computer but not Christophs: don't update any proxy settings.\")"
   ],
   "outputs": [
    {
     "name": "stdout",
     "output_type": "stream",
     "text": [
      "Running on Christophs computer: update proxy settings.\n"
     ]
    }
   ],
   "execution_count": 13
  },
  {
   "metadata": {
    "ExecuteTime": {
     "end_time": "2025-03-12T13:32:31.126031Z",
     "start_time": "2025-03-12T13:32:21.305575Z"
    }
   },
   "cell_type": "code",
   "source": [
    "from transformers import AutoTokenizer\n",
    "# Choose a pretrained tokenizer to use\n",
    "my_tokenizer = AutoTokenizer.from_pretrained('bert-base-cased')"
   ],
   "outputs": [
    {
     "data": {
      "text/plain": [
       "vocab.txt:   0%|          | 0.00/213k [00:00<?, ?B/s]"
      ],
      "application/vnd.jupyter.widget-view+json": {
       "version_major": 2,
       "version_minor": 0,
       "model_id": "f025b2ff12df4f41bee7eadcd577404f"
      }
     },
     "metadata": {},
     "output_type": "display_data"
    }
   ],
   "execution_count": 14
  },
  {
   "cell_type": "markdown",
   "metadata": {},
   "source": [
    "## Encoding: Text to Tokens"
   ]
  },
  {
   "cell_type": "markdown",
   "metadata": {},
   "source": [
    "### Tokens: String Representations"
   ]
  },
  {
   "cell_type": "code",
   "metadata": {
    "ExecuteTime": {
     "end_time": "2025-03-12T13:32:31.144166Z",
     "start_time": "2025-03-12T13:32:31.139500Z"
    }
   },
   "source": [
    "# Simple method getting tokens from text\n",
    "raw_text = '''Rory's shoes are magenta and so are Corey's but they aren't nearly as dark!'''\n",
    "tokens = my_tokenizer.tokenize(raw_text)\n",
    "\n",
    "print(tokens)"
   ],
   "outputs": [
    {
     "name": "stdout",
     "output_type": "stream",
     "text": [
      "['Rory', \"'\", 's', 'shoes', 'are', 'mage', '##nta', 'and', 'so', 'are', 'Corey', \"'\", 's', 'but', 'they', 'aren', \"'\", 't', 'nearly', 'as', 'dark', '!']\n"
     ]
    }
   ],
   "execution_count": 15
  },
  {
   "cell_type": "code",
   "metadata": {
    "ExecuteTime": {
     "end_time": "2025-03-12T13:32:31.165548Z",
     "start_time": "2025-03-12T13:32:31.160902Z"
    }
   },
   "source": [
    "# This method also returns special tokens depending on the pretrained tokenizer\n",
    "detailed_tokens = my_tokenizer(raw_text).tokens()\n",
    "\n",
    "print(detailed_tokens)"
   ],
   "outputs": [
    {
     "name": "stdout",
     "output_type": "stream",
     "text": [
      "['[CLS]', 'Rory', \"'\", 's', 'shoes', 'are', 'mage', '##nta', 'and', 'so', 'are', 'Corey', \"'\", 's', 'but', 'they', 'aren', \"'\", 't', 'nearly', 'as', 'dark', '!', '[SEP]']\n"
     ]
    }
   ],
   "execution_count": 16
  },
  {
   "cell_type": "markdown",
   "metadata": {},
   "source": [
    "### Tokens: Integer ID Representations"
   ]
  },
  {
   "cell_type": "code",
   "metadata": {
    "ExecuteTime": {
     "end_time": "2025-03-12T13:32:31.228664Z",
     "start_time": "2025-03-12T13:32:31.223739Z"
    }
   },
   "source": [
    "# Way to get tokens as integer IDs\n",
    "print(my_tokenizer.encode(raw_text))"
   ],
   "outputs": [
    {
     "name": "stdout",
     "output_type": "stream",
     "text": [
      "[101, 14845, 112, 188, 5743, 1132, 27595, 13130, 1105, 1177, 1132, 19521, 112, 188, 1133, 1152, 4597, 112, 189, 2212, 1112, 1843, 106, 102]\n"
     ]
    }
   ],
   "execution_count": 17
  },
  {
   "cell_type": "code",
   "metadata": {
    "ExecuteTime": {
     "end_time": "2025-03-12T13:32:31.294361Z",
     "start_time": "2025-03-12T13:32:31.288601Z"
    }
   },
   "source": [
    "print(detailed_tokens)\n",
    "\n",
    "# Tokenizer method to get the IDs if we already have the tokens as strings\n",
    "detailed_ids = my_tokenizer.convert_tokens_to_ids(detailed_tokens)\n",
    "print(detailed_ids)"
   ],
   "outputs": [
    {
     "name": "stdout",
     "output_type": "stream",
     "text": [
      "['[CLS]', 'Rory', \"'\", 's', 'shoes', 'are', 'mage', '##nta', 'and', 'so', 'are', 'Corey', \"'\", 's', 'but', 'they', 'aren', \"'\", 't', 'nearly', 'as', 'dark', '!', '[SEP]']\n",
      "[101, 14845, 112, 188, 5743, 1132, 27595, 13130, 1105, 1177, 1132, 19521, 112, 188, 1133, 1152, 4597, 112, 189, 2212, 1112, 1843, 106, 102]\n"
     ]
    }
   ],
   "execution_count": 18
  },
  {
   "cell_type": "markdown",
   "metadata": {},
   "source": [
    "Another way can look a little complex but can be useful when working with\n",
    "tokenizers for certain tasks."
   ]
  },
  {
   "cell_type": "code",
   "metadata": {
    "ExecuteTime": {
     "end_time": "2025-03-12T13:32:31.334583Z",
     "start_time": "2025-03-12T13:32:31.328815Z"
    }
   },
   "source": [
    "# Returns an object that has a few different keys available\n",
    "my_tokenizer(raw_text)"
   ],
   "outputs": [
    {
     "data": {
      "text/plain": [
       "{'input_ids': [101, 14845, 112, 188, 5743, 1132, 27595, 13130, 1105, 1177, 1132, 19521, 112, 188, 1133, 1152, 4597, 112, 189, 2212, 1112, 1843, 106, 102], 'token_type_ids': [0, 0, 0, 0, 0, 0, 0, 0, 0, 0, 0, 0, 0, 0, 0, 0, 0, 0, 0, 0, 0, 0, 0, 0], 'attention_mask': [1, 1, 1, 1, 1, 1, 1, 1, 1, 1, 1, 1, 1, 1, 1, 1, 1, 1, 1, 1, 1, 1, 1, 1]}"
      ]
     },
     "execution_count": 19,
     "metadata": {},
     "output_type": "execute_result"
    }
   ],
   "execution_count": 19
  },
  {
   "cell_type": "code",
   "metadata": {
    "ExecuteTime": {
     "end_time": "2025-03-12T13:32:31.373395Z",
     "start_time": "2025-03-12T13:32:31.368283Z"
    }
   },
   "source": [
    "# focus on `input_ids` which are the IDs associated with the tokens.\n",
    "print(my_tokenizer(raw_text).input_ids)"
   ],
   "outputs": [
    {
     "name": "stdout",
     "output_type": "stream",
     "text": [
      "[101, 14845, 112, 188, 5743, 1132, 27595, 13130, 1105, 1177, 1132, 19521, 112, 188, 1133, 1152, 4597, 112, 189, 2212, 1112, 1843, 106, 102]\n"
     ]
    }
   ],
   "execution_count": 20
  },
  {
   "cell_type": "markdown",
   "metadata": {},
   "source": [
    "## Decoding: Tokens to Text"
   ]
  },
  {
   "cell_type": "markdown",
   "metadata": {},
   "source": [
    "We of course can use the tokenizer to go from token IDs to tokens and back to text!"
   ]
  },
  {
   "cell_type": "code",
   "metadata": {
    "ExecuteTime": {
     "end_time": "2025-03-12T13:32:31.414859Z",
     "start_time": "2025-03-12T13:32:31.408241Z"
    }
   },
   "source": [
    "# Integer IDs for tokens\n",
    "ids = my_tokenizer.encode(raw_text)\n",
    "\n",
    "# The inverse of the .enocde() method: .decode()\n",
    "my_tokenizer.decode(ids)"
   ],
   "outputs": [
    {
     "data": {
      "text/plain": [
       "\"[CLS] Rory ' s shoes are magenta and so are Corey ' s but they aren ' t nearly as dark! [SEP]\""
      ]
     },
     "execution_count": 21,
     "metadata": {},
     "output_type": "execute_result"
    }
   ],
   "execution_count": 21
  },
  {
   "cell_type": "code",
   "metadata": {
    "ExecuteTime": {
     "end_time": "2025-03-12T13:32:31.457284Z",
     "start_time": "2025-03-12T13:32:31.451847Z"
    }
   },
   "source": [
    "# To ignore special tokens (depending on pretrained tokenizer)\n",
    "my_tokenizer.decode(ids, skip_special_tokens=True)"
   ],
   "outputs": [
    {
     "data": {
      "text/plain": [
       "\"Rory ' s shoes are magenta and so are Corey ' s but they aren ' t nearly as dark!\""
      ]
     },
     "execution_count": 22,
     "metadata": {},
     "output_type": "execute_result"
    }
   ],
   "execution_count": 22
  },
  {
   "cell_type": "code",
   "metadata": {
    "ExecuteTime": {
     "end_time": "2025-03-12T13:32:31.489148Z",
     "start_time": "2025-03-12T13:32:31.483399Z"
    }
   },
   "source": [
    "# List of tokens as strings instead of one long string\n",
    "my_tokenizer.convert_ids_to_tokens(ids)"
   ],
   "outputs": [
    {
     "data": {
      "text/plain": [
       "['[CLS]',\n",
       " 'Rory',\n",
       " \"'\",\n",
       " 's',\n",
       " 'shoes',\n",
       " 'are',\n",
       " 'mage',\n",
       " '##nta',\n",
       " 'and',\n",
       " 'so',\n",
       " 'are',\n",
       " 'Corey',\n",
       " \"'\",\n",
       " 's',\n",
       " 'but',\n",
       " 'they',\n",
       " 'aren',\n",
       " \"'\",\n",
       " 't',\n",
       " 'nearly',\n",
       " 'as',\n",
       " 'dark',\n",
       " '!',\n",
       " '[SEP]']"
      ]
     },
     "execution_count": 23,
     "metadata": {},
     "output_type": "execute_result"
    }
   ],
   "execution_count": 23
  },
  {
   "cell_type": "markdown",
   "metadata": {},
   "source": [
    "## A Note on the Unknown"
   ]
  },
  {
   "cell_type": "markdown",
   "metadata": {},
   "source": [
    "> One thing to consider is if a string is outside of the tokenizer's vocabulary,\n",
    "> also known as an \"unkown\" token.\n",
    "> \n",
    "> They are typically represented with `[UNK]` or\n",
    "> some other similar variant.\n",
    "\n",
    "\n",
    "<!--\n",
    "If the tokenizer encoded the text so each character was a token (which is\n",
    "actually not as easy as it sounds), then it would be impossible to have an\n",
    "\"unknown\" token. Word-based tokenization will always be in danger of having \n",
    "\"unknown\" tokens since it's virtually impossible to have every possible word (\n",
    "and \"non-word\") in its vocabulary!\n",
    "\n",
    "And so you might think that subword tokenization wouldn't have an issue with\n",
    "\"unknown\" tokens. And although there are fewer than word-based tokenization, it\n",
    "does happen!\n",
    "\n",
    "--------------------------------------------------------------------------------\n",
    "\n",
    "Tokenizers are specific so it's important to use a tokenizer that will recognize\n",
    "most of the text you're working with! For example, a lot of tokenizers might not\n",
    "consider emoji as tokens but could be really important if emoji are especially\n",
    "numerous in your data (like a corpus of chat messages)!\n",
    "\n",
    "If you're seeing a lot of \"unknown\" tokens with the text you're working with,\n",
    "might consider using a different tokenizer appropiate for the task. Or it's also\n",
    "possible to fine-tune a pretrained model or train one from scratch!\n",
    "\n",
    "-->"
   ]
  },
  {
   "cell_type": "code",
   "metadata": {
    "ExecuteTime": {
     "end_time": "2025-03-12T13:32:31.526808Z",
     "start_time": "2025-03-12T13:32:31.521513Z"
    }
   },
   "source": [
    "phrase = '🥱 the dog next door kept barking all night!!'\n",
    "ids = my_tokenizer.encode(phrase)\n",
    "print(phrase)\n",
    "print(my_tokenizer.convert_ids_to_tokens(ids))\n",
    "print(my_tokenizer.decode(ids))"
   ],
   "outputs": [
    {
     "name": "stdout",
     "output_type": "stream",
     "text": [
      "🥱 the dog next door kept barking all night!!\n",
      "['[CLS]', '[UNK]', 'the', 'dog', 'next', 'door', 'kept', 'barking', 'all', 'night', '!', '!', '[SEP]']\n",
      "[CLS] [UNK] the dog next door kept barking all night!! [SEP]\n"
     ]
    }
   ],
   "execution_count": 24
  },
  {
   "cell_type": "code",
   "metadata": {
    "ExecuteTime": {
     "end_time": "2025-03-12T13:32:31.555984Z",
     "start_time": "2025-03-12T13:32:31.548639Z"
    }
   },
   "source": [
    "phrase = '''wow my dad thought mcdonalds sold tacos \\N{SKULL}'''\n",
    "ids = my_tokenizer.encode(phrase)\n",
    "print(phrase)\n",
    "print(my_tokenizer.convert_ids_to_tokens(ids))\n",
    "print(my_tokenizer.decode(ids))"
   ],
   "outputs": [
    {
     "name": "stdout",
     "output_type": "stream",
     "text": [
      "wow my dad thought mcdonalds sold tacos 💀\n",
      "['[CLS]', 'w', '##ow', 'my', 'dad', 'thought', 'm', '##c', '##don', '##ald', '##s', 'sold', 'ta', '##cos', '[UNK]', '[SEP]']\n",
      "[CLS] wow my dad thought mcdonalds sold tacos [UNK] [SEP]\n"
     ]
    }
   ],
   "execution_count": 25
  }
 ],
 "metadata": {
  "kernelspec": {
   "display_name": "Python 3 (ipykernel)",
   "language": "python",
   "name": "python3"
  },
  "language_info": {
   "codemirror_mode": {
    "name": "ipython",
    "version": 3
   },
   "file_extension": ".py",
   "mimetype": "text/x-python",
   "name": "python",
   "nbconvert_exporter": "python",
   "pygments_lexer": "ipython3",
   "version": "3.10.13"
  }
 },
 "nbformat": 4,
 "nbformat_minor": 4
}
