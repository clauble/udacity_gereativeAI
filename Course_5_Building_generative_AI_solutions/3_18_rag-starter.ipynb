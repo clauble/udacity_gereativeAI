{
 "cells": [
  {
   "cell_type": "code",
   "metadata": {
    "ExecuteTime": {
     "end_time": "2025-04-02T15:13:41.208648Z",
     "start_time": "2025-04-02T15:13:37.017542Z"
    }
   },
   "source": [
    "from langchain.document_loaders.csv_loader import CSVLoader\n",
    "from langchain.embeddings.openai import OpenAIEmbeddings\n",
    "from langchain.llms import OpenAI\n",
    "from langchain.text_splitter import CharacterTextSplitter\n",
    "from langchain.vectorstores import Chroma\n",
    "from langchain.chains import RetrievalQA\n",
    "from langchain.prompts import PromptTemplate\n",
    "from langchain import LLMChain\n",
    "from langchain.chains.question_answering import load_qa_chain"
   ],
   "outputs": [],
   "execution_count": 1
  },
  {
   "cell_type": "code",
   "metadata": {
    "ExecuteTime": {
     "end_time": "2025-04-02T15:13:42.806027Z",
     "start_time": "2025-04-02T15:13:42.801349Z"
    }
   },
   "source": [
    "import os\n",
    "\n",
    "#os.environ[\"OPENAI_API_KEY\"] = \"YOUR API KEY\"\n",
    "os.environ[\"OPENAI_API_BASE\"] = \"https://openai.vocareum.com/v1\""
   ],
   "outputs": [],
   "execution_count": 2
  },
  {
   "cell_type": "markdown",
   "metadata": {},
   "source": [
    "First, initialize your LLM"
   ]
  },
  {
   "cell_type": "code",
   "metadata": {
    "ExecuteTime": {
     "end_time": "2025-04-02T15:13:46.607281Z",
     "start_time": "2025-04-02T15:13:44.593675Z"
    }
   },
   "source": [
    "# TODO: initialize your LLM\n",
    "model_name = 'gpt-3.5-turbo'\n",
    "llm = OpenAI(model_name=model_name, temperature=0, max_tokens=2000)\n"
   ],
   "outputs": [
    {
     "name": "stderr",
     "output_type": "stream",
     "text": [
      "C:\\Users\\A306709\\dev\\2025-02-AIWithPython\\NanoDegreeCodeSammlung\\.venv\\Lib\\site-packages\\langchain_community\\llms\\openai.py:248: UserWarning: You are trying to use a chat model. This way of initializing it is no longer supported. Instead, please use: `from langchain_community.chat_models import ChatOpenAI`\n",
      "  warnings.warn(\n",
      "C:\\Users\\A306709\\dev\\2025-02-AIWithPython\\NanoDegreeCodeSammlung\\.venv\\Lib\\site-packages\\langchain_community\\llms\\openai.py:1057: UserWarning: You are trying to use a chat model. This way of initializing it is no longer supported. Instead, please use: `from langchain_community.chat_models import ChatOpenAI`\n",
      "  warnings.warn(\n"
     ]
    }
   ],
   "execution_count": 3
  },
  {
   "cell_type": "markdown",
   "metadata": {},
   "source": [
    "Then, load reviews from tv-reviews.csv"
   ]
  },
  {
   "cell_type": "code",
   "metadata": {
    "ExecuteTime": {
     "end_time": "2025-04-02T15:13:49.716520Z",
     "start_time": "2025-04-02T15:13:49.697846Z"
    }
   },
   "source": [
    "# TODO: load your documents\n",
    "loader = CSVLoader(file_path='./tv-reviews.csv')\n",
    "docs = loader.load()\n",
    "#print(docs)"
   ],
   "outputs": [],
   "execution_count": 4
  },
  {
   "cell_type": "markdown",
   "metadata": {},
   "source": [
    "Split the documents you loaded into smaller chunks"
   ]
  },
  {
   "cell_type": "code",
   "metadata": {
    "ExecuteTime": {
     "end_time": "2025-04-02T15:13:51.427588Z",
     "start_time": "2025-04-02T15:13:51.420868Z"
    }
   },
   "source": [
    "# TODO: use a Text Splitter to split the documents into chunks\n",
    "splitter = CharacterTextSplitter(chunk_size=1000, chunk_overlap=0)\n",
    "split_docs = splitter.split_documents(docs)\n",
    "print(split_docs)"
   ],
   "outputs": [
    {
     "name": "stdout",
     "output_type": "stream",
     "text": [
      "[Document(page_content=\"TV Name: Imagix Pro\\nReview Title: Amazing Picture Quality\\nReview Rating: 9\\nReview Text: I recently purchased the Imagix Pro and I am blown away by its picture quality. The colors are vibrant and the images are crystal clear. It feels like I'm watching movies in a theater! The sound is also impressive, creating a truly immersive experience. Highly recommended!\", metadata={'source': './tv-reviews.csv', 'row': 0}), Document(page_content=\"TV Name: Imagix Pro\\nReview Title: Impressive Features\\nReview Rating: 8\\nReview Text: The Imagix Pro is packed with impressive features that enhance my viewing experience. The smart functionality allows me to easily stream my favorite shows and movies. The remote control is user-friendly and has convenient shortcuts. The slim design is sleek and fits perfectly in my living room. The only downside is that the sound could be better, but overall, I'm satisfied.\", metadata={'source': './tv-reviews.csv', 'row': 1}), Document(page_content=\"TV Name: Imagix Pro\\nReview Title: Unmatched Clarity\\nReview Rating: 10\\nReview Text: I cannot express enough how impressed I am with the clarity of the Imagix Pro. Every detail is so sharp and lifelike, it's like I can reach out and touch the images on the screen. The colors are vibrant and realistic, making everything look stunning. It truly enhances my movie-watching experience!\", metadata={'source': './tv-reviews.csv', 'row': 2}), Document(page_content=\"TV Name: Imagix Pro\\nReview Title: Disappointing Sound Quality\\nReview Rating: 3\\nReview Text: While the picture quality of the Imagix Pro is excellent, I am disappointed with the sound quality. The volume lacks depth and the bass is almost non-existent. I had to invest in external speakers to enjoy a better audio experience. It's a shame that such a great TV falls short in this aspect.\", metadata={'source': './tv-reviews.csv', 'row': 3}), Document(page_content='TV Name: Imagix Pro\\nReview Title: Easy Setup and Navigation\\nReview Rating: 9\\nReview Text: Setting up the Imagix Pro was a breeze. The instructions were clear and the TV guided me through the process smoothly. The interface is intuitive and easy to navigate. I love how seamless it is to switch between different apps and inputs. This TV has made my life so much simpler!', metadata={'source': './tv-reviews.csv', 'row': 4}), Document(page_content=\"TV Name: Imagix Pro\\nReview Title: Stunning Design\\nReview Rating: 10\\nReview Text: The Imagix Pro not only offers exceptional performance but also boasts a stunning design. The ultra-thin bezels and sleek finish make it a focal point of my living room. The TV blends seamlessly with my decor. It's a true work of art!\", metadata={'source': './tv-reviews.csv', 'row': 5}), Document(page_content='TV Name: Imagix Pro\\nReview Title: Outstanding Value for Money\\nReview Rating: 9\\nReview Text: The Imagix Pro is a fantastic value for money. Considering its high-quality performance, impressive features, and sleek design, it offers more bang for the buck compared to other TVs in the market. I am extremely satisfied with my purchase.', metadata={'source': './tv-reviews.csv', 'row': 6}), Document(page_content=\"TV Name: Imagix Pro\\nReview Title: Unreliable Connectivity\\nReview Rating: 4\\nReview Text: One major issue I have encountered with the Imagix Pro is its unreliable connectivity. The Wi-Fi frequently disconnects, causing buffering issues during streaming. The TV also struggles to maintain a stable Bluetooth connection. It's frustrating, especially considering the price I paid.\", metadata={'source': './tv-reviews.csv', 'row': 7}), Document(page_content=\"TV Name: Imagix Pro\\nReview Title: Perfect Gaming TV\\nReview Rating: 8\\nReview Text: As a gaming enthusiast, the Imagix Pro is a dream come true. The low input lag and high refresh rate ensure smooth gameplay. The colors are vibrant and the details are crisp, providing an immersive gaming experience. It's the perfect TV for all gamers out there!\", metadata={'source': './tv-reviews.csv', 'row': 8}), Document(page_content='TV Name: Imagix Pro\\nReview Title: Exceptional Customer Service\\nReview Rating: 10\\nReview Text: I had a minor issue with my Imagix Pro, but the customer service team was exceptional. They were prompt in addressing my concern and guided me through the troubleshooting process. They even offered a quick replacement when the issue persisted. Kudos to their excellent support!', metadata={'source': './tv-reviews.csv', 'row': 9}), Document(page_content=\"TV Name: VisionMax Ultra\\nReview Title: Unmatched Visuals\\nReview Rating: 10\\nReview Text: The VisionMax Ultra lives up to its name by delivering unmatched visuals. The 4K resolution and HDR technology bring every scene to life with incredible detail and vibrant colors. It's like having a cinema in my own home. I couldn't be happier with this TV!\", metadata={'source': './tv-reviews.csv', 'row': 10}), Document(page_content=\"TV Name: VisionMax Ultra\\nReview Title: Disappointing Sound\\nReview Rating: 5\\nReview Text: While the picture quality of the VisionMax Ultra is exceptional, the sound quality falls short. The built-in speakers lack depth and the audio feels hollow. I had to connect external speakers to enjoy a fulfilling audio experience. It's a letdown considering the overall performance of the TV.\", metadata={'source': './tv-reviews.csv', 'row': 11}), Document(page_content='TV Name: VisionMax Ultra\\nReview Title: Sleek and Modern\\nReview Rating: 9\\nReview Text: The VisionMax Ultra fits perfectly into my modern living room decor. The slim design and minimalistic bezels make it look sleek and stylish. The TV is a seamless addition to my home, and it never fails to impress my guests.', metadata={'source': './tv-reviews.csv', 'row': 12}), Document(page_content=\"TV Name: VisionMax Ultra\\nReview Title: Impressive Smart Features\\nReview Rating: 8\\nReview Text: The VisionMax Ultra comes loaded with impressive smart features. The user interface is intuitive and easy to navigate. The TV seamlessly integrates with various streaming platforms, providing a hassle-free entertainment experience. It's like having a smart hub at my fingertips.\", metadata={'source': './tv-reviews.csv', 'row': 13}), Document(page_content=\"TV Name: VisionMax Ultra\\nReview Title: Excellent Picture Clarity\\nReview Rating: 9\\nReview Text: The picture clarity of the VisionMax Ultra is simply outstanding. The images are sharp, and the colors are vivid. Whether I'm watching movies, sports, or playing games, the visuals are always stunning. This TV takes my viewing experience to a whole new level!\", metadata={'source': './tv-reviews.csv', 'row': 14}), Document(page_content=\"TV Name: VisionMax Ultra\\nReview Title: Insufficient HDMI Ports\\nReview Rating: 6\\nReview Text: One downside of the VisionMax Ultra is the limited number of HDMI ports. With the increasing number of HDMI devices, it's frustrating to constantly switch cables. I wish there were more ports to accommodate all my devices without the need for an HDMI switcher.\", metadata={'source': './tv-reviews.csv', 'row': 15}), Document(page_content='TV Name: VisionMax Ultra\\nReview Title: Easy Installation Process\\nReview Rating: 9\\nReview Text: Setting up the VisionMax Ultra was a breeze. The instructions provided were clear and concise, making the installation process quick and hassle-free. The TV also offers various mounting options, allowing me to choose the perfect placement for my viewing pleasure.', metadata={'source': './tv-reviews.csv', 'row': 16}), Document(page_content=\"TV Name: VisionMax Ultra\\nReview Title: Immersive Audio Experience\\nReview Rating: 10\\nReview Text: The VisionMax Ultra delivers an immersive audio experience. The built-in speakers produce clear and well-balanced sound. The Dolby Atmos technology adds depth and dimension to the audio, making it feel like I'm in a theater. I'm thoroughly impressed!\", metadata={'source': './tv-reviews.csv', 'row': 17}), Document(page_content=\"TV Name: VisionMax Ultra\\nReview Title: Unresponsive Remote Control\\nReview Rating: 4\\nReview Text: One major drawback of the VisionMax Ultra is the unresponsive remote control. It often takes multiple presses for the TV to register the command. It's frustrating, especially when navigating through menus or adjusting settings. The remote control definitely needs improvement.\", metadata={'source': './tv-reviews.csv', 'row': 18}), Document(page_content='TV Name: VisionMax Ultra\\nReview Title: Value for Money\\nReview Rating: 8\\nReview Text: The VisionMax Ultra offers exceptional value for money. Compared to other high-end TVs in the market, it provides similar performance at a more affordable price. The picture quality and smart features make it a worthwhile investment. Highly recommended!', metadata={'source': './tv-reviews.csv', 'row': 19})]\n"
     ]
    }
   ],
   "execution_count": 5
  },
  {
   "cell_type": "markdown",
   "metadata": {},
   "source": [
    "Now, initialize your embeddings"
   ]
  },
  {
   "cell_type": "code",
   "metadata": {
    "ExecuteTime": {
     "end_time": "2025-04-02T15:13:54.525847Z",
     "start_time": "2025-04-02T15:13:54.519339Z"
    }
   },
   "source": [
    "# TODO: initialize your embeddings model\n",
    "embeddings = OpenAIEmbeddings()"
   ],
   "outputs": [],
   "execution_count": 6
  },
  {
   "cell_type": "markdown",
   "metadata": {},
   "source": [
    "Initialize your vector db with your embeddings model and populate with your text chunks"
   ]
  },
  {
   "cell_type": "code",
   "metadata": {
    "ExecuteTime": {
     "end_time": "2025-04-02T15:15:08.201987Z",
     "start_time": "2025-04-02T15:15:08.174525Z"
    }
   },
   "source": [
    "# TODO: populate your vector database with the chunks\n",
    "db = Chroma.from_documenters(split_docs, embeddings)\n"
   ],
   "outputs": [
    {
     "ename": "AttributeError",
     "evalue": "type object 'Chroma' has no attribute 'from_documenters'",
     "output_type": "error",
     "traceback": [
      "\u001B[31m---------------------------------------------------------------------------\u001B[39m",
      "\u001B[31mAttributeError\u001B[39m                            Traceback (most recent call last)",
      "\u001B[36mCell\u001B[39m\u001B[36m \u001B[39m\u001B[32mIn[11]\u001B[39m\u001B[32m, line 2\u001B[39m\n\u001B[32m      1\u001B[39m \u001B[38;5;66;03m# TODO: populate your vector database with the chunks\u001B[39;00m\n\u001B[32m----> \u001B[39m\u001B[32m2\u001B[39m db = \u001B[43mChroma\u001B[49m\u001B[43m.\u001B[49m\u001B[43mfrom_documenters\u001B[49m(split_docs, embeddings)\n",
      "\u001B[31mAttributeError\u001B[39m: type object 'Chroma' has no attribute 'from_documenters'"
     ]
    }
   ],
   "execution_count": 11
  },
  {
   "cell_type": "markdown",
   "metadata": {},
   "source": [
    "Query your vector database for 5 most semantically similar chunks"
   ]
  },
  {
   "cell_type": "code",
   "metadata": {
    "ExecuteTime": {
     "end_time": "2025-04-02T15:14:53.561436Z",
     "start_time": "2025-04-02T15:14:53.557369Z"
    }
   },
   "source": [
    "query = \"\"\"\n",
    "    Based on the reviews in the context, tell me what people liked about the picture quality.\n",
    "    Make sure you do not paraphrase the reviews, and only use the information provided in the reviews.\n",
    "    \"\"\"\n",
    "# find top 5 semantically similar documents to the query"
   ],
   "outputs": [],
   "execution_count": 9
  },
  {
   "cell_type": "markdown",
   "metadata": {},
   "source": [
    "Combined, they should provide enough information to answer our question about picture quality"
   ]
  },
  {
   "cell_type": "code",
   "metadata": {
    "ExecuteTime": {
     "end_time": "2025-04-02T15:14:56.269975Z",
     "start_time": "2025-04-02T15:14:56.237580Z"
    }
   },
   "source": [
    "# query your LLM with the query and the top 5 documents\n",
    "use_chain_helper = False\n",
    "if use_chain_helper:\n",
    "    rag = RetrievalQA.from_chain_type(llm=llm, chain_type=\"stuff\", retriever=db.as_retriever())\n",
    "    print(rag.run(query))\n",
    "else:\n",
    "    similar_docs = db.similarity_search(query, k=5)\n",
    "    prompt = PromptTemplate(\n",
    "        template=\"{query}\\nContext: {context}\",\n",
    "        input_variables=[\"query\", \"context\"],\n",
    "    )\n",
    "    chain = load_qa_chain(llm, prompt = prompt, chain_type=\"stuff\")\n",
    "    print(chain.run(input_documents=similar_docs, query = query))\n"
   ],
   "outputs": [
    {
     "ename": "NameError",
     "evalue": "name 'db' is not defined",
     "output_type": "error",
     "traceback": [
      "\u001B[31m---------------------------------------------------------------------------\u001B[39m",
      "\u001B[31mNameError\u001B[39m                                 Traceback (most recent call last)",
      "\u001B[36mCell\u001B[39m\u001B[36m \u001B[39m\u001B[32mIn[10]\u001B[39m\u001B[32m, line 7\u001B[39m\n\u001B[32m      5\u001B[39m     \u001B[38;5;28mprint\u001B[39m(rag.run(query))\n\u001B[32m      6\u001B[39m \u001B[38;5;28;01melse\u001B[39;00m:\n\u001B[32m----> \u001B[39m\u001B[32m7\u001B[39m     similar_docs = \u001B[43mdb\u001B[49m.similarity_search(query, k=\u001B[32m5\u001B[39m)\n\u001B[32m      8\u001B[39m     prompt = PromptTemplate(\n\u001B[32m      9\u001B[39m         template=\u001B[33m\"\u001B[39m\u001B[38;5;132;01m{query}\u001B[39;00m\u001B[38;5;130;01m\\n\u001B[39;00m\u001B[33mContext: \u001B[39m\u001B[38;5;132;01m{context}\u001B[39;00m\u001B[33m\"\u001B[39m,\n\u001B[32m     10\u001B[39m         input_variables=[\u001B[33m\"\u001B[39m\u001B[33mquery\u001B[39m\u001B[33m\"\u001B[39m, \u001B[33m\"\u001B[39m\u001B[33mcontext\u001B[39m\u001B[33m\"\u001B[39m],\n\u001B[32m     11\u001B[39m     )\n\u001B[32m     12\u001B[39m     chain = load_qa_chain(llm, prompt = prompt, chain_type=\u001B[33m\"\u001B[39m\u001B[33mstuff\u001B[39m\u001B[33m\"\u001B[39m)\n",
      "\u001B[31mNameError\u001B[39m: name 'db' is not defined"
     ]
    }
   ],
   "execution_count": 10
  },
  {
   "metadata": {},
   "cell_type": "code",
   "outputs": [],
   "execution_count": null,
   "source": ""
  }
 ],
 "metadata": {
  "kernelspec": {
   "display_name": "Python 3 (ipykernel)",
   "language": "python",
   "name": "python3"
  },
  "language_info": {
   "codemirror_mode": {
    "name": "ipython",
    "version": 3
   },
   "file_extension": ".py",
   "mimetype": "text/x-python",
   "name": "python",
   "nbconvert_exporter": "python",
   "pygments_lexer": "ipython3",
   "version": "3.10.11"
  }
 },
 "nbformat": 4,
 "nbformat_minor": 2
}
