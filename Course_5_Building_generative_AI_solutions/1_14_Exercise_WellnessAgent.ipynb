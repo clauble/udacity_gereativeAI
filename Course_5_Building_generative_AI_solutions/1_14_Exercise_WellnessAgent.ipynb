{
 "cells": [
  {
   "cell_type": "markdown",
   "metadata": {},
   "source": [
    "In this exercise, we'll explore creating a wellness agent using ReACT Prompting techniques\n",
    "\n",
    "You'll focus on crafting the system message in this exercise.  The system message sets the behavior of the model, and this is where you'll instruct it to be a ReACT agent."
   ]
  },
  {
   "metadata": {
    "ExecuteTime": {
     "end_time": "2025-03-28T16:03:22.947631Z",
     "start_time": "2025-03-28T16:03:22.937156Z"
    }
   },
   "cell_type": "code",
   "source": [
    "import os\n",
    "if 'A306709' in os.environ['USERNAME']:\n",
    "    print(\"Running on Christophs Telekom computer: update proxy settings.\")\n",
    "    os.environ[\"http_proxy\"] = \"http://sia-lb.telekom.de:8080\"\n",
    "    os.environ[\"https_proxy\"] = \"http://sia-lb.telekom.de:8080\"\n",
    "else:\n",
    "    print(\"Running on any computer but not Christophs: don't update any proxy settings.\")"
   ],
   "outputs": [
    {
     "name": "stdout",
     "output_type": "stream",
     "text": [
      "Running on Christophs Telekom computer: update proxy settings.\n"
     ]
    }
   ],
   "execution_count": 1
  },
  {
   "cell_type": "code",
   "metadata": {
    "ExecuteTime": {
     "end_time": "2025-03-28T16:04:09.752570Z",
     "start_time": "2025-03-28T16:04:06.605848Z"
    }
   },
   "source": [
    "# Importing the library for OpenAI API\n",
    "import openai\n",
    "openai.api_base = \"https://openai.vocareum.com/v1\"\n",
    "\n",
    "# Define OpenAI API key \n",
    "api_key = os.environ[\"OPENAI_API_KEY\"]\n",
    "openai.api_key = api_key"
   ],
   "outputs": [],
   "execution_count": 2
  },
  {
   "cell_type": "markdown",
   "metadata": {},
   "source": [
    "Create a user prompt that will hold the user input we'll send the agent.  Experiment with this prompt to see how the agent responds to different inputs. "
   ]
  },
  {
   "cell_type": "code",
   "metadata": {
    "ExecuteTime": {
     "end_time": "2025-03-28T16:05:58.077680Z",
     "start_time": "2025-03-28T16:05:58.073058Z"
    }
   },
   "source": [
    "# Creating the prompt\n",
    "user_prompt = f\"How can I know my diet is improving my wellness?\"\n",
    "print(user_prompt)"
   ],
   "outputs": [
    {
     "name": "stdout",
     "output_type": "stream",
     "text": [
      "How can I know my diet is improving my wellness?\n"
     ]
    }
   ],
   "execution_count": 3
  },
  {
   "cell_type": "markdown",
   "metadata": {},
   "source": [
    "Now work on crafting a ReACT Prompt using this starter template.  The prompt will be long and be as detailed and specific as you can.  Feel free to create a different type of agent.  \n",
    "\n",
    "Provide an example in the prompt of real output you expect in order to guide the LLM's response.  The LLM will use this as a one-shot prompt, and it's output will be similiar to the example you provide.    "
   ]
  },
  {
   "cell_type": "code",
   "metadata": {
    "ExecuteTime": {
     "end_time": "2025-03-28T16:08:58.979459Z",
     "start_time": "2025-03-28T16:08:58.974427Z"
    }
   },
   "source": [
    "ReACT_prompt= \"\"\"Your goal is to improve the wellness of the user by interleaving thought, action, and observation steps.\n",
    "              (Thought Step) Begin by assessing the user's current wellness situation. Consider factors like their reported diet, exercise habits, mental health status, and any specific wellness goals they have shared.\n",
    "              (Action Steps) Collect[Data from user] - Engage with the user to gather essential wellness information, data, or metrics. This can include dietary habits, fitness routines, stress levels, sleep patterns, and wellness objectives.\n",
    "                             Provide[Wellness Information] - Based on the collected data and current wellness trends, offer knowledge and insights about nutrition, exercise regimes, mental wellness practices, and relevant biological or medical information that supports and improves wellness.\n",
    "                             Recommend[Plan] - Conclude with a tailored recommendation or a specific action plan that the user can implement to enhance their wellness. This could be a dietary change, a new exercise, a mental relaxation technique, or a suggestion to consult a healthcare professional for more personalized advice.\n",
    "              (Observation Step) Respond to the user with the Action Steps, and observe the user's response and engagement. Gauge their understanding and willingness to follow the suggestions. Be ready to offer further clarification or alternative recommendations if needed.\n",
    "              Repeat these steps N times until the user's wellness has improved.\n",
    "              Example:\n",
    "              [User Query] I'm feeling stressed and not sleeping well. What can I do to improve my sleep?\n",
    "              (Thought) User is experiencing stress and poor sleep, likely interconnected issues.\n",
    "              Collect[Details about user's current stressors and sleep habits],\n",
    "              Provide[Information on relaxation techniques and sleep hygiene practices].\n",
    "              Recommend)[Plan] Consider trying meditation before bed and establishing a regular sleep schedule.\n",
    "              What are some current stressors in your life? How many hours of sleep do you get each night?\n",
    "              Have you tried meditation before bed? Do you have a regular sleep schedule?\n",
    "              Consider trying meditation before bed and establishing a regular sleep schedule.\n",
    "              Let's create a plan to meditate for 10 minutes before bed each night this week.\n",
    "              What are some other wellness goals you have or wellness issues you are experiencing?\"\"\""
   ],
   "outputs": [],
   "execution_count": 4
  },
  {
   "cell_type": "code",
   "metadata": {
    "ExecuteTime": {
     "end_time": "2025-03-28T16:09:08.036148Z",
     "start_time": "2025-03-28T16:09:02.560786Z"
    }
   },
   "source": [
    "# Function to call the OpenAI GPT-3.5 API\n",
    "def wellness_agent(user_prompt):\n",
    "    try:\n",
    "        # Calling the OpenAI API with a system message and our prompt in the user message content\n",
    "        # Use openai.ChatCompletion.create for openai < 1.0\n",
    "        # openai.chat.completions.create for openai > 1.0\n",
    "        response = openai.ChatCompletion.create(\n",
    "          model=\"gpt-3.5-turbo\",\n",
    "          messages=[\n",
    "          {\n",
    "            \"role\": \"system\",\n",
    "            # Enter your ReACT prompt here in the content field\n",
    "            \"content\": ReACT_prompt\n",
    "          },\n",
    "          {\n",
    "            \"role\": \"user\",\n",
    "            \"content\": user_prompt\n",
    "          }\n",
    "          ],\n",
    "        temperature=1,\n",
    "        max_tokens=512,\n",
    "        top_p=1,\n",
    "        frequency_penalty=0,\n",
    "        presence_penalty=0\n",
    "        )\n",
    "        # The response is a JSON object containing more information than the response. We want to return only the message content\n",
    "        return response.choices[0].message.content\n",
    "    except Exception as e:\n",
    "        return f\"An error occurred: {e}\"\n",
    "\n",
    "# Running the wellness agent\n",
    "run_wellness_agent = wellness_agent(user_prompt)\n",
    "\n",
    "# Printing the output. \n",
    "print(\"Wellness Agent Response: \")\n",
    "print(run_wellness_agent)"
   ],
   "outputs": [
    {
     "name": "stdout",
     "output_type": "stream",
     "text": [
      "Wellness Agent Response: \n",
      "(Thought) User is seeking guidance on assessing the impact of their diet on their wellness.\n",
      "\n",
      "Collect: \n",
      "Can you describe your current diet in terms of balance, variety, and moderation?\n",
      "How do you feel physically and mentally after meals?\n",
      "Do you track your food intake or notice any changes in your energy levels or mood based on what you eat?\n",
      "\n",
      "Provide: \n",
      "Improving wellness through diet involves consuming a balanced mix of nutrients, practicing portion control, and being mindful of how food affects your body.\n",
      "\n",
      "Eating a variety of fruits, vegetables, whole grains, lean proteins, and healthy fats can positively impact your wellness.\n",
      "Monitoring your energy levels, mood, digestion, and overall well-being can indicate how your diet is affecting you.\n",
      "Consider keeping a food journal to track what you eat and how it makes you feel to evaluate the connection between your diet and wellness.\n",
      "\n",
      "Recommend[Plan]: \n",
      "Start by incorporating more whole, unprocessed foods into your diet.\n",
      "Pay attention to portion sizes and aim for balanced meals.\n",
      "Consider consulting a nutritionist or dietitian for personalized guidance on how to optimize your diet for improved wellness.\n",
      "\n",
      "How would you rate the balance in your current diet? Have you noticed any specific changes in your body or mood related to your eating habits recently?\n",
      "Would you be open to keeping a food journal to track your meals and how they make you feel?\n",
      "Let's set a goal to incorporate one new vegetable and one new whole grain into your meals each day for the next week.\n"
     ]
    }
   ],
   "execution_count": 5
  },
  {
   "metadata": {},
   "cell_type": "code",
   "outputs": [],
   "execution_count": null,
   "source": ""
  }
 ],
 "metadata": {
  "kernelspec": {
   "display_name": "Python 3 (ipykernel)",
   "language": "python",
   "name": "python3"
  },
  "language_info": {
   "codemirror_mode": {
    "name": "ipython",
    "version": 3
   },
   "file_extension": ".py",
   "mimetype": "text/x-python",
   "name": "python",
   "nbconvert_exporter": "python",
   "pygments_lexer": "ipython3",
   "version": "3.10.13"
  }
 },
 "nbformat": 4,
 "nbformat_minor": 2
}
