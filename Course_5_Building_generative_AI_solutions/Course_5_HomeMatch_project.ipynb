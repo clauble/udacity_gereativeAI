{
 "cells": [
  {
   "cell_type": "markdown",
   "id": "a108af04",
   "metadata": {},
   "source": [
    "This is a starter notebook for the project, you'll have to import the libraries you'll need, you can find a list of the ones available in this workspace in the requirements.txt file in this workspace. "
   ]
  },
  {
   "cell_type": "code",
   "id": "6554fd4c",
   "metadata": {},
   "source": [
    "import os\n",
    "\n",
    "if 'A306709' in os.environ['USERNAME']:\n",
    "    print(\"Running on Christoph's Telekom computer: openAI api key is already set in environment\")\n",
    "else:\n",
    "    print(\"Set openAI api key manually:\")\n",
    "    os.environ[\"OPENAI_API_KEY\"] = \"YOUR API KEY\"\n",
    "\n",
    "os.environ[\"OPENAI_API_BASE\"] = \"https://openai.vocareum.com/v1\"\n",
    "\n",
    "from langchain.llms import OpenAI\n"
   ],
   "outputs": [],
   "execution_count": null
  },
  {
   "metadata": {},
   "cell_type": "code",
   "source": [
    "###\n",
    "### Section 1: generate 10 arbitrary home descriptions using chat-gpt\n",
    "### Saves the descriptions in a file\n",
    "###\n",
    "import openai\n",
    "from pathlib import Path\n",
    "\n",
    "house_offerings_filename = \"house-offerings.txt\"\n",
    "prompt = \"\"\"\n",
    "Create 10 imaginary house offerings.\n",
    "I'll give you the mandatory structure and you fill the blancs (marked with three dots: \"...\") with imaginary but realistic values.\n",
    "Vary with plausible values, but use only exactly 4 different kind of neighbourhoods. Nevertheless, create 10 offerings, so that the neighbourhood values will repeat sometimes.\n",
    "### mandatory structure:\n",
    "Neighborhood: ...\n",
    "Price: ...\n",
    "Bedrooms: ...\n",
    "Bathrooms: ...\n",
    "House Size: ... sqft\n",
    "Description: ...\n",
    "Neighborhood Description: ...\n",
    "### here is an example what I expect the result to be likely (don't use exactly this!):\n",
    "Neighborhood: Green Oaks\n",
    "Price: $800,000\n",
    "Bedrooms: 3\n",
    "Bathrooms: 2\n",
    "House Size: 2,000 sqft\n",
    "\n",
    "Description: Welcome to this eco-friendly oasis nestled in the heart of Green Oaks. This charming 3-bedroom, 2-bathroom home boasts energy-efficient features such as solar panels and a well-insulated structure. Natural light floods the living spaces, highlighting the beautiful hardwood floors and eco-conscious finishes. The open-concept kitchen and dining area lead to a spacious backyard with a vegetable garden, perfect for the eco-conscious family. Embrace sustainable living without compromising on style in this Green Oaks gem.\n",
    "\n",
    "Neighborhood Description: Green Oaks is a close-knit, environmentally-conscious community with access to organic grocery stores, community gardens, and bike paths. Take a stroll through the nearby Green Oaks Park or grab a cup of coffee at the cozy Green Bean Cafe. With easy access to public transportation and bike lanes, commuting is a breeze.\n",
    "\"\"\"\n",
    "\n",
    "if Path(house_offerings_filename).is_file():\n",
    "    print(\"House offerings already exist. Don't generate them again. Save tokens instead.\")\n",
    "else:\n",
    "    response = openai.ChatCompletion.create(\n",
    "        model=\"gpt-3.5-turbo\",\n",
    "        messages=[\n",
    "            {\n",
    "                \"role\": \"system\",\n",
    "                \"content\": \"You are a writer for house offerings. \"\n",
    "            },\n",
    "            {\n",
    "                \"role\": \"user\",\n",
    "                \"content\": prompt\n",
    "            }\n",
    "        ],\n",
    "        temperature=0.5,\n",
    "        top_p=1,\n",
    "        frequency_penalty=0,\n",
    "        presence_penalty=0\n",
    "    )\n",
    "    # The response is a JSON object containing more information than the generated post. We want to return only the message content\n",
    "    offerings = response.choices[0].message.content\n",
    "\n",
    "    with open(house_offerings_filename, \"w\") as file:\n",
    "        file.write(offerings)\n",
    "\n",
    "    print(offerings)\n"
   ],
   "id": "7badc14dab5dee58",
   "outputs": [],
   "execution_count": null
  },
  {
   "metadata": {},
   "cell_type": "code",
   "source": [
    "###\n",
    "### Section 2: load the house offerings from txt file, create embeddings and save them to a vector database\n",
    "### hint: see Exercise 3&4 from chapter 2.11, 2.14 how to use lancedb\n",
    "###\n",
    "import numpy as np\n",
    "from sentence_transformers import SentenceTransformer\n",
    "import lancedb\n",
    "from lancedb.pydantic import vector, LanceModel\n",
    "\n",
    "EMBEDDINGS_MODEL_NAME = 'paraphrase-MiniLM-L6-v2'\n",
    "\n",
    "def generate_embeddings(description: str, neighborhood_description: str) -> np.ndarray:\n",
    "    model = SentenceTransformer(EMBEDDINGS_MODEL_NAME)\n",
    "    embeddings = model.encode(description + \"\\n\" + neighborhood_description)\n",
    "    return embeddings\n",
    "\n",
    "# find out the dimension of the embeddings (expected: 384) needed for table definition:\n",
    "arbitrary_embeddings = generate_embeddings(\"a\", \"b\")\n",
    "embeddings_dim = arbitrary_embeddings.shape[0]\n",
    "print(f\"dimension of embedding: {embeddings_dim}\")\n",
    "\n",
    "\n",
    "class HouseOffer(LanceModel):\n",
    "    embeddings: vector(embeddings_dim)\n",
    "    neighborhood: str\n",
    "    price: float\n",
    "    num_bedrooms: float\n",
    "    num_bathrooms: float\n",
    "    house_size: float\n",
    "    description: str\n",
    "    neighborhood_description: str\n",
    "\n",
    "db = lancedb.connect(\"./house-offerings-db\")\n",
    "table_name = \"house_offers\"\n",
    "db.drop_table(table_name, ignore_missing=True)\n",
    "table = db.create_table(table_name, schema=HouseOffer)\n",
    "\n",
    "# do a very primitive parsing of the text file, reading it line by line:\n",
    "with open(house_offerings_filename, \"r\") as file:\n",
    "    house_data_array = file.read().split(\"\\n\")\n",
    "\n",
    "for current_line in house_data_array:\n",
    "    if \"Neighborhood:\" in current_line:\n",
    "        current_neighborhood = current_line.split(\":\")[1].strip()\n",
    "    if \"Price: $\" in current_line:\n",
    "        current_price = current_line.split(\"$\")[1].strip().replace(\",\", \"\")\n",
    "    if \"Bedrooms:\" in current_line:\n",
    "        current_num_bedrooms = current_line.split(\":\")[1].strip().replace(\",\", \"\")\n",
    "    if \"Bathrooms:\" in current_line:\n",
    "        current_num_bathromms = current_line.split(\":\")[1].strip().replace(\",\", \"\")\n",
    "    if \"House Size:\" in current_line:\n",
    "        current_house_size = current_line.split(\":\")[1].replace(\",\", \"\").replace(\"sqft\", \"\").strip()\n",
    "    if \"Description:\" in current_line and not \"Neighborhood Description:\" in current_line:\n",
    "        current_description = current_line.split(\":\")[1].strip()\n",
    "    if \"Neighborhood Description:\" in current_line:\n",
    "        current_neighborhood_description = current_line.split(\":\")[1].strip()\n",
    "        # last row of house offer, row complete, create entry to db table:\n",
    "        house_offer = HouseOffer(\n",
    "            embeddings = generate_embeddings(current_description, current_neighborhood_description),\n",
    "            neighborhood = current_neighborhood,\n",
    "            price = current_price,\n",
    "            num_bedrooms = current_num_bedrooms,\n",
    "            num_bathrooms = current_num_bathromms,\n",
    "            house_size = current_house_size,\n",
    "            description = current_description,\n",
    "            neighborhood_description = current_neighborhood_description\n",
    "        )\n",
    "        table.add([dict(house_offer)])\n",
    "\n",
    "# assure that we created 10 rows:\n",
    "assert len(table) == 10\n"
   ],
   "id": "6325ac420b2801a8",
   "outputs": [],
   "execution_count": null
  },
  {
   "metadata": {},
   "cell_type": "code",
   "source": [
    "# have a look inside the db\n",
    "table.search().to_pydantic(HouseOffer)"
   ],
   "id": "5466e558a01ce563",
   "outputs": [],
   "execution_count": null
  },
  {
   "metadata": {
    "ExecuteTime": {
     "end_time": "2025-04-03T16:34:03.179965Z",
     "start_time": "2025-04-03T16:34:03.176289Z"
    }
   },
   "cell_type": "code",
   "source": [
    "###\n",
    "### Section 3: Searching Based on Preferences\n",
    "###\n",
    "def seek_matching_offers(answers, num_rows):\n",
    "    query_vector = generate_embeddings(\"\", \"\\n\".join(answers))\n",
    "    results = table.search(query_vector).limit(num_rows).to_pydantic(HouseOffer)\n",
    "    return results\n"
   ],
   "id": "eb73e7e66373e1dc",
   "outputs": [],
   "execution_count": 64
  },
  {
   "metadata": {
    "ExecuteTime": {
     "end_time": "2025-04-03T18:53:01.373786Z",
     "start_time": "2025-04-03T18:53:01.367965Z"
    }
   },
   "cell_type": "code",
   "source": [
    "###\n",
    "### Section 4: Personalizing Listing Descriptions\n",
    "###\n",
    "import openai\n",
    "\n",
    "# helper function: create a new-line-separated list of questions and answers from the given arrays (each row consists of one \"question: answer\" pair):\n",
    "def create_q_a_pairs_from_arrays(user_questions, user_answers):\n",
    "    q_a_list = []\n",
    "    for q, a in zip(user_questions, user_answers):\n",
    "        q_a_list.append(f\"{q}: {a}\")\n",
    "    return \"\\n\".join(q_a_list)\n",
    "\n",
    "def create_augmention_prompt(description, neighborhood_description, user_questions, user_answers) -> str:\n",
    "    return f\"\"\"\n",
    "I give you two parts of a house offering: a description of the house itself and a description of its neighborhood.\n",
    "Furthermore I give you some preferences of my client in the form of questions and the client's answers to these questions.\n",
    "Your task is to summarize the house description and the neighborhood description in an appealing way that emphasizes the given client's preferences.\n",
    "###\n",
    "House description: {description}\n",
    "###\n",
    "Neighborhood description: {neighborhood_description}\n",
    "###\n",
    "Client's preferences defined by 5 questions and answers:\n",
    "{create_q_a_pairs_from_arrays(user_questions, user_answers)}\n",
    "\"\"\"\n",
    "\n",
    "def augment_offer_according_preferences(house_offer: HouseOffer, user_questions, user_answers):\n",
    "    augment_prompt = create_augmention_prompt(house_offer.description, house_offer.neighborhood_description, user_questions, user_answers)\n",
    "    augment_response = openai.ChatCompletion.create(\n",
    "        model=\"gpt-3.5-turbo\",\n",
    "        messages=[\n",
    "            {\n",
    "                \"role\": \"system\",\n",
    "                \"content\": \"Your job is to rewrite house offerings so that they sound better according to the prefernces of my client. \"\n",
    "            },\n",
    "            {\n",
    "                \"role\": \"user\",\n",
    "                \"content\": augment_prompt\n",
    "            }\n",
    "        ],\n",
    "        temperature=0.5,\n",
    "        top_p=1,\n",
    "        frequency_penalty=0,\n",
    "        presence_penalty=0\n",
    "    )\n",
    "    return augment_response.choices[0].message.content\n"
   ],
   "id": "f9c93d2b72f71132",
   "outputs": [],
   "execution_count": 99
  },
  {
   "metadata": {
    "ExecuteTime": {
     "end_time": "2025-04-03T18:53:04.076152Z",
     "start_time": "2025-04-03T18:53:04.071555Z"
    }
   },
   "cell_type": "code",
   "source": [
    "###\n",
    "### Section 5: Proceed given test data and show results\n",
    "###\n",
    "def find_and_augment_and_print_offers(user_questions, user_answers, num_results):\n",
    "    offers = seek_matching_offers(answers, num_results)\n",
    "    index = 1\n",
    "    for offer in offers:\n",
    "        print(f\"********** Offer no. {index} **********\")\n",
    "        print(\"*** part 1: original offer:\")\n",
    "        print(offer)\n",
    "        print(\"*** part 2: emphasize client's prefernces:\")\n",
    "        print(augment_offer_according_preferences(offer, user_questions, user_answers))\n",
    "        index += 1\n"
   ],
   "id": "ab8c59505b111502",
   "outputs": [],
   "execution_count": 100
  },
  {
   "metadata": {
    "ExecuteTime": {
     "end_time": "2025-04-03T18:53:20.887382Z",
     "start_time": "2025-04-03T18:53:06.518474Z"
    }
   },
   "cell_type": "code",
   "source": [
    "###\n",
    "### Test 1: now lets test it with the test data given in the exercise description:\n",
    "###\n",
    "questions = [\n",
    "    \"How big do you want your house to be?\",\n",
    "    \"What are 3 most important things for you in choosing this property?\",\n",
    "    \"Which amenities would you like?\",\n",
    "    \"Which transportation options are important to you?\",\n",
    "    \"How urban do you want your neighborhood to be?\",\n",
    "]\n",
    "answers = [\n",
    "    \"A comfortable three-bedroom house with a spacious kitchen and a cozy living room.\",\n",
    "    \"A quiet neighborhood, good local schools, and convenient shopping options.\",\n",
    "    \"A backyard for gardening, a two-car garage, and a modern, energy-efficient heating system.\",\n",
    "    \"Easy access to a reliable bus line, proximity to a major highway, and bike-friendly roads.\",\n",
    "    \"A balance between suburban tranquility and access to urban amenities like restaurants and theaters.\"\n",
    "]\n",
    "\n",
    "find_and_augment_and_print_offers(questions, answers, 3)"
   ],
   "id": "3c2118e0ccf9d8f9",
   "outputs": [
    {
     "name": "stdout",
     "output_type": "stream",
     "text": [
      "********** Offer no. 1 **********\n",
      "*** part 1: original offer:\n",
      "embeddings=FixedSizeList(dim=384) neighborhood='Maple Grove' price=500000.0 num_bedrooms=3.0 num_bathrooms=2.5 house_size=2000.0 description='Nestled in the charming Maple Grove neighborhood, this 3-bedroom, 2.5-bathroom home exudes warmth and character. The updated kitchen features quartz countertops and a breakfast nook, while the cozy family room offers a fireplace and built-in bookshelves. The backyard oasis includes a deck for outdoor gatherings and a lush garden.' neighborhood_description=\"Maple Grove is a tight-knit community with a strong sense of pride in homeownership. Residents can enjoy the local farmers' market, community events, and walking trails throughout the neighborhood. Maple Grove offers a peaceful setting with easy access to schools, parks, and shopping centers.\"\n",
      "*** part 2: emphasize client's prefernces:\n",
      "Summary:\n",
      "This charming 3-bedroom, 2.5-bathroom home in Maple Grove offers a comfortable living space with a spacious kitchen and cozy family room. The updated kitchen with quartz countertops and a breakfast nook is perfect for your culinary adventures. The cozy family room features a fireplace and built-in bookshelves, ideal for relaxing evenings. The backyard oasis with a deck and lush garden is perfect for outdoor gatherings and gardening.\n",
      "\n",
      "Maple Grove is a tight-knit community that aligns perfectly with your preferences. It offers a peaceful setting with a strong sense of pride in homeownership. You'll enjoy the local farmers' market, community events, and walking trails in the neighborhood. With easy access to good local schools, parks, and shopping centers, Maple Grove provides the convenience you desire. The balance between suburban tranquility and access to urban amenities like restaurants and theaters ensures you have everything you need within reach.\n",
      "********** Offer no. 2 **********\n",
      "*** part 1: original offer:\n",
      "embeddings=FixedSizeList(dim=384) neighborhood='Maple Grove' price=480000.0 num_bedrooms=3.0 num_bathrooms=2.0 house_size=1900.0 description='Nestled in the serene Maple Grove neighborhood, this 3-bedroom, 2-bathroom home offers comfort and style. The home features a cozy family room with a fireplace, a modern kitchen with granite countertops, and a formal dining room for entertaining. The backyard retreat includes a deck for outdoor gatherings and a lush garden.' neighborhood_description='Maple Grove is a close-knit community with a strong sense of community pride and engagement. Residents can participate in local events, visit the nearby parks and playgrounds, and enjoy the convenience of shopping centers and schools within the neighborhood. Maple Grove offers a peaceful environment for families and professionals alike.'\n",
      "*** part 2: emphasize client's prefernces:\n",
      "Summary:\n",
      "This charming 3-bedroom, 2-bathroom home in Maple Grove offers a blend of comfort and style. The cozy family room with a fireplace, modern kitchen with granite countertops, and formal dining room cater to your desire for a spacious kitchen and cozy living room. The backyard retreat with a deck and lush garden fulfills your wish for a gardening space. \n",
      "\n",
      "Maple Grove, a close-knit community, provides the quiet neighborhood you seek, with good local schools and convenient shopping options nearby. Residents can engage in local events, visit parks, and enjoy the peaceful environment ideal for families and professionals. The neighborhood strikes a perfect balance between suburban tranquility and access to urban amenities like shopping centers and schools. Easy access to a reliable bus line, proximity to a major highway, and bike-friendly roads cater to your transportation preferences.\n",
      "********** Offer no. 3 **********\n",
      "*** part 1: original offer:\n",
      "embeddings=FixedSizeList(dim=384) neighborhood='Oak Ridge' price=750000.0 num_bedrooms=3.0 num_bathrooms=2.0 house_size=2200.0 description='Welcome to this elegant 3-bedroom, 2-bathroom home in the prestigious Oak Ridge neighborhood. The home features a formal dining room, cozy fireplace in the living room, and a bright sunroom overlooking the landscaped backyard. The spacious master suite includes a spa-like bathroom with a soaking tub and separate shower.' neighborhood_description='Oak Ridge is a well-established community with tree-lined streets and upscale homes. Residents can enjoy the nearby country club for golf and social events or take a short drive to the bustling downtown area for shopping and dining. Oak Ridge offers a peaceful retreat with easy access to urban amenities.'\n",
      "*** part 2: emphasize client's prefernces:\n",
      "Welcome to this charming 3-bedroom, 2-bathroom home in the prestigious Oak Ridge neighborhood, perfectly aligning with your preferences. The house boasts a cozy fireplace in the living room, a formal dining room, and a bright sunroom overlooking the landscaped backyard, ideal for your gardening aspirations. The spacious master suite includes a luxurious spa-like bathroom with a soaking tub and separate shower, offering you a relaxing retreat within your own home.\n",
      "\n",
      "Nestled in the well-established Oak Ridge community with its tree-lined streets and upscale homes, you'll find the tranquility you seek. Enjoy the nearby country club for golf and social events, and take advantage of the bustling downtown area just a short drive away for convenient shopping and dining options. Oak Ridge strikes the perfect balance between suburban peace and access to urban amenities, ensuring you have the best of both worlds at your doorstep.\n"
     ]
    }
   ],
   "execution_count": 101
  },
  {
   "metadata": {
    "ExecuteTime": {
     "end_time": "2025-04-03T18:53:32.503377Z",
     "start_time": "2025-04-03T18:53:27.573674Z"
    }
   },
   "cell_type": "code",
   "source": [
    "###\n",
    "### Test 2: lets test it with some simple questions and answers created by myself:\n",
    "###\n",
    "questions = [\n",
    "    \"Which is your preferred neighborhood?\",\n",
    "    \"What is the only absolutely important thing you need in your new house?\"\n",
    "]\n",
    "answers = [\n",
    "    \"I love the Maple Grove region.\",\n",
    "    \"I need to have a fireplace.\"\n",
    "]\n",
    "\n",
    "find_and_augment_and_print_offers(questions, answers, 1)\n"
   ],
   "id": "a3b14e5a92e4953e",
   "outputs": [
    {
     "name": "stdout",
     "output_type": "stream",
     "text": [
      "********** Offer no. 1 **********\n",
      "*** part 1: original offer:\n",
      "embeddings=FixedSizeList(dim=384) neighborhood='Maple Grove' price=480000.0 num_bedrooms=3.0 num_bathrooms=2.0 house_size=1900.0 description='Nestled in the serene Maple Grove neighborhood, this 3-bedroom, 2-bathroom home offers comfort and style. The home features a cozy family room with a fireplace, a modern kitchen with granite countertops, and a formal dining room for entertaining. The backyard retreat includes a deck for outdoor gatherings and a lush garden.' neighborhood_description='Maple Grove is a close-knit community with a strong sense of community pride and engagement. Residents can participate in local events, visit the nearby parks and playgrounds, and enjoy the convenience of shopping centers and schools within the neighborhood. Maple Grove offers a peaceful environment for families and professionals alike.'\n",
      "*** part 2: emphasize client's prefernces:\n",
      "Summary:\n",
      "This charming 3-bedroom, 2-bathroom home in the sought-after Maple Grove neighborhood is the perfect blend of comfort and style. The cozy family room with a fireplace, modern kitchen with granite countertops, and formal dining room make it ideal for entertaining. Outside, the backyard retreat features a deck for outdoor gatherings and a lush garden. Maple Grove, known for its strong sense of community pride and engagement, offers a peaceful environment with nearby parks, playgrounds, shopping centers, and schools. It's the ideal setting for families and professionals seeking a close-knit community with all the amenities.\n"
     ]
    }
   ],
   "execution_count": 102
  },
  {
   "metadata": {},
   "cell_type": "code",
   "outputs": [],
   "execution_count": null,
   "source": "",
   "id": "d50f55ab65f6018b"
  }
 ],
 "metadata": {
  "kernelspec": {
   "display_name": "Python 3 (ipykernel)",
   "language": "python",
   "name": "python3"
  },
  "language_info": {
   "codemirror_mode": {
    "name": "ipython",
    "version": 3
   },
   "file_extension": ".py",
   "mimetype": "text/x-python",
   "name": "python",
   "nbconvert_exporter": "python",
   "pygments_lexer": "ipython3",
   "version": "3.10.11"
  }
 },
 "nbformat": 4,
 "nbformat_minor": 5
}
